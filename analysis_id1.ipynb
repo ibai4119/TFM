{
 "cells": [
  {
   "cell_type": "markdown",
   "source": [],
   "metadata": {
    "collapsed": false
   }
  },
  {
   "cell_type": "code",
   "execution_count": 2,
   "outputs": [
    {
     "data": {
      "text/plain": "   meterId  sourceId  totalVehicles  provinceId  municipalityId  latitude   \n0      123         1            166          48              11   43.1954  \\\n1      118         1            160          48              11   43.1954   \n2      119         1            242          48              11   43.1954   \n3      120         1             94          48              11   43.1954   \n4      122         1            419          48              11   43.1954   \n\n   longitude  year  month  day  hour  minute  \n0    -2.8954  2022      5   10    17      30  \n1    -2.8954  2022      5   10    18       0  \n2    -2.8954  2022      5   10    18       0  \n3    -2.8954  2022      5   10    18       0  \n4    -2.8954  2022      5   10    18       0  ",
      "text/html": "<div>\n<style scoped>\n    .dataframe tbody tr th:only-of-type {\n        vertical-align: middle;\n    }\n\n    .dataframe tbody tr th {\n        vertical-align: top;\n    }\n\n    .dataframe thead th {\n        text-align: right;\n    }\n</style>\n<table border=\"1\" class=\"dataframe\">\n  <thead>\n    <tr style=\"text-align: right;\">\n      <th></th>\n      <th>meterId</th>\n      <th>sourceId</th>\n      <th>totalVehicles</th>\n      <th>provinceId</th>\n      <th>municipalityId</th>\n      <th>latitude</th>\n      <th>longitude</th>\n      <th>year</th>\n      <th>month</th>\n      <th>day</th>\n      <th>hour</th>\n      <th>minute</th>\n    </tr>\n  </thead>\n  <tbody>\n    <tr>\n      <th>0</th>\n      <td>123</td>\n      <td>1</td>\n      <td>166</td>\n      <td>48</td>\n      <td>11</td>\n      <td>43.1954</td>\n      <td>-2.8954</td>\n      <td>2022</td>\n      <td>5</td>\n      <td>10</td>\n      <td>17</td>\n      <td>30</td>\n    </tr>\n    <tr>\n      <th>1</th>\n      <td>118</td>\n      <td>1</td>\n      <td>160</td>\n      <td>48</td>\n      <td>11</td>\n      <td>43.1954</td>\n      <td>-2.8954</td>\n      <td>2022</td>\n      <td>5</td>\n      <td>10</td>\n      <td>18</td>\n      <td>0</td>\n    </tr>\n    <tr>\n      <th>2</th>\n      <td>119</td>\n      <td>1</td>\n      <td>242</td>\n      <td>48</td>\n      <td>11</td>\n      <td>43.1954</td>\n      <td>-2.8954</td>\n      <td>2022</td>\n      <td>5</td>\n      <td>10</td>\n      <td>18</td>\n      <td>0</td>\n    </tr>\n    <tr>\n      <th>3</th>\n      <td>120</td>\n      <td>1</td>\n      <td>94</td>\n      <td>48</td>\n      <td>11</td>\n      <td>43.1954</td>\n      <td>-2.8954</td>\n      <td>2022</td>\n      <td>5</td>\n      <td>10</td>\n      <td>18</td>\n      <td>0</td>\n    </tr>\n    <tr>\n      <th>4</th>\n      <td>122</td>\n      <td>1</td>\n      <td>419</td>\n      <td>48</td>\n      <td>11</td>\n      <td>43.1954</td>\n      <td>-2.8954</td>\n      <td>2022</td>\n      <td>5</td>\n      <td>10</td>\n      <td>18</td>\n      <td>0</td>\n    </tr>\n  </tbody>\n</table>\n</div>"
     },
     "execution_count": 2,
     "metadata": {},
     "output_type": "execute_result"
    }
   ],
   "source": [
    "import pandas as pd\n",
    "\n",
    "data = pd.read_csv(\"final_data_to_train.csv\")\n",
    "filtered_data_id1 = data[data['sourceId'] == 1]\n",
    "\n",
    "filtered_data_id1.head()"
   ],
   "metadata": {
    "collapsed": false,
    "ExecuteTime": {
     "end_time": "2023-07-12T15:44:06.818304Z",
     "start_time": "2023-07-12T15:43:58.996947Z"
    }
   }
  },
  {
   "cell_type": "code",
   "execution_count": 2,
   "outputs": [
    {
     "name": "stdout",
     "output_type": "stream",
     "text": [
      "Number of rows data: 16028750\n",
      "Number of rows filtered: 1433928\n"
     ]
    }
   ],
   "source": [
    "print(\"Number of rows data:\", data.shape[0])\n",
    "print(\"Number of rows filtered:\", filtered_data_id1.shape[0])"
   ],
   "metadata": {
    "collapsed": false,
    "ExecuteTime": {
     "end_time": "2023-07-11T17:54:22.529578Z",
     "start_time": "2023-07-11T17:54:22.527970Z"
    }
   }
  },
  {
   "cell_type": "code",
   "execution_count": 3,
   "outputs": [],
   "source": [
    "filtered_data_id1 = filtered_data_id1.dropna()"
   ],
   "metadata": {
    "collapsed": false,
    "ExecuteTime": {
     "end_time": "2023-07-12T15:44:06.928179Z",
     "start_time": "2023-07-12T15:44:06.819551Z"
    }
   }
  },
  {
   "cell_type": "code",
   "execution_count": 4,
   "outputs": [
    {
     "name": "stdout",
     "output_type": "stream",
     "text": [
      "Number of rows filtered: 1432952\n"
     ]
    }
   ],
   "source": [
    "print(\"Number of rows filtered:\", filtered_data_id1.shape[0])"
   ],
   "metadata": {
    "collapsed": false,
    "ExecuteTime": {
     "end_time": "2023-07-11T17:54:22.668069Z",
     "start_time": "2023-07-11T17:54:22.604165Z"
    }
   }
  },
  {
   "cell_type": "code",
   "execution_count": 5,
   "outputs": [
    {
     "name": "stdout",
     "output_type": "stream",
     "text": [
      "provinceId\n",
      " 1     574773\n",
      " 48    539123\n",
      " 20    289820\n",
      "-1      29236\n",
      "Name: count, dtype: int64\n"
     ]
    }
   ],
   "source": [
    "counts = filtered_data_id1['provinceId'].value_counts()\n",
    "print(counts)"
   ],
   "metadata": {
    "collapsed": false,
    "ExecuteTime": {
     "end_time": "2023-07-11T17:54:22.668587Z",
     "start_time": "2023-07-11T17:54:22.632753Z"
    }
   }
  },
  {
   "cell_type": "code",
   "execution_count": 6,
   "outputs": [
    {
     "name": "stdout",
     "output_type": "stream",
     "text": [
      "         meterId  sourceId  totalVehicles  provinceId  municipalityId   \n",
      "2287         328         1              1          -1              -1  \\\n",
      "2288         327         1             26          -1              -1   \n",
      "2289         328         1              3          -1              -1   \n",
      "2290         327         1             27          -1              -1   \n",
      "2291         328         1              2          -1              -1   \n",
      "...          ...       ...            ...         ...             ...   \n",
      "1407044      328         1             57          -1              -1   \n",
      "1407045      327         1            185          -1              -1   \n",
      "1407046      328         1             51          -1              -1   \n",
      "1407047      327         1            189          -1              -1   \n",
      "1407048      328         1             48          -1              -1   \n",
      "\n",
      "         latitude  longitude  year  month  day  hour  minute  \n",
      "2287      42.9412    -2.2249  2022      5   15     5      30  \n",
      "2288      42.9412    -2.2249  2022      5   15     6       0  \n",
      "2289      42.9412    -2.2249  2022      5   15     6       0  \n",
      "2290      42.9412    -2.2249  2022      5   15     6      30  \n",
      "2291      42.9412    -2.2249  2022      5   15     6      30  \n",
      "...           ...        ...   ...    ...  ...   ...     ...  \n",
      "1407044   42.9412    -2.2249  2022      9   22    11      30  \n",
      "1407045   42.9412    -2.2249  2022      9   22    12       0  \n",
      "1407046   42.9412    -2.2249  2022      9   22    12       0  \n",
      "1407047   42.9412    -2.2249  2022      9   22    12      30  \n",
      "1407048   42.9412    -2.2249  2022      9   22    12      30  \n",
      "\n",
      "[29236 rows x 12 columns]\n"
     ]
    }
   ],
   "source": [
    "rows_with_province_id_1 = filtered_data_id1[filtered_data_id1['provinceId'] == -1]\n",
    "print(rows_with_province_id_1)\n"
   ],
   "metadata": {
    "collapsed": false,
    "ExecuteTime": {
     "end_time": "2023-07-11T17:54:22.668654Z",
     "start_time": "2023-07-11T17:54:22.633021Z"
    }
   }
  },
  {
   "cell_type": "code",
   "execution_count": 4,
   "outputs": [
    {
     "name": "stderr",
     "output_type": "stream",
     "text": [
      "/var/folders/gh/yt97y6vj0_79f2lwfvsdnjpw0000gn/T/ipykernel_31916/3459284140.py:2: UserWarning: Boolean Series key will be reindexed to match DataFrame index.\n",
      "  filtered_data_id1 = filtered_data_id1[data['provinceId'] != -1]\n"
     ]
    },
    {
     "data": {
      "text/plain": "   meterId  sourceId  totalVehicles  provinceId  municipalityId  latitude   \n0      123         1            166          48              11   43.1954  \\\n1      118         1            160          48              11   43.1954   \n2      119         1            242          48              11   43.1954   \n3      120         1             94          48              11   43.1954   \n4      122         1            419          48              11   43.1954   \n\n   longitude  year  month  day  hour  minute  \n0    -2.8954  2022      5   10    17      30  \n1    -2.8954  2022      5   10    18       0  \n2    -2.8954  2022      5   10    18       0  \n3    -2.8954  2022      5   10    18       0  \n4    -2.8954  2022      5   10    18       0  ",
      "text/html": "<div>\n<style scoped>\n    .dataframe tbody tr th:only-of-type {\n        vertical-align: middle;\n    }\n\n    .dataframe tbody tr th {\n        vertical-align: top;\n    }\n\n    .dataframe thead th {\n        text-align: right;\n    }\n</style>\n<table border=\"1\" class=\"dataframe\">\n  <thead>\n    <tr style=\"text-align: right;\">\n      <th></th>\n      <th>meterId</th>\n      <th>sourceId</th>\n      <th>totalVehicles</th>\n      <th>provinceId</th>\n      <th>municipalityId</th>\n      <th>latitude</th>\n      <th>longitude</th>\n      <th>year</th>\n      <th>month</th>\n      <th>day</th>\n      <th>hour</th>\n      <th>minute</th>\n    </tr>\n  </thead>\n  <tbody>\n    <tr>\n      <th>0</th>\n      <td>123</td>\n      <td>1</td>\n      <td>166</td>\n      <td>48</td>\n      <td>11</td>\n      <td>43.1954</td>\n      <td>-2.8954</td>\n      <td>2022</td>\n      <td>5</td>\n      <td>10</td>\n      <td>17</td>\n      <td>30</td>\n    </tr>\n    <tr>\n      <th>1</th>\n      <td>118</td>\n      <td>1</td>\n      <td>160</td>\n      <td>48</td>\n      <td>11</td>\n      <td>43.1954</td>\n      <td>-2.8954</td>\n      <td>2022</td>\n      <td>5</td>\n      <td>10</td>\n      <td>18</td>\n      <td>0</td>\n    </tr>\n    <tr>\n      <th>2</th>\n      <td>119</td>\n      <td>1</td>\n      <td>242</td>\n      <td>48</td>\n      <td>11</td>\n      <td>43.1954</td>\n      <td>-2.8954</td>\n      <td>2022</td>\n      <td>5</td>\n      <td>10</td>\n      <td>18</td>\n      <td>0</td>\n    </tr>\n    <tr>\n      <th>3</th>\n      <td>120</td>\n      <td>1</td>\n      <td>94</td>\n      <td>48</td>\n      <td>11</td>\n      <td>43.1954</td>\n      <td>-2.8954</td>\n      <td>2022</td>\n      <td>5</td>\n      <td>10</td>\n      <td>18</td>\n      <td>0</td>\n    </tr>\n    <tr>\n      <th>4</th>\n      <td>122</td>\n      <td>1</td>\n      <td>419</td>\n      <td>48</td>\n      <td>11</td>\n      <td>43.1954</td>\n      <td>-2.8954</td>\n      <td>2022</td>\n      <td>5</td>\n      <td>10</td>\n      <td>18</td>\n      <td>0</td>\n    </tr>\n  </tbody>\n</table>\n</div>"
     },
     "execution_count": 4,
     "metadata": {},
     "output_type": "execute_result"
    }
   ],
   "source": [
    "filtered_data_id1 = filtered_data_id1.reset_index(drop=True)\n",
    "filtered_data_id1 = filtered_data_id1[data['provinceId'] != -1]\n",
    "filtered_data_id1.head()"
   ],
   "metadata": {
    "collapsed": false,
    "ExecuteTime": {
     "end_time": "2023-07-12T15:44:13.000277Z",
     "start_time": "2023-07-12T15:44:12.820692Z"
    }
   }
  },
  {
   "cell_type": "code",
   "execution_count": 5,
   "metadata": {
    "ExecuteTime": {
     "end_time": "2023-07-12T15:44:19.388025Z",
     "start_time": "2023-07-12T15:44:18.699733Z"
    }
   },
   "outputs": [
    {
     "name": "stdout",
     "output_type": "stream",
     "text": [
      "done\n"
     ]
    }
   ],
   "source": [
    "from sklearn.preprocessing import StandardScaler\n",
    "from sklearn.compose import ColumnTransformer\n",
    "from sklearn.model_selection import train_test_split\n",
    "from sklearn.pipeline import Pipeline\n",
    "import xgboost as xgb\n",
    "\n",
    "X = filtered_data_id1.drop(columns=['sourceId', 'totalVehicles','minute', 'municipalityId'])\n",
    "\n",
    "y = filtered_data_id1['totalVehicles']\n",
    "\n",
    "numerical_vars = ['meterId','provinceId','latitude','longitude','year','month','day', 'hour']\n",
    "\n",
    "\n",
    "X_train, X_test, y_train, y_test = train_test_split(X, y, test_size=0.2, random_state=42)\n",
    "\n",
    "preprocessor = ColumnTransformer(\n",
    "    transformers = [('num', StandardScaler(), numerical_vars)]\n",
    ")\n",
    "\n",
    "pipeline = Pipeline([\n",
    "    ('preprocessor', preprocessor),\n",
    "    ('regressor', xgb.XGBRegressor(learning_rate=0.4, max_depth=5, n_estimators=800))\n",
    "])\n",
    "print(\"done\")"
   ]
  },
  {
   "cell_type": "code",
   "execution_count": 60,
   "outputs": [
    {
     "name": "stdout",
     "output_type": "stream",
     "text": [
      "Fitting 2 folds for each of 243 candidates, totalling 486 fits\n",
      "[CV 1/2] END regressor__learning_rate=0.35, regressor__max_depth=4, regressor__n_estimators=750, regressor__reg_alpha=0.1, regressor__reg_lambda=0.4;, score=-8064.222 total time=  40.2s\n",
      "[CV 2/2] END regressor__learning_rate=0.35, regressor__max_depth=4, regressor__n_estimators=750, regressor__reg_alpha=0.1, regressor__reg_lambda=0.4;, score=-9945.053 total time=  38.5s\n",
      "[CV 1/2] END regressor__learning_rate=0.35, regressor__max_depth=4, regressor__n_estimators=750, regressor__reg_alpha=0.1, regressor__reg_lambda=0.5;, score=-8051.214 total time=  39.8s\n",
      "[CV 2/2] END regressor__learning_rate=0.35, regressor__max_depth=4, regressor__n_estimators=750, regressor__reg_alpha=0.1, regressor__reg_lambda=0.5;, score=-9966.168 total time=  37.6s\n",
      "[CV 1/2] END regressor__learning_rate=0.35, regressor__max_depth=4, regressor__n_estimators=750, regressor__reg_alpha=0.1, regressor__reg_lambda=0.6;, score=-8035.925 total time=  38.0s\n",
      "[CV 2/2] END regressor__learning_rate=0.35, regressor__max_depth=4, regressor__n_estimators=750, regressor__reg_alpha=0.1, regressor__reg_lambda=0.6;, score=-9920.979 total time=  41.4s\n",
      "[CV 1/2] END regressor__learning_rate=0.35, regressor__max_depth=4, regressor__n_estimators=750, regressor__reg_alpha=0.01, regressor__reg_lambda=0.4;, score=-8064.221 total time=  41.1s\n",
      "[CV 2/2] END regressor__learning_rate=0.35, regressor__max_depth=4, regressor__n_estimators=750, regressor__reg_alpha=0.01, regressor__reg_lambda=0.4;, score=-9937.928 total time=  41.7s\n",
      "[CV 1/2] END regressor__learning_rate=0.35, regressor__max_depth=4, regressor__n_estimators=750, regressor__reg_alpha=0.01, regressor__reg_lambda=0.5;, score=-8051.213 total time=  37.2s\n",
      "[CV 2/2] END regressor__learning_rate=0.35, regressor__max_depth=4, regressor__n_estimators=750, regressor__reg_alpha=0.01, regressor__reg_lambda=0.5;, score=-9955.386 total time=  39.9s\n",
      "[CV 1/2] END regressor__learning_rate=0.35, regressor__max_depth=4, regressor__n_estimators=750, regressor__reg_alpha=0.01, regressor__reg_lambda=0.6;, score=-8035.923 total time=  40.3s\n",
      "[CV 2/2] END regressor__learning_rate=0.35, regressor__max_depth=4, regressor__n_estimators=750, regressor__reg_alpha=0.01, regressor__reg_lambda=0.6;, score=-9912.476 total time=  40.3s\n",
      "[CV 1/2] END regressor__learning_rate=0.35, regressor__max_depth=4, regressor__n_estimators=750, regressor__reg_alpha=0.2, regressor__reg_lambda=0.4;, score=-8052.039 total time=  38.2s\n",
      "[CV 2/2] END regressor__learning_rate=0.35, regressor__max_depth=4, regressor__n_estimators=750, regressor__reg_alpha=0.2, regressor__reg_lambda=0.4;, score=-9946.150 total time=  38.8s\n",
      "[CV 1/2] END regressor__learning_rate=0.35, regressor__max_depth=4, regressor__n_estimators=750, regressor__reg_alpha=0.2, regressor__reg_lambda=0.5;, score=-8051.215 total time=  37.9s\n",
      "[CV 2/2] END regressor__learning_rate=0.35, regressor__max_depth=4, regressor__n_estimators=750, regressor__reg_alpha=0.2, regressor__reg_lambda=0.5;, score=-9944.769 total time=  37.9s\n",
      "[CV 1/2] END regressor__learning_rate=0.35, regressor__max_depth=4, regressor__n_estimators=750, regressor__reg_alpha=0.2, regressor__reg_lambda=0.6;, score=-8035.926 total time=  37.5s\n",
      "[CV 2/2] END regressor__learning_rate=0.35, regressor__max_depth=4, regressor__n_estimators=750, regressor__reg_alpha=0.2, regressor__reg_lambda=0.6;, score=-9920.981 total time=  38.3s\n",
      "[CV 1/2] END regressor__learning_rate=0.35, regressor__max_depth=4, regressor__n_estimators=800, regressor__reg_alpha=0.1, regressor__reg_lambda=0.4;, score=-8035.929 total time=  40.9s\n",
      "[CV 2/2] END regressor__learning_rate=0.35, regressor__max_depth=4, regressor__n_estimators=800, regressor__reg_alpha=0.1, regressor__reg_lambda=0.4;, score=-9927.261 total time=  40.2s\n",
      "[CV 1/2] END regressor__learning_rate=0.35, regressor__max_depth=4, regressor__n_estimators=800, regressor__reg_alpha=0.1, regressor__reg_lambda=0.5;, score=-8033.345 total time=  39.9s\n",
      "[CV 2/2] END regressor__learning_rate=0.35, regressor__max_depth=4, regressor__n_estimators=800, regressor__reg_alpha=0.1, regressor__reg_lambda=0.5;, score=-9945.976 total time=  40.7s\n",
      "[CV 1/2] END regressor__learning_rate=0.35, regressor__max_depth=4, regressor__n_estimators=800, regressor__reg_alpha=0.1, regressor__reg_lambda=0.6;, score=-8007.607 total time=  41.1s\n",
      "[CV 2/2] END regressor__learning_rate=0.35, regressor__max_depth=4, regressor__n_estimators=800, regressor__reg_alpha=0.1, regressor__reg_lambda=0.6;, score=-9896.480 total time=  41.2s\n",
      "[CV 1/2] END regressor__learning_rate=0.35, regressor__max_depth=4, regressor__n_estimators=800, regressor__reg_alpha=0.01, regressor__reg_lambda=0.4;, score=-8035.929 total time=  41.2s\n",
      "[CV 2/2] END regressor__learning_rate=0.35, regressor__max_depth=4, regressor__n_estimators=800, regressor__reg_alpha=0.01, regressor__reg_lambda=0.4;, score=-9914.388 total time=  40.9s\n",
      "[CV 1/2] END regressor__learning_rate=0.35, regressor__max_depth=4, regressor__n_estimators=800, regressor__reg_alpha=0.01, regressor__reg_lambda=0.5;, score=-8033.344 total time=  41.0s\n",
      "[CV 2/2] END regressor__learning_rate=0.35, regressor__max_depth=4, regressor__n_estimators=800, regressor__reg_alpha=0.01, regressor__reg_lambda=0.5;, score=-9925.544 total time=  40.2s\n",
      "[CV 1/2] END regressor__learning_rate=0.35, regressor__max_depth=4, regressor__n_estimators=800, regressor__reg_alpha=0.01, regressor__reg_lambda=0.6;, score=-8007.606 total time=  42.1s\n",
      "[CV 2/2] END regressor__learning_rate=0.35, regressor__max_depth=4, regressor__n_estimators=800, regressor__reg_alpha=0.01, regressor__reg_lambda=0.6;, score=-9889.450 total time=  40.9s\n",
      "[CV 1/2] END regressor__learning_rate=0.35, regressor__max_depth=4, regressor__n_estimators=800, regressor__reg_alpha=0.2, regressor__reg_lambda=0.4;, score=-8027.614 total time=  40.9s\n",
      "[CV 2/2] END regressor__learning_rate=0.35, regressor__max_depth=4, regressor__n_estimators=800, regressor__reg_alpha=0.2, regressor__reg_lambda=0.4;, score=-9919.070 total time=  41.3s\n",
      "[CV 1/2] END regressor__learning_rate=0.35, regressor__max_depth=4, regressor__n_estimators=800, regressor__reg_alpha=0.2, regressor__reg_lambda=0.5;, score=-8033.346 total time=  41.6s\n",
      "[CV 2/2] END regressor__learning_rate=0.35, regressor__max_depth=4, regressor__n_estimators=800, regressor__reg_alpha=0.2, regressor__reg_lambda=0.5;, score=-9915.362 total time=  41.6s\n",
      "[CV 1/2] END regressor__learning_rate=0.35, regressor__max_depth=4, regressor__n_estimators=800, regressor__reg_alpha=0.2, regressor__reg_lambda=0.6;, score=-8007.608 total time=  41.2s\n",
      "[CV 2/2] END regressor__learning_rate=0.35, regressor__max_depth=4, regressor__n_estimators=800, regressor__reg_alpha=0.2, regressor__reg_lambda=0.6;, score=-9896.481 total time=  41.4s\n",
      "[CV 1/2] END regressor__learning_rate=0.35, regressor__max_depth=4, regressor__n_estimators=700, regressor__reg_alpha=0.1, regressor__reg_lambda=0.4;, score=-8089.200 total time=  36.7s\n",
      "[CV 2/2] END regressor__learning_rate=0.35, regressor__max_depth=4, regressor__n_estimators=700, regressor__reg_alpha=0.1, regressor__reg_lambda=0.4;, score=-9968.780 total time=  36.1s\n",
      "[CV 1/2] END regressor__learning_rate=0.35, regressor__max_depth=4, regressor__n_estimators=700, regressor__reg_alpha=0.1, regressor__reg_lambda=0.5;, score=-8073.962 total time=  36.4s\n",
      "[CV 2/2] END regressor__learning_rate=0.35, regressor__max_depth=4, regressor__n_estimators=700, regressor__reg_alpha=0.1, regressor__reg_lambda=0.5;, score=-9992.079 total time=  36.6s\n",
      "[CV 1/2] END regressor__learning_rate=0.35, regressor__max_depth=4, regressor__n_estimators=700, regressor__reg_alpha=0.1, regressor__reg_lambda=0.6;, score=-8066.093 total time=  36.2s\n",
      "[CV 2/2] END regressor__learning_rate=0.35, regressor__max_depth=4, regressor__n_estimators=700, regressor__reg_alpha=0.1, regressor__reg_lambda=0.6;, score=-9948.894 total time=  36.1s\n",
      "[CV 1/2] END regressor__learning_rate=0.35, regressor__max_depth=4, regressor__n_estimators=700, regressor__reg_alpha=0.01, regressor__reg_lambda=0.4;, score=-8089.200 total time=  35.6s\n",
      "[CV 2/2] END regressor__learning_rate=0.35, regressor__max_depth=4, regressor__n_estimators=700, regressor__reg_alpha=0.01, regressor__reg_lambda=0.4;, score=-9967.291 total time=  35.8s\n",
      "[CV 1/2] END regressor__learning_rate=0.35, regressor__max_depth=4, regressor__n_estimators=700, regressor__reg_alpha=0.01, regressor__reg_lambda=0.5;, score=-8073.961 total time=  36.1s\n",
      "[CV 2/2] END regressor__learning_rate=0.35, regressor__max_depth=4, regressor__n_estimators=700, regressor__reg_alpha=0.01, regressor__reg_lambda=0.5;, score=-9983.062 total time=  36.4s\n",
      "[CV 1/2] END regressor__learning_rate=0.35, regressor__max_depth=4, regressor__n_estimators=700, regressor__reg_alpha=0.01, regressor__reg_lambda=0.6;, score=-8066.091 total time=  35.6s\n",
      "[CV 2/2] END regressor__learning_rate=0.35, regressor__max_depth=4, regressor__n_estimators=700, regressor__reg_alpha=0.01, regressor__reg_lambda=0.6;, score=-9938.275 total time=  36.2s\n",
      "[CV 1/2] END regressor__learning_rate=0.35, regressor__max_depth=4, regressor__n_estimators=700, regressor__reg_alpha=0.2, regressor__reg_lambda=0.4;, score=-8075.479 total time=  40.3s\n",
      "[CV 2/2] END regressor__learning_rate=0.35, regressor__max_depth=4, regressor__n_estimators=700, regressor__reg_alpha=0.2, regressor__reg_lambda=0.4;, score=-9972.623 total time=  35.6s\n",
      "[CV 1/2] END regressor__learning_rate=0.35, regressor__max_depth=4, regressor__n_estimators=700, regressor__reg_alpha=0.2, regressor__reg_lambda=0.5;, score=-8073.963 total time=  36.3s\n",
      "[CV 2/2] END regressor__learning_rate=0.35, regressor__max_depth=4, regressor__n_estimators=700, regressor__reg_alpha=0.2, regressor__reg_lambda=0.5;, score=-9972.802 total time=  36.1s\n",
      "[CV 1/2] END regressor__learning_rate=0.35, regressor__max_depth=4, regressor__n_estimators=700, regressor__reg_alpha=0.2, regressor__reg_lambda=0.6;, score=-8066.094 total time=  35.7s\n",
      "[CV 2/2] END regressor__learning_rate=0.35, regressor__max_depth=4, regressor__n_estimators=700, regressor__reg_alpha=0.2, regressor__reg_lambda=0.6;, score=-9948.895 total time=  35.5s\n",
      "[CV 1/2] END regressor__learning_rate=0.35, regressor__max_depth=6, regressor__n_estimators=750, regressor__reg_alpha=0.1, regressor__reg_lambda=0.4;, score=-7989.374 total time= 1.0min\n",
      "[CV 2/2] END regressor__learning_rate=0.35, regressor__max_depth=6, regressor__n_estimators=750, regressor__reg_alpha=0.1, regressor__reg_lambda=0.4;, score=-9582.831 total time= 1.0min\n",
      "[CV 1/2] END regressor__learning_rate=0.35, regressor__max_depth=6, regressor__n_estimators=750, regressor__reg_alpha=0.1, regressor__reg_lambda=0.5;, score=-7957.898 total time= 1.0min\n",
      "[CV 2/2] END regressor__learning_rate=0.35, regressor__max_depth=6, regressor__n_estimators=750, regressor__reg_alpha=0.1, regressor__reg_lambda=0.5;, score=-9713.316 total time= 1.0min\n",
      "[CV 1/2] END regressor__learning_rate=0.35, regressor__max_depth=6, regressor__n_estimators=750, regressor__reg_alpha=0.1, regressor__reg_lambda=0.6;, score=-8431.296 total time= 1.0min\n",
      "[CV 2/2] END regressor__learning_rate=0.35, regressor__max_depth=6, regressor__n_estimators=750, regressor__reg_alpha=0.1, regressor__reg_lambda=0.6;, score=-9890.273 total time= 1.0min\n",
      "[CV 1/2] END regressor__learning_rate=0.35, regressor__max_depth=6, regressor__n_estimators=750, regressor__reg_alpha=0.01, regressor__reg_lambda=0.4;, score=-8224.902 total time= 1.0min\n",
      "[CV 2/2] END regressor__learning_rate=0.35, regressor__max_depth=6, regressor__n_estimators=750, regressor__reg_alpha=0.01, regressor__reg_lambda=0.4;, score=-9507.634 total time= 1.0min\n",
      "[CV 1/2] END regressor__learning_rate=0.35, regressor__max_depth=6, regressor__n_estimators=750, regressor__reg_alpha=0.01, regressor__reg_lambda=0.5;, score=-8309.235 total time= 1.0min\n",
      "[CV 2/2] END regressor__learning_rate=0.35, regressor__max_depth=6, regressor__n_estimators=750, regressor__reg_alpha=0.01, regressor__reg_lambda=0.5;, score=-9593.927 total time= 1.0min\n",
      "[CV 1/2] END regressor__learning_rate=0.35, regressor__max_depth=6, regressor__n_estimators=750, regressor__reg_alpha=0.01, regressor__reg_lambda=0.6;, score=-8188.269 total time= 1.0min\n",
      "[CV 2/2] END regressor__learning_rate=0.35, regressor__max_depth=6, regressor__n_estimators=750, regressor__reg_alpha=0.01, regressor__reg_lambda=0.6;, score=-9687.021 total time= 1.1min\n",
      "[CV 1/2] END regressor__learning_rate=0.35, regressor__max_depth=6, regressor__n_estimators=750, regressor__reg_alpha=0.2, regressor__reg_lambda=0.4;, score=-8199.480 total time= 1.0min\n",
      "[CV 2/2] END regressor__learning_rate=0.35, regressor__max_depth=6, regressor__n_estimators=750, regressor__reg_alpha=0.2, regressor__reg_lambda=0.4;, score=-9630.803 total time=  59.6s\n",
      "[CV 1/2] END regressor__learning_rate=0.35, regressor__max_depth=6, regressor__n_estimators=750, regressor__reg_alpha=0.2, regressor__reg_lambda=0.5;, score=-8086.410 total time= 1.0min\n",
      "[CV 2/2] END regressor__learning_rate=0.35, regressor__max_depth=6, regressor__n_estimators=750, regressor__reg_alpha=0.2, regressor__reg_lambda=0.5;, score=-9541.535 total time= 1.0min\n",
      "[CV 1/2] END regressor__learning_rate=0.35, regressor__max_depth=6, regressor__n_estimators=750, regressor__reg_alpha=0.2, regressor__reg_lambda=0.6;, score=-8140.032 total time= 1.1min\n",
      "[CV 2/2] END regressor__learning_rate=0.35, regressor__max_depth=6, regressor__n_estimators=750, regressor__reg_alpha=0.2, regressor__reg_lambda=0.6;, score=-9637.404 total time= 1.0min\n",
      "[CV 1/2] END regressor__learning_rate=0.35, regressor__max_depth=6, regressor__n_estimators=800, regressor__reg_alpha=0.1, regressor__reg_lambda=0.4;, score=-7999.717 total time= 1.0min\n",
      "[CV 2/2] END regressor__learning_rate=0.35, regressor__max_depth=6, regressor__n_estimators=800, regressor__reg_alpha=0.1, regressor__reg_lambda=0.4;, score=-9574.845 total time= 1.1min\n",
      "[CV 1/2] END regressor__learning_rate=0.35, regressor__max_depth=6, regressor__n_estimators=800, regressor__reg_alpha=0.1, regressor__reg_lambda=0.5;, score=-7943.641 total time= 1.1min\n",
      "[CV 2/2] END regressor__learning_rate=0.35, regressor__max_depth=6, regressor__n_estimators=800, regressor__reg_alpha=0.1, regressor__reg_lambda=0.5;, score=-9718.461 total time= 1.1min\n",
      "[CV 1/2] END regressor__learning_rate=0.35, regressor__max_depth=6, regressor__n_estimators=800, regressor__reg_alpha=0.1, regressor__reg_lambda=0.6;, score=-8414.155 total time= 1.2min\n",
      "[CV 2/2] END regressor__learning_rate=0.35, regressor__max_depth=6, regressor__n_estimators=800, regressor__reg_alpha=0.1, regressor__reg_lambda=0.6;, score=-9904.096 total time= 1.2min\n",
      "[CV 1/2] END regressor__learning_rate=0.35, regressor__max_depth=6, regressor__n_estimators=800, regressor__reg_alpha=0.01, regressor__reg_lambda=0.4;, score=-8209.217 total time= 1.1min\n",
      "[CV 2/2] END regressor__learning_rate=0.35, regressor__max_depth=6, regressor__n_estimators=800, regressor__reg_alpha=0.01, regressor__reg_lambda=0.4;, score=-9518.147 total time= 1.2min\n",
      "[CV 1/2] END regressor__learning_rate=0.35, regressor__max_depth=6, regressor__n_estimators=800, regressor__reg_alpha=0.01, regressor__reg_lambda=0.5;, score=-8296.440 total time= 1.1min\n",
      "[CV 2/2] END regressor__learning_rate=0.35, regressor__max_depth=6, regressor__n_estimators=800, regressor__reg_alpha=0.01, regressor__reg_lambda=0.5;, score=-9680.721 total time= 1.1min\n",
      "[CV 1/2] END regressor__learning_rate=0.35, regressor__max_depth=6, regressor__n_estimators=800, regressor__reg_alpha=0.01, regressor__reg_lambda=0.6;, score=-8183.147 total time= 1.1min\n",
      "[CV 2/2] END regressor__learning_rate=0.35, regressor__max_depth=6, regressor__n_estimators=800, regressor__reg_alpha=0.01, regressor__reg_lambda=0.6;, score=-9785.650 total time= 1.1min\n",
      "[CV 1/2] END regressor__learning_rate=0.35, regressor__max_depth=6, regressor__n_estimators=800, regressor__reg_alpha=0.2, regressor__reg_lambda=0.4;, score=-8193.360 total time= 1.2min\n",
      "[CV 2/2] END regressor__learning_rate=0.35, regressor__max_depth=6, regressor__n_estimators=800, regressor__reg_alpha=0.2, regressor__reg_lambda=0.4;, score=-9660.720 total time= 1.4min\n",
      "[CV 1/2] END regressor__learning_rate=0.35, regressor__max_depth=6, regressor__n_estimators=800, regressor__reg_alpha=0.2, regressor__reg_lambda=0.5;, score=-8094.988 total time= 1.3min\n",
      "[CV 2/2] END regressor__learning_rate=0.35, regressor__max_depth=6, regressor__n_estimators=800, regressor__reg_alpha=0.2, regressor__reg_lambda=0.5;, score=-9534.521 total time= 1.3min\n",
      "[CV 1/2] END regressor__learning_rate=0.35, regressor__max_depth=6, regressor__n_estimators=800, regressor__reg_alpha=0.2, regressor__reg_lambda=0.6;, score=-8126.363 total time= 1.4min\n",
      "[CV 2/2] END regressor__learning_rate=0.35, regressor__max_depth=6, regressor__n_estimators=800, regressor__reg_alpha=0.2, regressor__reg_lambda=0.6;, score=-9622.353 total time= 1.4min\n",
      "[CV 1/2] END regressor__learning_rate=0.35, regressor__max_depth=6, regressor__n_estimators=700, regressor__reg_alpha=0.1, regressor__reg_lambda=0.4;, score=-7973.700 total time= 1.2min\n",
      "[CV 2/2] END regressor__learning_rate=0.35, regressor__max_depth=6, regressor__n_estimators=700, regressor__reg_alpha=0.1, regressor__reg_lambda=0.4;, score=-9584.175 total time= 1.2min\n",
      "[CV 1/2] END regressor__learning_rate=0.35, regressor__max_depth=6, regressor__n_estimators=700, regressor__reg_alpha=0.1, regressor__reg_lambda=0.5;, score=-7922.417 total time= 1.1min\n",
      "[CV 2/2] END regressor__learning_rate=0.35, regressor__max_depth=6, regressor__n_estimators=700, regressor__reg_alpha=0.1, regressor__reg_lambda=0.5;, score=-9704.847 total time=  58.8s\n",
      "[CV 1/2] END regressor__learning_rate=0.35, regressor__max_depth=6, regressor__n_estimators=700, regressor__reg_alpha=0.1, regressor__reg_lambda=0.6;, score=-8399.903 total time=  58.8s\n",
      "[CV 2/2] END regressor__learning_rate=0.35, regressor__max_depth=6, regressor__n_estimators=700, regressor__reg_alpha=0.1, regressor__reg_lambda=0.6;, score=-9878.383 total time=  58.6s\n",
      "[CV 1/2] END regressor__learning_rate=0.35, regressor__max_depth=6, regressor__n_estimators=700, regressor__reg_alpha=0.01, regressor__reg_lambda=0.4;, score=-8145.422 total time=  58.6s\n",
      "[CV 2/2] END regressor__learning_rate=0.35, regressor__max_depth=6, regressor__n_estimators=700, regressor__reg_alpha=0.01, regressor__reg_lambda=0.4;, score=-9478.246 total time=  58.4s\n",
      "[CV 1/2] END regressor__learning_rate=0.35, regressor__max_depth=6, regressor__n_estimators=700, regressor__reg_alpha=0.01, regressor__reg_lambda=0.5;, score=-8316.981 total time=  59.0s\n",
      "[CV 2/2] END regressor__learning_rate=0.35, regressor__max_depth=6, regressor__n_estimators=700, regressor__reg_alpha=0.01, regressor__reg_lambda=0.5;, score=-9594.038 total time=  58.7s\n",
      "[CV 1/2] END regressor__learning_rate=0.35, regressor__max_depth=6, regressor__n_estimators=700, regressor__reg_alpha=0.01, regressor__reg_lambda=0.6;, score=-8129.787 total time=  58.6s\n",
      "[CV 2/2] END regressor__learning_rate=0.35, regressor__max_depth=6, regressor__n_estimators=700, regressor__reg_alpha=0.01, regressor__reg_lambda=0.6;, score=-9640.542 total time=  58.9s\n",
      "[CV 1/2] END regressor__learning_rate=0.35, regressor__max_depth=6, regressor__n_estimators=700, regressor__reg_alpha=0.2, regressor__reg_lambda=0.4;, score=-8219.523 total time=  59.1s\n",
      "[CV 2/2] END regressor__learning_rate=0.35, regressor__max_depth=6, regressor__n_estimators=700, regressor__reg_alpha=0.2, regressor__reg_lambda=0.4;, score=-9619.568 total time=  59.6s\n",
      "[CV 1/2] END regressor__learning_rate=0.35, regressor__max_depth=6, regressor__n_estimators=700, regressor__reg_alpha=0.2, regressor__reg_lambda=0.5;, score=-8086.612 total time= 1.2min\n",
      "[CV 2/2] END regressor__learning_rate=0.35, regressor__max_depth=6, regressor__n_estimators=700, regressor__reg_alpha=0.2, regressor__reg_lambda=0.5;, score=-9540.946 total time= 1.1min\n",
      "[CV 1/2] END regressor__learning_rate=0.35, regressor__max_depth=6, regressor__n_estimators=700, regressor__reg_alpha=0.2, regressor__reg_lambda=0.6;, score=-8125.549 total time=  58.6s\n",
      "[CV 2/2] END regressor__learning_rate=0.35, regressor__max_depth=6, regressor__n_estimators=700, regressor__reg_alpha=0.2, regressor__reg_lambda=0.6;, score=-9611.434 total time=  59.2s\n",
      "[CV 1/2] END regressor__learning_rate=0.35, regressor__max_depth=5, regressor__n_estimators=750, regressor__reg_alpha=0.1, regressor__reg_lambda=0.4;, score=-7641.660 total time=  51.5s\n",
      "[CV 2/2] END regressor__learning_rate=0.35, regressor__max_depth=5, regressor__n_estimators=750, regressor__reg_alpha=0.1, regressor__reg_lambda=0.4;, score=-9527.898 total time=  52.4s\n",
      "[CV 1/2] END regressor__learning_rate=0.35, regressor__max_depth=5, regressor__n_estimators=750, regressor__reg_alpha=0.1, regressor__reg_lambda=0.5;, score=-7670.429 total time=  51.9s\n",
      "[CV 2/2] END regressor__learning_rate=0.35, regressor__max_depth=5, regressor__n_estimators=750, regressor__reg_alpha=0.1, regressor__reg_lambda=0.5;, score=-9514.572 total time=  52.8s\n",
      "[CV 1/2] END regressor__learning_rate=0.35, regressor__max_depth=5, regressor__n_estimators=750, regressor__reg_alpha=0.1, regressor__reg_lambda=0.6;, score=-7646.478 total time=  52.7s\n",
      "[CV 2/2] END regressor__learning_rate=0.35, regressor__max_depth=5, regressor__n_estimators=750, regressor__reg_alpha=0.1, regressor__reg_lambda=0.6;, score=-9460.039 total time=  51.9s\n",
      "[CV 1/2] END regressor__learning_rate=0.35, regressor__max_depth=5, regressor__n_estimators=750, regressor__reg_alpha=0.01, regressor__reg_lambda=0.4;, score=-7629.399 total time=  52.5s\n",
      "[CV 2/2] END regressor__learning_rate=0.35, regressor__max_depth=5, regressor__n_estimators=750, regressor__reg_alpha=0.01, regressor__reg_lambda=0.4;, score=-9544.976 total time=  52.8s\n",
      "[CV 1/2] END regressor__learning_rate=0.35, regressor__max_depth=5, regressor__n_estimators=750, regressor__reg_alpha=0.01, regressor__reg_lambda=0.5;, score=-7670.431 total time=  51.8s\n",
      "[CV 2/2] END regressor__learning_rate=0.35, regressor__max_depth=5, regressor__n_estimators=750, regressor__reg_alpha=0.01, regressor__reg_lambda=0.5;, score=-9445.749 total time=  52.4s\n",
      "[CV 1/2] END regressor__learning_rate=0.35, regressor__max_depth=5, regressor__n_estimators=750, regressor__reg_alpha=0.01, regressor__reg_lambda=0.6;, score=-7646.478 total time=  52.4s\n",
      "[CV 2/2] END regressor__learning_rate=0.35, regressor__max_depth=5, regressor__n_estimators=750, regressor__reg_alpha=0.01, regressor__reg_lambda=0.6;, score=-9475.183 total time=  52.3s\n",
      "[CV 1/2] END regressor__learning_rate=0.35, regressor__max_depth=5, regressor__n_estimators=750, regressor__reg_alpha=0.2, regressor__reg_lambda=0.4;, score=-7656.299 total time=  52.0s\n",
      "[CV 2/2] END regressor__learning_rate=0.35, regressor__max_depth=5, regressor__n_estimators=750, regressor__reg_alpha=0.2, regressor__reg_lambda=0.4;, score=-9528.343 total time=  52.5s\n",
      "[CV 1/2] END regressor__learning_rate=0.35, regressor__max_depth=5, regressor__n_estimators=750, regressor__reg_alpha=0.2, regressor__reg_lambda=0.5;, score=-7670.428 total time= 2.4min\n",
      "[CV 2/2] END regressor__learning_rate=0.35, regressor__max_depth=5, regressor__n_estimators=750, regressor__reg_alpha=0.2, regressor__reg_lambda=0.5;, score=-9560.385 total time=  51.1s\n",
      "[CV 1/2] END regressor__learning_rate=0.35, regressor__max_depth=5, regressor__n_estimators=750, regressor__reg_alpha=0.2, regressor__reg_lambda=0.6;, score=-7646.843 total time=  52.6s\n",
      "[CV 2/2] END regressor__learning_rate=0.35, regressor__max_depth=5, regressor__n_estimators=750, regressor__reg_alpha=0.2, regressor__reg_lambda=0.6;, score=-9460.039 total time=  54.0s\n",
      "[CV 1/2] END regressor__learning_rate=0.35, regressor__max_depth=5, regressor__n_estimators=800, regressor__reg_alpha=0.1, regressor__reg_lambda=0.4;, score=-7619.982 total time=  57.2s\n",
      "[CV 2/2] END regressor__learning_rate=0.35, regressor__max_depth=5, regressor__n_estimators=800, regressor__reg_alpha=0.1, regressor__reg_lambda=0.4;, score=-9510.509 total time=  58.4s\n",
      "[CV 1/2] END regressor__learning_rate=0.35, regressor__max_depth=5, regressor__n_estimators=800, regressor__reg_alpha=0.1, regressor__reg_lambda=0.5;, score=-7642.554 total time=18.6min\n",
      "[CV 2/2] END regressor__learning_rate=0.35, regressor__max_depth=5, regressor__n_estimators=800, regressor__reg_alpha=0.1, regressor__reg_lambda=0.5;, score=-9495.606 total time= 6.3min\n",
      "[CV 1/2] END regressor__learning_rate=0.35, regressor__max_depth=5, regressor__n_estimators=800, regressor__reg_alpha=0.1, regressor__reg_lambda=0.6;, score=-7627.418 total time=11.1min\n",
      "[CV 2/2] END regressor__learning_rate=0.35, regressor__max_depth=5, regressor__n_estimators=800, regressor__reg_alpha=0.1, regressor__reg_lambda=0.6;, score=-9443.585 total time=13.1min\n",
      "[CV 1/2] END regressor__learning_rate=0.35, regressor__max_depth=5, regressor__n_estimators=800, regressor__reg_alpha=0.01, regressor__reg_lambda=0.4;, score=-7642.661 total time=  58.0s\n",
      "[CV 2/2] END regressor__learning_rate=0.35, regressor__max_depth=5, regressor__n_estimators=800, regressor__reg_alpha=0.01, regressor__reg_lambda=0.4;, score=-9519.837 total time= 1.0min\n",
      "[CV 1/2] END regressor__learning_rate=0.35, regressor__max_depth=5, regressor__n_estimators=800, regressor__reg_alpha=0.01, regressor__reg_lambda=0.5;, score=-7642.556 total time=  55.9s\n",
      "[CV 2/2] END regressor__learning_rate=0.35, regressor__max_depth=5, regressor__n_estimators=800, regressor__reg_alpha=0.01, regressor__reg_lambda=0.5;, score=-9447.682 total time=  55.4s\n",
      "[CV 1/2] END regressor__learning_rate=0.35, regressor__max_depth=5, regressor__n_estimators=800, regressor__reg_alpha=0.01, regressor__reg_lambda=0.6;, score=-7627.418 total time=  54.7s\n",
      "[CV 2/2] END regressor__learning_rate=0.35, regressor__max_depth=5, regressor__n_estimators=800, regressor__reg_alpha=0.01, regressor__reg_lambda=0.6;, score=-9468.326 total time=  55.0s\n",
      "[CV 1/2] END regressor__learning_rate=0.35, regressor__max_depth=5, regressor__n_estimators=800, regressor__reg_alpha=0.2, regressor__reg_lambda=0.4;, score=-7671.016 total time=  52.8s\n",
      "[CV 2/2] END regressor__learning_rate=0.35, regressor__max_depth=5, regressor__n_estimators=800, regressor__reg_alpha=0.2, regressor__reg_lambda=0.4;, score=-9524.847 total time=  51.8s\n",
      "[CV 1/2] END regressor__learning_rate=0.35, regressor__max_depth=5, regressor__n_estimators=800, regressor__reg_alpha=0.2, regressor__reg_lambda=0.5;, score=-7642.553 total time=  51.7s\n",
      "[CV 2/2] END regressor__learning_rate=0.35, regressor__max_depth=5, regressor__n_estimators=800, regressor__reg_alpha=0.2, regressor__reg_lambda=0.5;, score=-9543.227 total time=  50.9s\n",
      "[CV 1/2] END regressor__learning_rate=0.35, regressor__max_depth=5, regressor__n_estimators=800, regressor__reg_alpha=0.2, regressor__reg_lambda=0.6;, score=-7653.690 total time=  51.1s\n",
      "[CV 2/2] END regressor__learning_rate=0.35, regressor__max_depth=5, regressor__n_estimators=800, regressor__reg_alpha=0.2, regressor__reg_lambda=0.6;, score=-9443.585 total time=  51.8s\n",
      "[CV 1/2] END regressor__learning_rate=0.35, regressor__max_depth=5, regressor__n_estimators=700, regressor__reg_alpha=0.1, regressor__reg_lambda=0.4;, score=-7648.627 total time=  44.9s\n",
      "[CV 2/2] END regressor__learning_rate=0.35, regressor__max_depth=5, regressor__n_estimators=700, regressor__reg_alpha=0.1, regressor__reg_lambda=0.4;, score=-9559.773 total time=  44.1s\n",
      "[CV 1/2] END regressor__learning_rate=0.35, regressor__max_depth=5, regressor__n_estimators=700, regressor__reg_alpha=0.1, regressor__reg_lambda=0.5;, score=-7656.301 total time=  43.9s\n",
      "[CV 2/2] END regressor__learning_rate=0.35, regressor__max_depth=5, regressor__n_estimators=700, regressor__reg_alpha=0.1, regressor__reg_lambda=0.5;, score=-9539.902 total time=  43.6s\n",
      "[CV 1/2] END regressor__learning_rate=0.35, regressor__max_depth=5, regressor__n_estimators=700, regressor__reg_alpha=0.1, regressor__reg_lambda=0.6;, score=-7665.671 total time=  43.2s\n",
      "[CV 2/2] END regressor__learning_rate=0.35, regressor__max_depth=5, regressor__n_estimators=700, regressor__reg_alpha=0.1, regressor__reg_lambda=0.6;, score=-9489.571 total time=  43.7s\n",
      "[CV 1/2] END regressor__learning_rate=0.35, regressor__max_depth=5, regressor__n_estimators=700, regressor__reg_alpha=0.01, regressor__reg_lambda=0.4;, score=-7627.992 total time=  45.4s\n",
      "[CV 2/2] END regressor__learning_rate=0.35, regressor__max_depth=5, regressor__n_estimators=700, regressor__reg_alpha=0.01, regressor__reg_lambda=0.4;, score=-9559.235 total time=  45.1s\n",
      "[CV 1/2] END regressor__learning_rate=0.35, regressor__max_depth=5, regressor__n_estimators=700, regressor__reg_alpha=0.01, regressor__reg_lambda=0.5;, score=-7656.301 total time=  45.4s\n",
      "[CV 2/2] END regressor__learning_rate=0.35, regressor__max_depth=5, regressor__n_estimators=700, regressor__reg_alpha=0.01, regressor__reg_lambda=0.5;, score=-9479.101 total time=  45.1s\n",
      "[CV 1/2] END regressor__learning_rate=0.35, regressor__max_depth=5, regressor__n_estimators=700, regressor__reg_alpha=0.01, regressor__reg_lambda=0.6;, score=-7665.671 total time=  44.8s\n",
      "[CV 2/2] END regressor__learning_rate=0.35, regressor__max_depth=5, regressor__n_estimators=700, regressor__reg_alpha=0.01, regressor__reg_lambda=0.6;, score=-9494.915 total time=  45.3s\n",
      "[CV 1/2] END regressor__learning_rate=0.35, regressor__max_depth=5, regressor__n_estimators=700, regressor__reg_alpha=0.2, regressor__reg_lambda=0.4;, score=-7655.632 total time=  45.0s\n",
      "[CV 2/2] END regressor__learning_rate=0.35, regressor__max_depth=5, regressor__n_estimators=700, regressor__reg_alpha=0.2, regressor__reg_lambda=0.4;, score=-9553.375 total time=  45.2s\n",
      "[CV 1/2] END regressor__learning_rate=0.35, regressor__max_depth=5, regressor__n_estimators=700, regressor__reg_alpha=0.2, regressor__reg_lambda=0.5;, score=-7656.300 total time=  45.4s\n",
      "[CV 2/2] END regressor__learning_rate=0.35, regressor__max_depth=5, regressor__n_estimators=700, regressor__reg_alpha=0.2, regressor__reg_lambda=0.5;, score=-9562.141 total time=  44.8s\n",
      "[CV 1/2] END regressor__learning_rate=0.35, regressor__max_depth=5, regressor__n_estimators=700, regressor__reg_alpha=0.2, regressor__reg_lambda=0.6;, score=-7672.676 total time=  44.9s\n",
      "[CV 2/2] END regressor__learning_rate=0.35, regressor__max_depth=5, regressor__n_estimators=700, regressor__reg_alpha=0.2, regressor__reg_lambda=0.6;, score=-9489.571 total time=  44.8s\n",
      "[CV 1/2] END regressor__learning_rate=0.4, regressor__max_depth=4, regressor__n_estimators=750, regressor__reg_alpha=0.1, regressor__reg_lambda=0.4;, score=-7997.844 total time=  37.2s\n",
      "[CV 2/2] END regressor__learning_rate=0.4, regressor__max_depth=4, regressor__n_estimators=750, regressor__reg_alpha=0.1, regressor__reg_lambda=0.4;, score=-9893.321 total time=  37.4s\n",
      "[CV 1/2] END regressor__learning_rate=0.4, regressor__max_depth=4, regressor__n_estimators=750, regressor__reg_alpha=0.1, regressor__reg_lambda=0.5;, score=-7996.574 total time=  38.1s\n",
      "[CV 2/2] END regressor__learning_rate=0.4, regressor__max_depth=4, regressor__n_estimators=750, regressor__reg_alpha=0.1, regressor__reg_lambda=0.5;, score=-9892.692 total time=  37.7s\n",
      "[CV 1/2] END regressor__learning_rate=0.4, regressor__max_depth=4, regressor__n_estimators=750, regressor__reg_alpha=0.1, regressor__reg_lambda=0.6;, score=-8019.707 total time=  37.1s\n",
      "[CV 2/2] END regressor__learning_rate=0.4, regressor__max_depth=4, regressor__n_estimators=750, regressor__reg_alpha=0.1, regressor__reg_lambda=0.6;, score=-9888.561 total time=  38.6s\n",
      "[CV 1/2] END regressor__learning_rate=0.4, regressor__max_depth=4, regressor__n_estimators=750, regressor__reg_alpha=0.01, regressor__reg_lambda=0.4;, score=-7997.843 total time=  37.2s\n",
      "[CV 2/2] END regressor__learning_rate=0.4, regressor__max_depth=4, regressor__n_estimators=750, regressor__reg_alpha=0.01, regressor__reg_lambda=0.4;, score=-9893.320 total time=  38.4s\n",
      "[CV 1/2] END regressor__learning_rate=0.4, regressor__max_depth=4, regressor__n_estimators=750, regressor__reg_alpha=0.01, regressor__reg_lambda=0.5;, score=-7996.573 total time=  37.4s\n",
      "[CV 2/2] END regressor__learning_rate=0.4, regressor__max_depth=4, regressor__n_estimators=750, regressor__reg_alpha=0.01, regressor__reg_lambda=0.5;, score=-9892.691 total time=  37.8s\n",
      "[CV 1/2] END regressor__learning_rate=0.4, regressor__max_depth=4, regressor__n_estimators=750, regressor__reg_alpha=0.01, regressor__reg_lambda=0.6;, score=-8019.706 total time=  43.1s\n",
      "[CV 2/2] END regressor__learning_rate=0.4, regressor__max_depth=4, regressor__n_estimators=750, regressor__reg_alpha=0.01, regressor__reg_lambda=0.6;, score=-9888.561 total time=  37.6s\n",
      "[CV 1/2] END regressor__learning_rate=0.4, regressor__max_depth=4, regressor__n_estimators=750, regressor__reg_alpha=0.2, regressor__reg_lambda=0.4;, score=-7997.845 total time=  37.4s\n",
      "[CV 2/2] END regressor__learning_rate=0.4, regressor__max_depth=4, regressor__n_estimators=750, regressor__reg_alpha=0.2, regressor__reg_lambda=0.4;, score=-9893.323 total time=  38.0s\n",
      "[CV 1/2] END regressor__learning_rate=0.4, regressor__max_depth=4, regressor__n_estimators=750, regressor__reg_alpha=0.2, regressor__reg_lambda=0.5;, score=-7996.576 total time=  37.1s\n",
      "[CV 2/2] END regressor__learning_rate=0.4, regressor__max_depth=4, regressor__n_estimators=750, regressor__reg_alpha=0.2, regressor__reg_lambda=0.5;, score=-9892.927 total time=  37.6s\n",
      "[CV 1/2] END regressor__learning_rate=0.4, regressor__max_depth=4, regressor__n_estimators=750, regressor__reg_alpha=0.2, regressor__reg_lambda=0.6;, score=-8019.709 total time=  37.5s\n",
      "[CV 2/2] END regressor__learning_rate=0.4, regressor__max_depth=4, regressor__n_estimators=750, regressor__reg_alpha=0.2, regressor__reg_lambda=0.6;, score=-9888.562 total time=  37.6s\n",
      "[CV 1/2] END regressor__learning_rate=0.4, regressor__max_depth=4, regressor__n_estimators=800, regressor__reg_alpha=0.1, regressor__reg_lambda=0.4;, score=-7968.759 total time=  40.1s\n",
      "[CV 2/2] END regressor__learning_rate=0.4, regressor__max_depth=4, regressor__n_estimators=800, regressor__reg_alpha=0.1, regressor__reg_lambda=0.4;, score=-9866.598 total time=  39.9s\n",
      "[CV 1/2] END regressor__learning_rate=0.4, regressor__max_depth=4, regressor__n_estimators=800, regressor__reg_alpha=0.1, regressor__reg_lambda=0.5;, score=-7992.546 total time=  39.9s\n",
      "[CV 2/2] END regressor__learning_rate=0.4, regressor__max_depth=4, regressor__n_estimators=800, regressor__reg_alpha=0.1, regressor__reg_lambda=0.5;, score=-9867.480 total time=  40.1s\n",
      "[CV 1/2] END regressor__learning_rate=0.4, regressor__max_depth=4, regressor__n_estimators=800, regressor__reg_alpha=0.1, regressor__reg_lambda=0.6;, score=-7996.967 total time=  40.1s\n",
      "[CV 2/2] END regressor__learning_rate=0.4, regressor__max_depth=4, regressor__n_estimators=800, regressor__reg_alpha=0.1, regressor__reg_lambda=0.6;, score=-9870.262 total time=  40.0s\n",
      "[CV 1/2] END regressor__learning_rate=0.4, regressor__max_depth=4, regressor__n_estimators=800, regressor__reg_alpha=0.01, regressor__reg_lambda=0.4;, score=-7968.758 total time=  39.9s\n",
      "[CV 2/2] END regressor__learning_rate=0.4, regressor__max_depth=4, regressor__n_estimators=800, regressor__reg_alpha=0.01, regressor__reg_lambda=0.4;, score=-9866.597 total time=  40.0s\n",
      "[CV 1/2] END regressor__learning_rate=0.4, regressor__max_depth=4, regressor__n_estimators=800, regressor__reg_alpha=0.01, regressor__reg_lambda=0.5;, score=-7992.545 total time=  39.9s\n",
      "[CV 2/2] END regressor__learning_rate=0.4, regressor__max_depth=4, regressor__n_estimators=800, regressor__reg_alpha=0.01, regressor__reg_lambda=0.5;, score=-9867.479 total time=  40.0s\n",
      "[CV 1/2] END regressor__learning_rate=0.4, regressor__max_depth=4, regressor__n_estimators=800, regressor__reg_alpha=0.01, regressor__reg_lambda=0.6;, score=-7996.966 total time=  40.0s\n",
      "[CV 2/2] END regressor__learning_rate=0.4, regressor__max_depth=4, regressor__n_estimators=800, regressor__reg_alpha=0.01, regressor__reg_lambda=0.6;, score=-9870.261 total time=  39.8s\n",
      "[CV 1/2] END regressor__learning_rate=0.4, regressor__max_depth=4, regressor__n_estimators=800, regressor__reg_alpha=0.2, regressor__reg_lambda=0.4;, score=-7968.760 total time=  40.4s\n",
      "[CV 2/2] END regressor__learning_rate=0.4, regressor__max_depth=4, regressor__n_estimators=800, regressor__reg_alpha=0.2, regressor__reg_lambda=0.4;, score=-9866.599 total time=  40.0s\n",
      "[CV 1/2] END regressor__learning_rate=0.4, regressor__max_depth=4, regressor__n_estimators=800, regressor__reg_alpha=0.2, regressor__reg_lambda=0.5;, score=-7992.547 total time=  40.1s\n",
      "[CV 2/2] END regressor__learning_rate=0.4, regressor__max_depth=4, regressor__n_estimators=800, regressor__reg_alpha=0.2, regressor__reg_lambda=0.5;, score=-9870.401 total time=  39.8s\n",
      "[CV 1/2] END regressor__learning_rate=0.4, regressor__max_depth=4, regressor__n_estimators=800, regressor__reg_alpha=0.2, regressor__reg_lambda=0.6;, score=-7996.969 total time=  40.4s\n",
      "[CV 2/2] END regressor__learning_rate=0.4, regressor__max_depth=4, regressor__n_estimators=800, regressor__reg_alpha=0.2, regressor__reg_lambda=0.6;, score=-9870.263 total time=  40.1s\n",
      "[CV 1/2] END regressor__learning_rate=0.4, regressor__max_depth=4, regressor__n_estimators=700, regressor__reg_alpha=0.1, regressor__reg_lambda=0.4;, score=-8026.897 total time=  35.1s\n",
      "[CV 2/2] END regressor__learning_rate=0.4, regressor__max_depth=4, regressor__n_estimators=700, regressor__reg_alpha=0.1, regressor__reg_lambda=0.4;, score=-9919.621 total time=  34.9s\n",
      "[CV 1/2] END regressor__learning_rate=0.4, regressor__max_depth=4, regressor__n_estimators=700, regressor__reg_alpha=0.1, regressor__reg_lambda=0.5;, score=-8028.956 total time=  34.8s\n",
      "[CV 2/2] END regressor__learning_rate=0.4, regressor__max_depth=4, regressor__n_estimators=700, regressor__reg_alpha=0.1, regressor__reg_lambda=0.5;, score=-9919.484 total time=  34.9s\n",
      "[CV 1/2] END regressor__learning_rate=0.4, regressor__max_depth=4, regressor__n_estimators=700, regressor__reg_alpha=0.1, regressor__reg_lambda=0.6;, score=-8047.035 total time=  35.1s\n",
      "[CV 2/2] END regressor__learning_rate=0.4, regressor__max_depth=4, regressor__n_estimators=700, regressor__reg_alpha=0.1, regressor__reg_lambda=0.6;, score=-9919.173 total time=  35.5s\n",
      "[CV 1/2] END regressor__learning_rate=0.4, regressor__max_depth=4, regressor__n_estimators=700, regressor__reg_alpha=0.01, regressor__reg_lambda=0.4;, score=-8026.896 total time=  35.3s\n",
      "[CV 2/2] END regressor__learning_rate=0.4, regressor__max_depth=4, regressor__n_estimators=700, regressor__reg_alpha=0.01, regressor__reg_lambda=0.4;, score=-9919.619 total time=  34.9s\n",
      "[CV 1/2] END regressor__learning_rate=0.4, regressor__max_depth=4, regressor__n_estimators=700, regressor__reg_alpha=0.01, regressor__reg_lambda=0.5;, score=-8028.955 total time=  35.2s\n",
      "[CV 2/2] END regressor__learning_rate=0.4, regressor__max_depth=4, regressor__n_estimators=700, regressor__reg_alpha=0.01, regressor__reg_lambda=0.5;, score=-9919.484 total time=  34.7s\n",
      "[CV 1/2] END regressor__learning_rate=0.4, regressor__max_depth=4, regressor__n_estimators=700, regressor__reg_alpha=0.01, regressor__reg_lambda=0.6;, score=-8047.034 total time=  34.8s\n",
      "[CV 2/2] END regressor__learning_rate=0.4, regressor__max_depth=4, regressor__n_estimators=700, regressor__reg_alpha=0.01, regressor__reg_lambda=0.6;, score=-9919.173 total time=  34.8s\n",
      "[CV 1/2] END regressor__learning_rate=0.4, regressor__max_depth=4, regressor__n_estimators=700, regressor__reg_alpha=0.2, regressor__reg_lambda=0.4;, score=-8026.898 total time=  35.1s\n",
      "[CV 2/2] END regressor__learning_rate=0.4, regressor__max_depth=4, regressor__n_estimators=700, regressor__reg_alpha=0.2, regressor__reg_lambda=0.4;, score=-9919.622 total time=  35.2s\n",
      "[CV 1/2] END regressor__learning_rate=0.4, regressor__max_depth=4, regressor__n_estimators=700, regressor__reg_alpha=0.2, regressor__reg_lambda=0.5;, score=-8028.957 total time=  35.0s\n",
      "[CV 2/2] END regressor__learning_rate=0.4, regressor__max_depth=4, regressor__n_estimators=700, regressor__reg_alpha=0.2, regressor__reg_lambda=0.5;, score=-9915.850 total time=  35.1s\n",
      "[CV 1/2] END regressor__learning_rate=0.4, regressor__max_depth=4, regressor__n_estimators=700, regressor__reg_alpha=0.2, regressor__reg_lambda=0.6;, score=-8047.036 total time=  34.9s\n",
      "[CV 2/2] END regressor__learning_rate=0.4, regressor__max_depth=4, regressor__n_estimators=700, regressor__reg_alpha=0.2, regressor__reg_lambda=0.6;, score=-9919.175 total time=  35.2s\n",
      "[CV 1/2] END regressor__learning_rate=0.4, regressor__max_depth=6, regressor__n_estimators=750, regressor__reg_alpha=0.1, regressor__reg_lambda=0.4;, score=-8267.575 total time= 1.0min\n",
      "[CV 2/2] END regressor__learning_rate=0.4, regressor__max_depth=6, regressor__n_estimators=750, regressor__reg_alpha=0.1, regressor__reg_lambda=0.4;, score=-9620.870 total time= 1.0min\n",
      "[CV 1/2] END regressor__learning_rate=0.4, regressor__max_depth=6, regressor__n_estimators=750, regressor__reg_alpha=0.1, regressor__reg_lambda=0.5;, score=-8261.831 total time= 1.1min\n",
      "[CV 2/2] END regressor__learning_rate=0.4, regressor__max_depth=6, regressor__n_estimators=750, regressor__reg_alpha=0.1, regressor__reg_lambda=0.5;, score=-9577.626 total time= 1.1min\n",
      "[CV 1/2] END regressor__learning_rate=0.4, regressor__max_depth=6, regressor__n_estimators=750, regressor__reg_alpha=0.1, regressor__reg_lambda=0.6;, score=-8258.883 total time= 1.2min\n",
      "[CV 2/2] END regressor__learning_rate=0.4, regressor__max_depth=6, regressor__n_estimators=750, regressor__reg_alpha=0.1, regressor__reg_lambda=0.6;, score=-9883.274 total time= 1.3min\n",
      "[CV 1/2] END regressor__learning_rate=0.4, regressor__max_depth=6, regressor__n_estimators=750, regressor__reg_alpha=0.01, regressor__reg_lambda=0.4;, score=-8491.738 total time= 1.5min\n",
      "[CV 2/2] END regressor__learning_rate=0.4, regressor__max_depth=6, regressor__n_estimators=750, regressor__reg_alpha=0.01, regressor__reg_lambda=0.4;, score=-9827.740 total time= 1.4min\n",
      "[CV 1/2] END regressor__learning_rate=0.4, regressor__max_depth=6, regressor__n_estimators=750, regressor__reg_alpha=0.01, regressor__reg_lambda=0.5;, score=-8588.375 total time= 1.3min\n",
      "[CV 2/2] END regressor__learning_rate=0.4, regressor__max_depth=6, regressor__n_estimators=750, regressor__reg_alpha=0.01, regressor__reg_lambda=0.5;, score=-9674.570 total time= 1.1min\n",
      "[CV 1/2] END regressor__learning_rate=0.4, regressor__max_depth=6, regressor__n_estimators=750, regressor__reg_alpha=0.01, regressor__reg_lambda=0.6;, score=-8259.861 total time=  59.8s\n",
      "[CV 2/2] END regressor__learning_rate=0.4, regressor__max_depth=6, regressor__n_estimators=750, regressor__reg_alpha=0.01, regressor__reg_lambda=0.6;, score=-9684.331 total time=  59.4s\n",
      "[CV 1/2] END regressor__learning_rate=0.4, regressor__max_depth=6, regressor__n_estimators=750, regressor__reg_alpha=0.2, regressor__reg_lambda=0.4;, score=-8399.422 total time=  59.7s\n",
      "[CV 2/2] END regressor__learning_rate=0.4, regressor__max_depth=6, regressor__n_estimators=750, regressor__reg_alpha=0.2, regressor__reg_lambda=0.4;, score=-9666.108 total time=  59.6s\n",
      "[CV 1/2] END regressor__learning_rate=0.4, regressor__max_depth=6, regressor__n_estimators=750, regressor__reg_alpha=0.2, regressor__reg_lambda=0.5;, score=-8552.984 total time= 1.0min\n",
      "[CV 2/2] END regressor__learning_rate=0.4, regressor__max_depth=6, regressor__n_estimators=750, regressor__reg_alpha=0.2, regressor__reg_lambda=0.5;, score=-9766.666 total time= 1.0min\n",
      "[CV 1/2] END regressor__learning_rate=0.4, regressor__max_depth=6, regressor__n_estimators=750, regressor__reg_alpha=0.2, regressor__reg_lambda=0.6;, score=-8352.997 total time= 1.0min\n",
      "[CV 2/2] END regressor__learning_rate=0.4, regressor__max_depth=6, regressor__n_estimators=750, regressor__reg_alpha=0.2, regressor__reg_lambda=0.6;, score=-9818.900 total time=  59.7s\n",
      "[CV 1/2] END regressor__learning_rate=0.4, regressor__max_depth=6, regressor__n_estimators=800, regressor__reg_alpha=0.1, regressor__reg_lambda=0.4;, score=-8285.010 total time= 1.1min\n",
      "[CV 2/2] END regressor__learning_rate=0.4, regressor__max_depth=6, regressor__n_estimators=800, regressor__reg_alpha=0.1, regressor__reg_lambda=0.4;, score=-9644.352 total time= 1.1min\n",
      "[CV 1/2] END regressor__learning_rate=0.4, regressor__max_depth=6, regressor__n_estimators=800, regressor__reg_alpha=0.1, regressor__reg_lambda=0.5;, score=-8312.702 total time= 1.1min\n",
      "[CV 2/2] END regressor__learning_rate=0.4, regressor__max_depth=6, regressor__n_estimators=800, regressor__reg_alpha=0.1, regressor__reg_lambda=0.5;, score=-9620.204 total time= 1.1min\n",
      "[CV 1/2] END regressor__learning_rate=0.4, regressor__max_depth=6, regressor__n_estimators=800, regressor__reg_alpha=0.1, regressor__reg_lambda=0.6;, score=-8304.431 total time= 1.1min\n",
      "[CV 2/2] END regressor__learning_rate=0.4, regressor__max_depth=6, regressor__n_estimators=800, regressor__reg_alpha=0.1, regressor__reg_lambda=0.6;, score=-9919.233 total time= 1.1min\n",
      "[CV 1/2] END regressor__learning_rate=0.4, regressor__max_depth=6, regressor__n_estimators=800, regressor__reg_alpha=0.01, regressor__reg_lambda=0.4;, score=-8497.716 total time= 1.1min\n",
      "[CV 2/2] END regressor__learning_rate=0.4, regressor__max_depth=6, regressor__n_estimators=800, regressor__reg_alpha=0.01, regressor__reg_lambda=0.4;, score=-9847.967 total time= 1.1min\n",
      "[CV 1/2] END regressor__learning_rate=0.4, regressor__max_depth=6, regressor__n_estimators=800, regressor__reg_alpha=0.01, regressor__reg_lambda=0.5;, score=-8917.883 total time= 1.1min\n",
      "[CV 2/2] END regressor__learning_rate=0.4, regressor__max_depth=6, regressor__n_estimators=800, regressor__reg_alpha=0.01, regressor__reg_lambda=0.5;, score=-9675.401 total time= 1.1min\n",
      "[CV 1/2] END regressor__learning_rate=0.4, regressor__max_depth=6, regressor__n_estimators=800, regressor__reg_alpha=0.01, regressor__reg_lambda=0.6;, score=-8273.977 total time= 1.1min\n",
      "[CV 2/2] END regressor__learning_rate=0.4, regressor__max_depth=6, regressor__n_estimators=800, regressor__reg_alpha=0.01, regressor__reg_lambda=0.6;, score=-9769.005 total time= 1.1min\n",
      "[CV 1/2] END regressor__learning_rate=0.4, regressor__max_depth=6, regressor__n_estimators=800, regressor__reg_alpha=0.2, regressor__reg_lambda=0.4;, score=-8523.869 total time= 1.1min\n",
      "[CV 2/2] END regressor__learning_rate=0.4, regressor__max_depth=6, regressor__n_estimators=800, regressor__reg_alpha=0.2, regressor__reg_lambda=0.4;, score=-9781.002 total time= 1.1min\n",
      "[CV 1/2] END regressor__learning_rate=0.4, regressor__max_depth=6, regressor__n_estimators=800, regressor__reg_alpha=0.2, regressor__reg_lambda=0.5;, score=-8677.855 total time= 1.1min\n",
      "[CV 2/2] END regressor__learning_rate=0.4, regressor__max_depth=6, regressor__n_estimators=800, regressor__reg_alpha=0.2, regressor__reg_lambda=0.5;, score=-9816.094 total time= 1.2min\n",
      "[CV 1/2] END regressor__learning_rate=0.4, regressor__max_depth=6, regressor__n_estimators=800, regressor__reg_alpha=0.2, regressor__reg_lambda=0.6;, score=-8379.343 total time= 1.2min\n",
      "[CV 2/2] END regressor__learning_rate=0.4, regressor__max_depth=6, regressor__n_estimators=800, regressor__reg_alpha=0.2, regressor__reg_lambda=0.6;, score=-9858.756 total time=16.8min\n",
      "[CV 1/2] END regressor__learning_rate=0.4, regressor__max_depth=6, regressor__n_estimators=700, regressor__reg_alpha=0.1, regressor__reg_lambda=0.4;, score=-8057.025 total time= 1.6min\n",
      "[CV 2/2] END regressor__learning_rate=0.4, regressor__max_depth=6, regressor__n_estimators=700, regressor__reg_alpha=0.1, regressor__reg_lambda=0.4;, score=-9579.033 total time= 1.1min\n",
      "[CV 1/2] END regressor__learning_rate=0.4, regressor__max_depth=6, regressor__n_estimators=700, regressor__reg_alpha=0.1, regressor__reg_lambda=0.5;, score=-8291.950 total time= 1.1min\n",
      "[CV 2/2] END regressor__learning_rate=0.4, regressor__max_depth=6, regressor__n_estimators=700, regressor__reg_alpha=0.1, regressor__reg_lambda=0.5;, score=-9579.834 total time=32.3min\n",
      "[CV 1/2] END regressor__learning_rate=0.4, regressor__max_depth=6, regressor__n_estimators=700, regressor__reg_alpha=0.1, regressor__reg_lambda=0.6;, score=-7970.749 total time= 1.1min\n",
      "[CV 2/2] END regressor__learning_rate=0.4, regressor__max_depth=6, regressor__n_estimators=700, regressor__reg_alpha=0.1, regressor__reg_lambda=0.6;, score=-9852.911 total time=25.5min\n",
      "[CV 1/2] END regressor__learning_rate=0.4, regressor__max_depth=6, regressor__n_estimators=700, regressor__reg_alpha=0.01, regressor__reg_lambda=0.4;, score=-8410.726 total time=16.6min\n",
      "[CV 2/2] END regressor__learning_rate=0.4, regressor__max_depth=6, regressor__n_estimators=700, regressor__reg_alpha=0.01, regressor__reg_lambda=0.4;, score=-9825.437 total time=17.3min\n",
      "[CV 1/2] END regressor__learning_rate=0.4, regressor__max_depth=6, regressor__n_estimators=700, regressor__reg_alpha=0.01, regressor__reg_lambda=0.5;, score=-8562.927 total time= 5.4min\n",
      "[CV 2/2] END regressor__learning_rate=0.4, regressor__max_depth=6, regressor__n_estimators=700, regressor__reg_alpha=0.01, regressor__reg_lambda=0.5;, score=-9682.057 total time= 9.9min\n",
      "[CV 1/2] END regressor__learning_rate=0.4, regressor__max_depth=6, regressor__n_estimators=700, regressor__reg_alpha=0.01, regressor__reg_lambda=0.6;, score=-8256.209 total time=33.8min\n",
      "[CV 2/2] END regressor__learning_rate=0.4, regressor__max_depth=6, regressor__n_estimators=700, regressor__reg_alpha=0.01, regressor__reg_lambda=0.6;, score=-9663.650 total time=17.6min\n",
      "[CV 1/2] END regressor__learning_rate=0.4, regressor__max_depth=6, regressor__n_estimators=700, regressor__reg_alpha=0.2, regressor__reg_lambda=0.4;, score=-8355.697 total time=16.7min\n",
      "[CV 2/2] END regressor__learning_rate=0.4, regressor__max_depth=6, regressor__n_estimators=700, regressor__reg_alpha=0.2, regressor__reg_lambda=0.4;, score=-9576.585 total time=16.7min\n",
      "[CV 1/2] END regressor__learning_rate=0.4, regressor__max_depth=6, regressor__n_estimators=700, regressor__reg_alpha=0.2, regressor__reg_lambda=0.5;, score=-8473.044 total time= 1.0min\n",
      "[CV 2/2] END regressor__learning_rate=0.4, regressor__max_depth=6, regressor__n_estimators=700, regressor__reg_alpha=0.2, regressor__reg_lambda=0.5;, score=-9676.777 total time= 1.0min\n",
      "[CV 1/2] END regressor__learning_rate=0.4, regressor__max_depth=6, regressor__n_estimators=700, regressor__reg_alpha=0.2, regressor__reg_lambda=0.6;, score=-8345.241 total time= 1.0min\n",
      "[CV 2/2] END regressor__learning_rate=0.4, regressor__max_depth=6, regressor__n_estimators=700, regressor__reg_alpha=0.2, regressor__reg_lambda=0.6;, score=-9791.109 total time= 1.0min\n",
      "[CV 1/2] END regressor__learning_rate=0.4, regressor__max_depth=5, regressor__n_estimators=750, regressor__reg_alpha=0.1, regressor__reg_lambda=0.4;, score=-7614.615 total time=  54.7s\n",
      "[CV 2/2] END regressor__learning_rate=0.4, regressor__max_depth=5, regressor__n_estimators=750, regressor__reg_alpha=0.1, regressor__reg_lambda=0.4;, score=-9446.405 total time=  54.6s\n",
      "[CV 1/2] END regressor__learning_rate=0.4, regressor__max_depth=5, regressor__n_estimators=750, regressor__reg_alpha=0.1, regressor__reg_lambda=0.5;, score=-7583.574 total time=  54.9s\n",
      "[CV 2/2] END regressor__learning_rate=0.4, regressor__max_depth=5, regressor__n_estimators=750, regressor__reg_alpha=0.1, regressor__reg_lambda=0.5;, score=-9411.865 total time=  58.5s\n",
      "[CV 1/2] END regressor__learning_rate=0.4, regressor__max_depth=5, regressor__n_estimators=750, regressor__reg_alpha=0.1, regressor__reg_lambda=0.6;, score=-7642.939 total time= 1.0min\n",
      "[CV 2/2] END regressor__learning_rate=0.4, regressor__max_depth=5, regressor__n_estimators=750, regressor__reg_alpha=0.1, regressor__reg_lambda=0.6;, score=-9547.235 total time= 1.0min\n",
      "[CV 1/2] END regressor__learning_rate=0.4, regressor__max_depth=5, regressor__n_estimators=750, regressor__reg_alpha=0.01, regressor__reg_lambda=0.4;, score=-7671.680 total time=  58.9s\n",
      "[CV 2/2] END regressor__learning_rate=0.4, regressor__max_depth=5, regressor__n_estimators=750, regressor__reg_alpha=0.01, regressor__reg_lambda=0.4;, score=-9498.646 total time=  59.6s\n",
      "[CV 1/2] END regressor__learning_rate=0.4, regressor__max_depth=5, regressor__n_estimators=750, regressor__reg_alpha=0.01, regressor__reg_lambda=0.5;, score=-7689.183 total time= 1.0min\n",
      "[CV 2/2] END regressor__learning_rate=0.4, regressor__max_depth=5, regressor__n_estimators=750, regressor__reg_alpha=0.01, regressor__reg_lambda=0.5;, score=-9480.735 total time= 1.0min\n",
      "[CV 1/2] END regressor__learning_rate=0.4, regressor__max_depth=5, regressor__n_estimators=750, regressor__reg_alpha=0.01, regressor__reg_lambda=0.6;, score=-7644.130 total time=16.5min\n",
      "[CV 2/2] END regressor__learning_rate=0.4, regressor__max_depth=5, regressor__n_estimators=750, regressor__reg_alpha=0.01, regressor__reg_lambda=0.6;, score=-9481.247 total time=18.2min\n",
      "[CV 1/2] END regressor__learning_rate=0.4, regressor__max_depth=5, regressor__n_estimators=750, regressor__reg_alpha=0.2, regressor__reg_lambda=0.4;, score=-7610.725 total time=16.1min\n",
      "[CV 2/2] END regressor__learning_rate=0.4, regressor__max_depth=5, regressor__n_estimators=750, regressor__reg_alpha=0.2, regressor__reg_lambda=0.4;, score=-9510.207 total time=17.7min\n",
      "[CV 1/2] END regressor__learning_rate=0.4, regressor__max_depth=5, regressor__n_estimators=750, regressor__reg_alpha=0.2, regressor__reg_lambda=0.5;, score=-7641.097 total time= 5.8min\n",
      "[CV 2/2] END regressor__learning_rate=0.4, regressor__max_depth=5, regressor__n_estimators=750, regressor__reg_alpha=0.2, regressor__reg_lambda=0.5;, score=-9411.866 total time=18.5min\n",
      "[CV 1/2] END regressor__learning_rate=0.4, regressor__max_depth=5, regressor__n_estimators=750, regressor__reg_alpha=0.2, regressor__reg_lambda=0.6;, score=-7631.746 total time=16.8min\n",
      "[CV 2/2] END regressor__learning_rate=0.4, regressor__max_depth=5, regressor__n_estimators=750, regressor__reg_alpha=0.2, regressor__reg_lambda=0.6;, score=-9453.440 total time=17.5min\n",
      "[CV 1/2] END regressor__learning_rate=0.4, regressor__max_depth=5, regressor__n_estimators=800, regressor__reg_alpha=0.1, regressor__reg_lambda=0.4;, score=-7637.218 total time=18.6min\n",
      "[CV 2/2] END regressor__learning_rate=0.4, regressor__max_depth=5, regressor__n_estimators=800, regressor__reg_alpha=0.1, regressor__reg_lambda=0.4;, score=-9429.831 total time=18.8min\n",
      "[CV 1/2] END regressor__learning_rate=0.4, regressor__max_depth=5, regressor__n_estimators=800, regressor__reg_alpha=0.1, regressor__reg_lambda=0.5;, score=-7586.641 total time=16.4min\n",
      "[CV 2/2] END regressor__learning_rate=0.4, regressor__max_depth=5, regressor__n_estimators=800, regressor__reg_alpha=0.1, regressor__reg_lambda=0.5;, score=-9406.873 total time=18.6min\n",
      "[CV 1/2] END regressor__learning_rate=0.4, regressor__max_depth=5, regressor__n_estimators=800, regressor__reg_alpha=0.1, regressor__reg_lambda=0.6;, score=-7618.097 total time=16.5min\n",
      "[CV 2/2] END regressor__learning_rate=0.4, regressor__max_depth=5, regressor__n_estimators=800, regressor__reg_alpha=0.1, regressor__reg_lambda=0.6;, score=-9570.371 total time=18.1min\n",
      "[CV 1/2] END regressor__learning_rate=0.4, regressor__max_depth=5, regressor__n_estimators=800, regressor__reg_alpha=0.01, regressor__reg_lambda=0.4;, score=-7651.446 total time=16.3min\n",
      "[CV 2/2] END regressor__learning_rate=0.4, regressor__max_depth=5, regressor__n_estimators=800, regressor__reg_alpha=0.01, regressor__reg_lambda=0.4;, score=-9481.677 total time=18.8min\n",
      "[CV 1/2] END regressor__learning_rate=0.4, regressor__max_depth=5, regressor__n_estimators=800, regressor__reg_alpha=0.01, regressor__reg_lambda=0.5;, score=-7694.913 total time=17.8min\n",
      "[CV 2/2] END regressor__learning_rate=0.4, regressor__max_depth=5, regressor__n_estimators=800, regressor__reg_alpha=0.01, regressor__reg_lambda=0.5;, score=-9449.612 total time=16.1min\n",
      "[CV 1/2] END regressor__learning_rate=0.4, regressor__max_depth=5, regressor__n_estimators=800, regressor__reg_alpha=0.01, regressor__reg_lambda=0.6;, score=-7647.358 total time=16.1min\n",
      "[CV 2/2] END regressor__learning_rate=0.4, regressor__max_depth=5, regressor__n_estimators=800, regressor__reg_alpha=0.01, regressor__reg_lambda=0.6;, score=-9463.095 total time= 7.0min\n",
      "[CV 1/2] END regressor__learning_rate=0.4, regressor__max_depth=5, regressor__n_estimators=800, regressor__reg_alpha=0.2, regressor__reg_lambda=0.4;, score=-7602.566 total time= 1.1min\n",
      "[CV 2/2] END regressor__learning_rate=0.4, regressor__max_depth=5, regressor__n_estimators=800, regressor__reg_alpha=0.2, regressor__reg_lambda=0.4;, score=-9476.809 total time= 1.0min\n",
      "[CV 1/2] END regressor__learning_rate=0.4, regressor__max_depth=5, regressor__n_estimators=800, regressor__reg_alpha=0.2, regressor__reg_lambda=0.5;, score=-7632.521 total time= 1.0min\n",
      "[CV 2/2] END regressor__learning_rate=0.4, regressor__max_depth=5, regressor__n_estimators=800, regressor__reg_alpha=0.2, regressor__reg_lambda=0.5;, score=-9406.873 total time= 1.0min\n",
      "[CV 1/2] END regressor__learning_rate=0.4, regressor__max_depth=5, regressor__n_estimators=800, regressor__reg_alpha=0.2, regressor__reg_lambda=0.6;, score=-7630.320 total time= 1.0min\n",
      "[CV 2/2] END regressor__learning_rate=0.4, regressor__max_depth=5, regressor__n_estimators=800, regressor__reg_alpha=0.2, regressor__reg_lambda=0.6;, score=-9430.709 total time=  56.5s\n",
      "[CV 1/2] END regressor__learning_rate=0.4, regressor__max_depth=5, regressor__n_estimators=700, regressor__reg_alpha=0.1, regressor__reg_lambda=0.4;, score=-7625.921 total time=  46.2s\n",
      "[CV 2/2] END regressor__learning_rate=0.4, regressor__max_depth=5, regressor__n_estimators=700, regressor__reg_alpha=0.1, regressor__reg_lambda=0.4;, score=-9475.489 total time=  45.7s\n",
      "[CV 1/2] END regressor__learning_rate=0.4, regressor__max_depth=5, regressor__n_estimators=700, regressor__reg_alpha=0.1, regressor__reg_lambda=0.5;, score=-7618.701 total time=  44.9s\n",
      "[CV 2/2] END regressor__learning_rate=0.4, regressor__max_depth=5, regressor__n_estimators=700, regressor__reg_alpha=0.1, regressor__reg_lambda=0.5;, score=-9435.040 total time=  45.1s\n",
      "[CV 1/2] END regressor__learning_rate=0.4, regressor__max_depth=5, regressor__n_estimators=700, regressor__reg_alpha=0.1, regressor__reg_lambda=0.6;, score=-7678.299 total time=  44.4s\n",
      "[CV 2/2] END regressor__learning_rate=0.4, regressor__max_depth=5, regressor__n_estimators=700, regressor__reg_alpha=0.1, regressor__reg_lambda=0.6;, score=-9570.692 total time=  45.0s\n",
      "[CV 1/2] END regressor__learning_rate=0.4, regressor__max_depth=5, regressor__n_estimators=700, regressor__reg_alpha=0.01, regressor__reg_lambda=0.4;, score=-7695.694 total time=  44.7s\n",
      "[CV 2/2] END regressor__learning_rate=0.4, regressor__max_depth=5, regressor__n_estimators=700, regressor__reg_alpha=0.01, regressor__reg_lambda=0.4;, score=-9490.339 total time=  44.4s\n",
      "[CV 1/2] END regressor__learning_rate=0.4, regressor__max_depth=5, regressor__n_estimators=700, regressor__reg_alpha=0.01, regressor__reg_lambda=0.5;, score=-7710.545 total time=  44.7s\n",
      "[CV 2/2] END regressor__learning_rate=0.4, regressor__max_depth=5, regressor__n_estimators=700, regressor__reg_alpha=0.01, regressor__reg_lambda=0.5;, score=-9492.469 total time=  45.1s\n",
      "[CV 1/2] END regressor__learning_rate=0.4, regressor__max_depth=5, regressor__n_estimators=700, regressor__reg_alpha=0.01, regressor__reg_lambda=0.6;, score=-7678.301 total time=  44.7s\n",
      "[CV 2/2] END regressor__learning_rate=0.4, regressor__max_depth=5, regressor__n_estimators=700, regressor__reg_alpha=0.01, regressor__reg_lambda=0.6;, score=-9524.749 total time=  44.7s\n",
      "[CV 1/2] END regressor__learning_rate=0.4, regressor__max_depth=5, regressor__n_estimators=700, regressor__reg_alpha=0.2, regressor__reg_lambda=0.4;, score=-7623.273 total time=  44.5s\n",
      "[CV 2/2] END regressor__learning_rate=0.4, regressor__max_depth=5, regressor__n_estimators=700, regressor__reg_alpha=0.2, regressor__reg_lambda=0.4;, score=-9527.783 total time=  44.6s\n",
      "[CV 1/2] END regressor__learning_rate=0.4, regressor__max_depth=5, regressor__n_estimators=700, regressor__reg_alpha=0.2, regressor__reg_lambda=0.5;, score=-7611.304 total time=  44.4s\n",
      "[CV 2/2] END regressor__learning_rate=0.4, regressor__max_depth=5, regressor__n_estimators=700, regressor__reg_alpha=0.2, regressor__reg_lambda=0.5;, score=-9435.041 total time=  44.6s\n",
      "[CV 1/2] END regressor__learning_rate=0.4, regressor__max_depth=5, regressor__n_estimators=700, regressor__reg_alpha=0.2, regressor__reg_lambda=0.6;, score=-7644.717 total time=  44.8s\n",
      "[CV 2/2] END regressor__learning_rate=0.4, regressor__max_depth=5, regressor__n_estimators=700, regressor__reg_alpha=0.2, regressor__reg_lambda=0.6;, score=-9472.608 total time=  44.7s\n",
      "[CV 1/2] END regressor__learning_rate=0.45, regressor__max_depth=4, regressor__n_estimators=750, regressor__reg_alpha=0.1, regressor__reg_lambda=0.4;, score=-7967.367 total time=  37.5s\n",
      "[CV 2/2] END regressor__learning_rate=0.45, regressor__max_depth=4, regressor__n_estimators=750, regressor__reg_alpha=0.1, regressor__reg_lambda=0.4;, score=-9869.679 total time=  40.4s\n",
      "[CV 1/2] END regressor__learning_rate=0.45, regressor__max_depth=4, regressor__n_estimators=750, regressor__reg_alpha=0.1, regressor__reg_lambda=0.5;, score=-7966.375 total time=  36.3s\n",
      "[CV 2/2] END regressor__learning_rate=0.45, regressor__max_depth=4, regressor__n_estimators=750, regressor__reg_alpha=0.1, regressor__reg_lambda=0.5;, score=-9874.979 total time=  36.7s\n",
      "[CV 1/2] END regressor__learning_rate=0.45, regressor__max_depth=4, regressor__n_estimators=750, regressor__reg_alpha=0.1, regressor__reg_lambda=0.6;, score=-7954.787 total time=  37.1s\n",
      "[CV 2/2] END regressor__learning_rate=0.45, regressor__max_depth=4, regressor__n_estimators=750, regressor__reg_alpha=0.1, regressor__reg_lambda=0.6;, score=-9879.376 total time=  38.0s\n",
      "[CV 1/2] END regressor__learning_rate=0.45, regressor__max_depth=4, regressor__n_estimators=750, regressor__reg_alpha=0.01, regressor__reg_lambda=0.4;, score=-7967.367 total time=  39.4s\n",
      "[CV 2/2] END regressor__learning_rate=0.45, regressor__max_depth=4, regressor__n_estimators=750, regressor__reg_alpha=0.01, regressor__reg_lambda=0.4;, score=-9865.163 total time=  37.6s\n",
      "[CV 1/2] END regressor__learning_rate=0.45, regressor__max_depth=4, regressor__n_estimators=750, regressor__reg_alpha=0.01, regressor__reg_lambda=0.5;, score=-7966.374 total time=  39.2s\n",
      "[CV 2/2] END regressor__learning_rate=0.45, regressor__max_depth=4, regressor__n_estimators=750, regressor__reg_alpha=0.01, regressor__reg_lambda=0.5;, score=-9874.979 total time=  38.8s\n",
      "[CV 1/2] END regressor__learning_rate=0.45, regressor__max_depth=4, regressor__n_estimators=750, regressor__reg_alpha=0.01, regressor__reg_lambda=0.6;, score=-7954.786 total time=  41.1s\n",
      "[CV 2/2] END regressor__learning_rate=0.45, regressor__max_depth=4, regressor__n_estimators=750, regressor__reg_alpha=0.01, regressor__reg_lambda=0.6;, score=-9855.862 total time=  41.5s\n",
      "[CV 1/2] END regressor__learning_rate=0.45, regressor__max_depth=4, regressor__n_estimators=750, regressor__reg_alpha=0.2, regressor__reg_lambda=0.4;, score=-7959.928 total time=  39.9s\n",
      "[CV 2/2] END regressor__learning_rate=0.45, regressor__max_depth=4, regressor__n_estimators=750, regressor__reg_alpha=0.2, regressor__reg_lambda=0.4;, score=-9869.679 total time=  40.0s\n",
      "[CV 1/2] END regressor__learning_rate=0.45, regressor__max_depth=4, regressor__n_estimators=750, regressor__reg_alpha=0.2, regressor__reg_lambda=0.5;, score=-7966.376 total time=  40.8s\n",
      "[CV 2/2] END regressor__learning_rate=0.45, regressor__max_depth=4, regressor__n_estimators=750, regressor__reg_alpha=0.2, regressor__reg_lambda=0.5;, score=-9874.604 total time=  40.0s\n",
      "[CV 1/2] END regressor__learning_rate=0.45, regressor__max_depth=4, regressor__n_estimators=750, regressor__reg_alpha=0.2, regressor__reg_lambda=0.6;, score=-7954.789 total time=  40.2s\n",
      "[CV 2/2] END regressor__learning_rate=0.45, regressor__max_depth=4, regressor__n_estimators=750, regressor__reg_alpha=0.2, regressor__reg_lambda=0.6;, score=-9878.969 total time=  40.1s\n",
      "[CV 1/2] END regressor__learning_rate=0.45, regressor__max_depth=4, regressor__n_estimators=800, regressor__reg_alpha=0.1, regressor__reg_lambda=0.4;, score=-7947.422 total time=  42.9s\n",
      "[CV 2/2] END regressor__learning_rate=0.45, regressor__max_depth=4, regressor__n_estimators=800, regressor__reg_alpha=0.1, regressor__reg_lambda=0.4;, score=-9849.895 total time=  42.9s\n",
      "[CV 1/2] END regressor__learning_rate=0.45, regressor__max_depth=4, regressor__n_estimators=800, regressor__reg_alpha=0.1, regressor__reg_lambda=0.5;, score=-7943.770 total time=  43.2s\n",
      "[CV 2/2] END regressor__learning_rate=0.45, regressor__max_depth=4, regressor__n_estimators=800, regressor__reg_alpha=0.1, regressor__reg_lambda=0.5;, score=-9848.345 total time=  43.1s\n",
      "[CV 1/2] END regressor__learning_rate=0.45, regressor__max_depth=4, regressor__n_estimators=800, regressor__reg_alpha=0.1, regressor__reg_lambda=0.6;, score=-7938.898 total time=  47.0s\n",
      "[CV 2/2] END regressor__learning_rate=0.45, regressor__max_depth=4, regressor__n_estimators=800, regressor__reg_alpha=0.1, regressor__reg_lambda=0.6;, score=-9842.342 total time=  41.0s\n",
      "[CV 1/2] END regressor__learning_rate=0.45, regressor__max_depth=4, regressor__n_estimators=800, regressor__reg_alpha=0.01, regressor__reg_lambda=0.4;, score=-7947.422 total time=  41.3s\n",
      "[CV 2/2] END regressor__learning_rate=0.45, regressor__max_depth=4, regressor__n_estimators=800, regressor__reg_alpha=0.01, regressor__reg_lambda=0.4;, score=-9847.650 total time=  41.2s\n",
      "[CV 1/2] END regressor__learning_rate=0.45, regressor__max_depth=4, regressor__n_estimators=800, regressor__reg_alpha=0.01, regressor__reg_lambda=0.5;, score=-7943.770 total time=  41.5s\n",
      "[CV 2/2] END regressor__learning_rate=0.45, regressor__max_depth=4, regressor__n_estimators=800, regressor__reg_alpha=0.01, regressor__reg_lambda=0.5;, score=-9848.345 total time=  40.6s\n",
      "[CV 1/2] END regressor__learning_rate=0.45, regressor__max_depth=4, regressor__n_estimators=800, regressor__reg_alpha=0.01, regressor__reg_lambda=0.6;, score=-7938.897 total time=  40.3s\n",
      "[CV 2/2] END regressor__learning_rate=0.45, regressor__max_depth=4, regressor__n_estimators=800, regressor__reg_alpha=0.01, regressor__reg_lambda=0.6;, score=-9846.701 total time=  39.6s\n",
      "[CV 1/2] END regressor__learning_rate=0.45, regressor__max_depth=4, regressor__n_estimators=800, regressor__reg_alpha=0.2, regressor__reg_lambda=0.4;, score=-7935.460 total time=  40.4s\n",
      "[CV 2/2] END regressor__learning_rate=0.45, regressor__max_depth=4, regressor__n_estimators=800, regressor__reg_alpha=0.2, regressor__reg_lambda=0.4;, score=-9849.895 total time=  39.6s\n",
      "[CV 1/2] END regressor__learning_rate=0.45, regressor__max_depth=4, regressor__n_estimators=800, regressor__reg_alpha=0.2, regressor__reg_lambda=0.5;, score=-7943.771 total time=  40.1s\n",
      "[CV 2/2] END regressor__learning_rate=0.45, regressor__max_depth=4, regressor__n_estimators=800, regressor__reg_alpha=0.2, regressor__reg_lambda=0.5;, score=-9846.719 total time=  40.8s\n",
      "[CV 1/2] END regressor__learning_rate=0.45, regressor__max_depth=4, regressor__n_estimators=800, regressor__reg_alpha=0.2, regressor__reg_lambda=0.6;, score=-7938.900 total time=  43.0s\n",
      "[CV 2/2] END regressor__learning_rate=0.45, regressor__max_depth=4, regressor__n_estimators=800, regressor__reg_alpha=0.2, regressor__reg_lambda=0.6;, score=-9843.658 total time=  45.8s\n",
      "[CV 1/2] END regressor__learning_rate=0.45, regressor__max_depth=4, regressor__n_estimators=700, regressor__reg_alpha=0.1, regressor__reg_lambda=0.4;, score=-7987.461 total time=  35.4s\n",
      "[CV 2/2] END regressor__learning_rate=0.45, regressor__max_depth=4, regressor__n_estimators=700, regressor__reg_alpha=0.1, regressor__reg_lambda=0.4;, score=-9887.779 total time=  37.2s\n",
      "[CV 1/2] END regressor__learning_rate=0.45, regressor__max_depth=4, regressor__n_estimators=700, regressor__reg_alpha=0.1, regressor__reg_lambda=0.5;, score=-7988.339 total time=  36.9s\n",
      "[CV 2/2] END regressor__learning_rate=0.45, regressor__max_depth=4, regressor__n_estimators=700, regressor__reg_alpha=0.1, regressor__reg_lambda=0.5;, score=-9892.253 total time=  36.6s\n",
      "[CV 1/2] END regressor__learning_rate=0.45, regressor__max_depth=4, regressor__n_estimators=700, regressor__reg_alpha=0.1, regressor__reg_lambda=0.6;, score=-7972.907 total time=  38.2s\n",
      "[CV 2/2] END regressor__learning_rate=0.45, regressor__max_depth=4, regressor__n_estimators=700, regressor__reg_alpha=0.1, regressor__reg_lambda=0.6;, score=-9906.878 total time=  35.7s\n",
      "[CV 1/2] END regressor__learning_rate=0.45, regressor__max_depth=4, regressor__n_estimators=700, regressor__reg_alpha=0.01, regressor__reg_lambda=0.4;, score=-7987.460 total time=  35.9s\n",
      "[CV 2/2] END regressor__learning_rate=0.45, regressor__max_depth=4, regressor__n_estimators=700, regressor__reg_alpha=0.01, regressor__reg_lambda=0.4;, score=-9886.827 total time=  36.3s\n",
      "[CV 1/2] END regressor__learning_rate=0.45, regressor__max_depth=4, regressor__n_estimators=700, regressor__reg_alpha=0.01, regressor__reg_lambda=0.5;, score=-7988.338 total time=  38.8s\n",
      "[CV 2/2] END regressor__learning_rate=0.45, regressor__max_depth=4, regressor__n_estimators=700, regressor__reg_alpha=0.01, regressor__reg_lambda=0.5;, score=-9892.252 total time=  40.5s\n",
      "[CV 1/2] END regressor__learning_rate=0.45, regressor__max_depth=4, regressor__n_estimators=700, regressor__reg_alpha=0.01, regressor__reg_lambda=0.6;, score=-7972.906 total time=  36.7s\n",
      "[CV 2/2] END regressor__learning_rate=0.45, regressor__max_depth=4, regressor__n_estimators=700, regressor__reg_alpha=0.01, regressor__reg_lambda=0.6;, score=-9876.954 total time=  39.1s\n",
      "[CV 1/2] END regressor__learning_rate=0.45, regressor__max_depth=4, regressor__n_estimators=700, regressor__reg_alpha=0.2, regressor__reg_lambda=0.4;, score=-7987.929 total time=  37.9s\n",
      "[CV 2/2] END regressor__learning_rate=0.45, regressor__max_depth=4, regressor__n_estimators=700, regressor__reg_alpha=0.2, regressor__reg_lambda=0.4;, score=-9887.780 total time=  38.6s\n",
      "[CV 1/2] END regressor__learning_rate=0.45, regressor__max_depth=4, regressor__n_estimators=700, regressor__reg_alpha=0.2, regressor__reg_lambda=0.5;, score=-7988.340 total time=  37.9s\n",
      "[CV 2/2] END regressor__learning_rate=0.45, regressor__max_depth=4, regressor__n_estimators=700, regressor__reg_alpha=0.2, regressor__reg_lambda=0.5;, score=-9892.254 total time=  38.2s\n",
      "[CV 1/2] END regressor__learning_rate=0.45, regressor__max_depth=4, regressor__n_estimators=700, regressor__reg_alpha=0.2, regressor__reg_lambda=0.6;, score=-7972.909 total time=  35.4s\n",
      "[CV 2/2] END regressor__learning_rate=0.45, regressor__max_depth=4, regressor__n_estimators=700, regressor__reg_alpha=0.2, regressor__reg_lambda=0.6;, score=-9898.445 total time=  35.9s\n",
      "[CV 1/2] END regressor__learning_rate=0.45, regressor__max_depth=6, regressor__n_estimators=750, regressor__reg_alpha=0.1, regressor__reg_lambda=0.4;, score=-8754.060 total time= 1.0min\n",
      "[CV 2/2] END regressor__learning_rate=0.45, regressor__max_depth=6, regressor__n_estimators=750, regressor__reg_alpha=0.1, regressor__reg_lambda=0.4;, score=-9888.866 total time= 1.0min\n",
      "[CV 1/2] END regressor__learning_rate=0.45, regressor__max_depth=6, regressor__n_estimators=750, regressor__reg_alpha=0.1, regressor__reg_lambda=0.5;, score=-9007.529 total time= 1.0min\n",
      "[CV 2/2] END regressor__learning_rate=0.45, regressor__max_depth=6, regressor__n_estimators=750, regressor__reg_alpha=0.1, regressor__reg_lambda=0.5;, score=-9827.606 total time= 1.0min\n",
      "[CV 1/2] END regressor__learning_rate=0.45, regressor__max_depth=6, regressor__n_estimators=750, regressor__reg_alpha=0.1, regressor__reg_lambda=0.6;, score=-8343.619 total time= 1.1min\n",
      "[CV 2/2] END regressor__learning_rate=0.45, regressor__max_depth=6, regressor__n_estimators=750, regressor__reg_alpha=0.1, regressor__reg_lambda=0.6;, score=-9813.107 total time= 1.1min\n",
      "[CV 1/2] END regressor__learning_rate=0.45, regressor__max_depth=6, regressor__n_estimators=750, regressor__reg_alpha=0.01, regressor__reg_lambda=0.4;, score=-8403.199 total time= 1.1min\n",
      "[CV 2/2] END regressor__learning_rate=0.45, regressor__max_depth=6, regressor__n_estimators=750, regressor__reg_alpha=0.01, regressor__reg_lambda=0.4;, score=-9877.173 total time= 1.1min\n",
      "[CV 1/2] END regressor__learning_rate=0.45, regressor__max_depth=6, regressor__n_estimators=750, regressor__reg_alpha=0.01, regressor__reg_lambda=0.5;, score=-8154.742 total time= 1.1min\n",
      "[CV 2/2] END regressor__learning_rate=0.45, regressor__max_depth=6, regressor__n_estimators=750, regressor__reg_alpha=0.01, regressor__reg_lambda=0.5;, score=-9801.631 total time= 1.1min\n",
      "[CV 1/2] END regressor__learning_rate=0.45, regressor__max_depth=6, regressor__n_estimators=750, regressor__reg_alpha=0.01, regressor__reg_lambda=0.6;, score=-8489.873 total time= 1.1min\n",
      "[CV 2/2] END regressor__learning_rate=0.45, regressor__max_depth=6, regressor__n_estimators=750, regressor__reg_alpha=0.01, regressor__reg_lambda=0.6;, score=-9792.515 total time= 1.1min\n",
      "[CV 1/2] END regressor__learning_rate=0.45, regressor__max_depth=6, regressor__n_estimators=750, regressor__reg_alpha=0.2, regressor__reg_lambda=0.4;, score=-8629.586 total time= 1.1min\n",
      "[CV 2/2] END regressor__learning_rate=0.45, regressor__max_depth=6, regressor__n_estimators=750, regressor__reg_alpha=0.2, regressor__reg_lambda=0.4;, score=-9866.322 total time= 1.1min\n",
      "[CV 1/2] END regressor__learning_rate=0.45, regressor__max_depth=6, regressor__n_estimators=750, regressor__reg_alpha=0.2, regressor__reg_lambda=0.5;, score=-8460.379 total time= 1.0min\n",
      "[CV 2/2] END regressor__learning_rate=0.45, regressor__max_depth=6, regressor__n_estimators=750, regressor__reg_alpha=0.2, regressor__reg_lambda=0.5;, score=-9879.289 total time= 1.0min\n",
      "[CV 1/2] END regressor__learning_rate=0.45, regressor__max_depth=6, regressor__n_estimators=750, regressor__reg_alpha=0.2, regressor__reg_lambda=0.6;, score=-8598.100 total time= 1.0min\n",
      "[CV 2/2] END regressor__learning_rate=0.45, regressor__max_depth=6, regressor__n_estimators=750, regressor__reg_alpha=0.2, regressor__reg_lambda=0.6;, score=-10138.529 total time= 1.0min\n",
      "[CV 1/2] END regressor__learning_rate=0.45, regressor__max_depth=6, regressor__n_estimators=800, regressor__reg_alpha=0.1, regressor__reg_lambda=0.4;, score=-8819.884 total time= 1.1min\n",
      "[CV 2/2] END regressor__learning_rate=0.45, regressor__max_depth=6, regressor__n_estimators=800, regressor__reg_alpha=0.1, regressor__reg_lambda=0.4;, score=-9902.267 total time= 1.2min\n",
      "[CV 1/2] END regressor__learning_rate=0.45, regressor__max_depth=6, regressor__n_estimators=800, regressor__reg_alpha=0.1, regressor__reg_lambda=0.5;, score=-8997.639 total time= 1.1min\n",
      "[CV 2/2] END regressor__learning_rate=0.45, regressor__max_depth=6, regressor__n_estimators=800, regressor__reg_alpha=0.1, regressor__reg_lambda=0.5;, score=-9898.992 total time= 1.2min\n",
      "[CV 1/2] END regressor__learning_rate=0.45, regressor__max_depth=6, regressor__n_estimators=800, regressor__reg_alpha=0.1, regressor__reg_lambda=0.6;, score=-8352.720 total time= 1.2min\n",
      "[CV 2/2] END regressor__learning_rate=0.45, regressor__max_depth=6, regressor__n_estimators=800, regressor__reg_alpha=0.1, regressor__reg_lambda=0.6;, score=-9893.991 total time= 1.1min\n",
      "[CV 1/2] END regressor__learning_rate=0.45, regressor__max_depth=6, regressor__n_estimators=800, regressor__reg_alpha=0.01, regressor__reg_lambda=0.4;, score=-8394.665 total time= 1.2min\n",
      "[CV 2/2] END regressor__learning_rate=0.45, regressor__max_depth=6, regressor__n_estimators=800, regressor__reg_alpha=0.01, regressor__reg_lambda=0.4;, score=-9903.484 total time= 1.1min\n",
      "[CV 1/2] END regressor__learning_rate=0.45, regressor__max_depth=6, regressor__n_estimators=800, regressor__reg_alpha=0.01, regressor__reg_lambda=0.5;, score=-8148.562 total time= 1.2min\n",
      "[CV 2/2] END regressor__learning_rate=0.45, regressor__max_depth=6, regressor__n_estimators=800, regressor__reg_alpha=0.01, regressor__reg_lambda=0.5;, score=-9873.899 total time= 1.2min\n",
      "[CV 1/2] END regressor__learning_rate=0.45, regressor__max_depth=6, regressor__n_estimators=800, regressor__reg_alpha=0.01, regressor__reg_lambda=0.6;, score=-8488.281 total time= 1.1min\n",
      "[CV 2/2] END regressor__learning_rate=0.45, regressor__max_depth=6, regressor__n_estimators=800, regressor__reg_alpha=0.01, regressor__reg_lambda=0.6;, score=-9816.806 total time= 1.1min\n",
      "[CV 1/2] END regressor__learning_rate=0.45, regressor__max_depth=6, regressor__n_estimators=800, regressor__reg_alpha=0.2, regressor__reg_lambda=0.4;, score=-8608.054 total time= 1.1min\n",
      "[CV 2/2] END regressor__learning_rate=0.45, regressor__max_depth=6, regressor__n_estimators=800, regressor__reg_alpha=0.2, regressor__reg_lambda=0.4;, score=-9950.939 total time= 1.2min\n",
      "[CV 1/2] END regressor__learning_rate=0.45, regressor__max_depth=6, regressor__n_estimators=800, regressor__reg_alpha=0.2, regressor__reg_lambda=0.5;, score=-8560.831 total time= 1.2min\n",
      "[CV 2/2] END regressor__learning_rate=0.45, regressor__max_depth=6, regressor__n_estimators=800, regressor__reg_alpha=0.2, regressor__reg_lambda=0.5;, score=-9885.203 total time= 1.1min\n",
      "[CV 1/2] END regressor__learning_rate=0.45, regressor__max_depth=6, regressor__n_estimators=800, regressor__reg_alpha=0.2, regressor__reg_lambda=0.6;, score=-8616.091 total time= 1.2min\n",
      "[CV 2/2] END regressor__learning_rate=0.45, regressor__max_depth=6, regressor__n_estimators=800, regressor__reg_alpha=0.2, regressor__reg_lambda=0.6;, score=-10140.161 total time= 1.1min\n",
      "[CV 1/2] END regressor__learning_rate=0.45, regressor__max_depth=6, regressor__n_estimators=700, regressor__reg_alpha=0.1, regressor__reg_lambda=0.4;, score=-8721.315 total time= 1.0min\n",
      "[CV 2/2] END regressor__learning_rate=0.45, regressor__max_depth=6, regressor__n_estimators=700, regressor__reg_alpha=0.1, regressor__reg_lambda=0.4;, score=-9857.255 total time= 1.0min\n",
      "[CV 1/2] END regressor__learning_rate=0.45, regressor__max_depth=6, regressor__n_estimators=700, regressor__reg_alpha=0.1, regressor__reg_lambda=0.5;, score=-8963.591 total time= 1.0min\n",
      "[CV 2/2] END regressor__learning_rate=0.45, regressor__max_depth=6, regressor__n_estimators=700, regressor__reg_alpha=0.1, regressor__reg_lambda=0.5;, score=-9827.613 total time=  58.6s\n",
      "[CV 1/2] END regressor__learning_rate=0.45, regressor__max_depth=6, regressor__n_estimators=700, regressor__reg_alpha=0.1, regressor__reg_lambda=0.6;, score=-8287.349 total time=  57.5s\n",
      "[CV 2/2] END regressor__learning_rate=0.45, regressor__max_depth=6, regressor__n_estimators=700, regressor__reg_alpha=0.1, regressor__reg_lambda=0.6;, score=-9696.115 total time=  55.5s\n",
      "[CV 1/2] END regressor__learning_rate=0.45, regressor__max_depth=6, regressor__n_estimators=700, regressor__reg_alpha=0.01, regressor__reg_lambda=0.4;, score=-8397.938 total time=  55.8s\n",
      "[CV 2/2] END regressor__learning_rate=0.45, regressor__max_depth=6, regressor__n_estimators=700, regressor__reg_alpha=0.01, regressor__reg_lambda=0.4;, score=-9857.709 total time=  58.0s\n",
      "[CV 1/2] END regressor__learning_rate=0.45, regressor__max_depth=6, regressor__n_estimators=700, regressor__reg_alpha=0.01, regressor__reg_lambda=0.5;, score=-8073.494 total time= 1.0min\n",
      "[CV 2/2] END regressor__learning_rate=0.45, regressor__max_depth=6, regressor__n_estimators=700, regressor__reg_alpha=0.01, regressor__reg_lambda=0.5;, score=-9761.580 total time= 1.0min\n",
      "[CV 1/2] END regressor__learning_rate=0.45, regressor__max_depth=6, regressor__n_estimators=700, regressor__reg_alpha=0.01, regressor__reg_lambda=0.6;, score=-8517.420 total time= 1.0min\n",
      "[CV 2/2] END regressor__learning_rate=0.45, regressor__max_depth=6, regressor__n_estimators=700, regressor__reg_alpha=0.01, regressor__reg_lambda=0.6;, score=-9792.620 total time= 1.0min\n",
      "[CV 1/2] END regressor__learning_rate=0.45, regressor__max_depth=6, regressor__n_estimators=700, regressor__reg_alpha=0.2, regressor__reg_lambda=0.4;, score=-8551.582 total time= 1.0min\n",
      "[CV 2/2] END regressor__learning_rate=0.45, regressor__max_depth=6, regressor__n_estimators=700, regressor__reg_alpha=0.2, regressor__reg_lambda=0.4;, score=-9868.957 total time= 1.0min\n",
      "[CV 1/2] END regressor__learning_rate=0.45, regressor__max_depth=6, regressor__n_estimators=700, regressor__reg_alpha=0.2, regressor__reg_lambda=0.5;, score=-8401.417 total time= 1.0min\n",
      "[CV 2/2] END regressor__learning_rate=0.45, regressor__max_depth=6, regressor__n_estimators=700, regressor__reg_alpha=0.2, regressor__reg_lambda=0.5;, score=-9745.940 total time= 1.0min\n",
      "[CV 1/2] END regressor__learning_rate=0.45, regressor__max_depth=6, regressor__n_estimators=700, regressor__reg_alpha=0.2, regressor__reg_lambda=0.6;, score=-8599.175 total time= 1.0min\n",
      "[CV 2/2] END regressor__learning_rate=0.45, regressor__max_depth=6, regressor__n_estimators=700, regressor__reg_alpha=0.2, regressor__reg_lambda=0.6;, score=-10130.212 total time= 1.0min\n",
      "[CV 1/2] END regressor__learning_rate=0.45, regressor__max_depth=5, regressor__n_estimators=750, regressor__reg_alpha=0.1, regressor__reg_lambda=0.4;, score=-7649.688 total time=  52.6s\n",
      "[CV 2/2] END regressor__learning_rate=0.45, regressor__max_depth=5, regressor__n_estimators=750, regressor__reg_alpha=0.1, regressor__reg_lambda=0.4;, score=-9412.278 total time=  52.5s\n",
      "[CV 1/2] END regressor__learning_rate=0.45, regressor__max_depth=5, regressor__n_estimators=750, regressor__reg_alpha=0.1, regressor__reg_lambda=0.5;, score=-7611.981 total time=  51.9s\n",
      "[CV 2/2] END regressor__learning_rate=0.45, regressor__max_depth=5, regressor__n_estimators=750, regressor__reg_alpha=0.1, regressor__reg_lambda=0.5;, score=-9527.379 total time=  48.2s\n",
      "[CV 1/2] END regressor__learning_rate=0.45, regressor__max_depth=5, regressor__n_estimators=750, regressor__reg_alpha=0.1, regressor__reg_lambda=0.6;, score=-7666.289 total time=  50.4s\n",
      "[CV 2/2] END regressor__learning_rate=0.45, regressor__max_depth=5, regressor__n_estimators=750, regressor__reg_alpha=0.1, regressor__reg_lambda=0.6;, score=-9512.808 total time=  52.8s\n",
      "[CV 1/2] END regressor__learning_rate=0.45, regressor__max_depth=5, regressor__n_estimators=750, regressor__reg_alpha=0.01, regressor__reg_lambda=0.4;, score=-7681.177 total time=  49.3s\n",
      "[CV 2/2] END regressor__learning_rate=0.45, regressor__max_depth=5, regressor__n_estimators=750, regressor__reg_alpha=0.01, regressor__reg_lambda=0.4;, score=-9527.749 total time=  50.8s\n",
      "[CV 1/2] END regressor__learning_rate=0.45, regressor__max_depth=5, regressor__n_estimators=750, regressor__reg_alpha=0.01, regressor__reg_lambda=0.5;, score=-7641.761 total time=  49.3s\n",
      "[CV 2/2] END regressor__learning_rate=0.45, regressor__max_depth=5, regressor__n_estimators=750, regressor__reg_alpha=0.01, regressor__reg_lambda=0.5;, score=-9527.381 total time=  49.9s\n",
      "[CV 1/2] END regressor__learning_rate=0.45, regressor__max_depth=5, regressor__n_estimators=750, regressor__reg_alpha=0.01, regressor__reg_lambda=0.6;, score=-7631.238 total time=  49.8s\n",
      "[CV 2/2] END regressor__learning_rate=0.45, regressor__max_depth=5, regressor__n_estimators=750, regressor__reg_alpha=0.01, regressor__reg_lambda=0.6;, score=-9512.811 total time=  52.1s\n",
      "[CV 1/2] END regressor__learning_rate=0.45, regressor__max_depth=5, regressor__n_estimators=750, regressor__reg_alpha=0.2, regressor__reg_lambda=0.4;, score=-7660.310 total time=  53.5s\n",
      "[CV 2/2] END regressor__learning_rate=0.45, regressor__max_depth=5, regressor__n_estimators=750, regressor__reg_alpha=0.2, regressor__reg_lambda=0.4;, score=-9412.276 total time=  57.2s\n",
      "[CV 1/2] END regressor__learning_rate=0.45, regressor__max_depth=5, regressor__n_estimators=750, regressor__reg_alpha=0.2, regressor__reg_lambda=0.5;, score=-7676.469 total time=  51.5s\n",
      "[CV 2/2] END regressor__learning_rate=0.45, regressor__max_depth=5, regressor__n_estimators=750, regressor__reg_alpha=0.2, regressor__reg_lambda=0.5;, score=-9527.377 total time=  51.6s\n",
      "[CV 1/2] END regressor__learning_rate=0.45, regressor__max_depth=5, regressor__n_estimators=750, regressor__reg_alpha=0.2, regressor__reg_lambda=0.6;, score=-7666.286 total time=  52.1s\n",
      "[CV 2/2] END regressor__learning_rate=0.45, regressor__max_depth=5, regressor__n_estimators=750, regressor__reg_alpha=0.2, regressor__reg_lambda=0.6;, score=-9512.805 total time=  50.3s\n",
      "[CV 1/2] END regressor__learning_rate=0.45, regressor__max_depth=5, regressor__n_estimators=800, regressor__reg_alpha=0.1, regressor__reg_lambda=0.4;, score=-7643.785 total time=  51.3s\n",
      "[CV 2/2] END regressor__learning_rate=0.45, regressor__max_depth=5, regressor__n_estimators=800, regressor__reg_alpha=0.1, regressor__reg_lambda=0.4;, score=-9438.155 total time=  51.1s\n",
      "[CV 1/2] END regressor__learning_rate=0.45, regressor__max_depth=5, regressor__n_estimators=800, regressor__reg_alpha=0.1, regressor__reg_lambda=0.5;, score=-7608.272 total time=  52.6s\n",
      "[CV 2/2] END regressor__learning_rate=0.45, regressor__max_depth=5, regressor__n_estimators=800, regressor__reg_alpha=0.1, regressor__reg_lambda=0.5;, score=-9500.836 total time=  51.5s\n",
      "[CV 1/2] END regressor__learning_rate=0.45, regressor__max_depth=5, regressor__n_estimators=800, regressor__reg_alpha=0.1, regressor__reg_lambda=0.6;, score=-7647.036 total time=  53.5s\n",
      "[CV 2/2] END regressor__learning_rate=0.45, regressor__max_depth=5, regressor__n_estimators=800, regressor__reg_alpha=0.1, regressor__reg_lambda=0.6;, score=-9504.328 total time=  52.9s\n",
      "[CV 1/2] END regressor__learning_rate=0.45, regressor__max_depth=5, regressor__n_estimators=800, regressor__reg_alpha=0.01, regressor__reg_lambda=0.4;, score=-7676.512 total time=  52.3s\n",
      "[CV 2/2] END regressor__learning_rate=0.45, regressor__max_depth=5, regressor__n_estimators=800, regressor__reg_alpha=0.01, regressor__reg_lambda=0.4;, score=-9525.501 total time=  52.8s\n",
      "[CV 1/2] END regressor__learning_rate=0.45, regressor__max_depth=5, regressor__n_estimators=800, regressor__reg_alpha=0.01, regressor__reg_lambda=0.5;, score=-7617.439 total time=  53.5s\n",
      "[CV 2/2] END regressor__learning_rate=0.45, regressor__max_depth=5, regressor__n_estimators=800, regressor__reg_alpha=0.01, regressor__reg_lambda=0.5;, score=-9500.838 total time=  55.6s\n",
      "[CV 1/2] END regressor__learning_rate=0.45, regressor__max_depth=5, regressor__n_estimators=800, regressor__reg_alpha=0.01, regressor__reg_lambda=0.6;, score=-7637.032 total time=  55.4s\n",
      "[CV 2/2] END regressor__learning_rate=0.45, regressor__max_depth=5, regressor__n_estimators=800, regressor__reg_alpha=0.01, regressor__reg_lambda=0.6;, score=-9504.331 total time=  55.4s\n",
      "[CV 1/2] END regressor__learning_rate=0.45, regressor__max_depth=5, regressor__n_estimators=800, regressor__reg_alpha=0.2, regressor__reg_lambda=0.4;, score=-7676.319 total time=  57.9s\n",
      "[CV 2/2] END regressor__learning_rate=0.45, regressor__max_depth=5, regressor__n_estimators=800, regressor__reg_alpha=0.2, regressor__reg_lambda=0.4;, score=-9438.153 total time=  56.4s\n",
      "[CV 1/2] END regressor__learning_rate=0.45, regressor__max_depth=5, regressor__n_estimators=800, regressor__reg_alpha=0.2, regressor__reg_lambda=0.5;, score=-7698.712 total time=  56.1s\n",
      "[CV 2/2] END regressor__learning_rate=0.45, regressor__max_depth=5, regressor__n_estimators=800, regressor__reg_alpha=0.2, regressor__reg_lambda=0.5;, score=-9549.152 total time=  54.4s\n",
      "[CV 1/2] END regressor__learning_rate=0.45, regressor__max_depth=5, regressor__n_estimators=800, regressor__reg_alpha=0.2, regressor__reg_lambda=0.6;, score=-7647.033 total time=  53.0s\n",
      "[CV 2/2] END regressor__learning_rate=0.45, regressor__max_depth=5, regressor__n_estimators=800, regressor__reg_alpha=0.2, regressor__reg_lambda=0.6;, score=-9504.325 total time=  53.5s\n",
      "[CV 1/2] END regressor__learning_rate=0.45, regressor__max_depth=5, regressor__n_estimators=700, regressor__reg_alpha=0.1, regressor__reg_lambda=0.4;, score=-7664.148 total time=  46.9s\n",
      "[CV 2/2] END regressor__learning_rate=0.45, regressor__max_depth=5, regressor__n_estimators=700, regressor__reg_alpha=0.1, regressor__reg_lambda=0.4;, score=-9415.919 total time=  47.6s\n",
      "[CV 1/2] END regressor__learning_rate=0.45, regressor__max_depth=5, regressor__n_estimators=700, regressor__reg_alpha=0.1, regressor__reg_lambda=0.5;, score=-7614.643 total time=  48.5s\n",
      "[CV 2/2] END regressor__learning_rate=0.45, regressor__max_depth=5, regressor__n_estimators=700, regressor__reg_alpha=0.1, regressor__reg_lambda=0.5;, score=-9504.764 total time=  47.0s\n",
      "[CV 1/2] END regressor__learning_rate=0.45, regressor__max_depth=5, regressor__n_estimators=700, regressor__reg_alpha=0.1, regressor__reg_lambda=0.6;, score=-7672.188 total time=  46.6s\n",
      "[CV 2/2] END regressor__learning_rate=0.45, regressor__max_depth=5, regressor__n_estimators=700, regressor__reg_alpha=0.1, regressor__reg_lambda=0.6;, score=-9491.502 total time=  45.7s\n",
      "[CV 1/2] END regressor__learning_rate=0.45, regressor__max_depth=5, regressor__n_estimators=700, regressor__reg_alpha=0.01, regressor__reg_lambda=0.4;, score=-7664.982 total time=  46.9s\n",
      "[CV 2/2] END regressor__learning_rate=0.45, regressor__max_depth=5, regressor__n_estimators=700, regressor__reg_alpha=0.01, regressor__reg_lambda=0.4;, score=-9537.777 total time=  46.5s\n",
      "[CV 1/2] END regressor__learning_rate=0.45, regressor__max_depth=5, regressor__n_estimators=700, regressor__reg_alpha=0.01, regressor__reg_lambda=0.5;, score=-7649.895 total time=  47.1s\n",
      "[CV 2/2] END regressor__learning_rate=0.45, regressor__max_depth=5, regressor__n_estimators=700, regressor__reg_alpha=0.01, regressor__reg_lambda=0.5;, score=-9504.766 total time=  48.7s\n",
      "[CV 1/2] END regressor__learning_rate=0.45, regressor__max_depth=5, regressor__n_estimators=700, regressor__reg_alpha=0.01, regressor__reg_lambda=0.6;, score=-7658.293 total time=  48.9s\n",
      "[CV 2/2] END regressor__learning_rate=0.45, regressor__max_depth=5, regressor__n_estimators=700, regressor__reg_alpha=0.01, regressor__reg_lambda=0.6;, score=-9491.504 total time=  48.3s\n",
      "[CV 1/2] END regressor__learning_rate=0.45, regressor__max_depth=5, regressor__n_estimators=700, regressor__reg_alpha=0.2, regressor__reg_lambda=0.4;, score=-7680.083 total time=  52.3s\n",
      "[CV 2/2] END regressor__learning_rate=0.45, regressor__max_depth=5, regressor__n_estimators=700, regressor__reg_alpha=0.2, regressor__reg_lambda=0.4;, score=-9415.918 total time=  46.2s\n",
      "[CV 1/2] END regressor__learning_rate=0.45, regressor__max_depth=5, regressor__n_estimators=700, regressor__reg_alpha=0.2, regressor__reg_lambda=0.5;, score=-7699.276 total time=  50.6s\n",
      "[CV 2/2] END regressor__learning_rate=0.45, regressor__max_depth=5, regressor__n_estimators=700, regressor__reg_alpha=0.2, regressor__reg_lambda=0.5;, score=-9504.762 total time=  48.4s\n",
      "[CV 1/2] END regressor__learning_rate=0.45, regressor__max_depth=5, regressor__n_estimators=700, regressor__reg_alpha=0.2, regressor__reg_lambda=0.6;, score=-7672.186 total time=  48.5s\n",
      "[CV 2/2] END regressor__learning_rate=0.45, regressor__max_depth=5, regressor__n_estimators=700, regressor__reg_alpha=0.2, regressor__reg_lambda=0.6;, score=-9491.500 total time=  48.7s\n",
      "Best hyperparameters: {'regressor__learning_rate': 0.4, 'regressor__max_depth': 5, 'regressor__n_estimators': 800, 'regressor__reg_alpha': 0.1, 'regressor__reg_lambda': 0.5}\n"
     ]
    }
   ],
   "source": [
    "from sklearn.model_selection import GridSearchCV\n",
    "\n",
    "# Define the hyperparameter grid\n",
    "param_grid = {\n",
    "    'regressor__learning_rate': [0.35, 0.4, 0.45],   # Example learning rate values\n",
    "    'regressor__max_depth': [4,6,5], # Example max depth values\n",
    "    'regressor__n_estimators': [750, 800, 700],        # Example number of estimators values\n",
    "    'regressor__reg_alpha': [0.1, 0.01, 0.2],    # Example reg_alpha values\n",
    "    'regressor__reg_lambda': [0.4, 0.5, 0.6]\n",
    "}\n",
    "\n",
    "# Create the grid search object\n",
    "grid_search = GridSearchCV(pipeline, param_grid=param_grid, cv=2, scoring='neg_mean_squared_error', verbose=3)\n",
    "\n",
    "# Fit the grid search to the training data\n",
    "grid_search.fit(X_train, y_train)\n",
    "\n",
    "# Get the best hyperparameter values\n",
    "best_params = grid_search.best_params_\n",
    "print(\"Best hyperparameters:\", best_params)"
   ],
   "metadata": {
    "collapsed": false,
    "ExecuteTime": {
     "end_time": "2023-07-08T09:12:01.031773Z",
     "start_time": "2023-07-07T16:59:41.432335Z"
    }
   }
  },
  {
   "cell_type": "code",
   "execution_count": 7,
   "outputs": [
    {
     "name": "stdout",
     "output_type": "stream",
     "text": [
      "Mean Squared Error (MSE): 5512.727392059254\n",
      "Mean Absolute Error (MAE): 32.01084412750564\n",
      "R-squared Score (R2): 0.7719765052992508\n"
     ]
    }
   ],
   "source": [
    "from sklearn.metrics import mean_squared_error, mean_absolute_error, r2_score\n",
    "\n",
    "# Get the best model\n",
    "pipeline.fit(X_train,y_train)\n",
    "\n",
    "# Make predictions on the test data\n",
    "y_pred = pipeline.predict(X_test)\n",
    "\n",
    "# Calculate evaluation scores\n",
    "mse = mean_squared_error(y_test, y_pred)\n",
    "mae = mean_absolute_error(y_test, y_pred)\n",
    "r2 = r2_score(y_test, y_pred)\n",
    "\n",
    "# Print the evaluation scores\n",
    "print(\"Mean Squared Error (MSE):\", mse)\n",
    "print(\"Mean Absolute Error (MAE):\", mae)\n",
    "print(\"R-squared Score (R2):\", r2)"
   ],
   "metadata": {
    "collapsed": false,
    "ExecuteTime": {
     "end_time": "2023-07-12T15:46:41.629542Z",
     "start_time": "2023-07-12T15:44:37.151406Z"
    }
   }
  },
  {
   "cell_type": "markdown",
   "source": [
    "s{'regressor__learning_rate': 0.4, 'regressor__max_depth': 5, 'regressor__n_estimators': 600}\n",
    "Mean Squared Error (MSE): 5425.178881957048\n",
    "Mean Absolute Error (MAE): 31.84385378820371\n",
    "R-squared Score (R2): 0.7755977830823867"
   ],
   "metadata": {
    "collapsed": false
   }
  },
  {
   "cell_type": "markdown",
   "source": [],
   "metadata": {
    "collapsed": false
   }
  },
  {
   "cell_type": "code",
   "execution_count": 10,
   "outputs": [
    {
     "data": {
      "text/plain": "<Figure size 640x480 with 1 Axes>",
      "image/png": "[encoded data removed]"
     },
     "metadata": {},
     "output_type": "display_data"
    }
   ],
   "source": [
    "import matplotlib.pyplot as plt\n",
    "\n",
    "plt.scatter(y_test, y_pred, s=10)\n",
    "plt.plot([y_test.min(), y_test.max()], [y_test.min(), y_test.max()], 'k--', lw=2)  # Plotting the diagonal line\n",
    "plt.xlabel('Valores test ')\n",
    "plt.ylabel('Valores predichos')\n",
    "plt.show()"
   ],
   "metadata": {
    "collapsed": false,
    "ExecuteTime": {
     "end_time": "2023-07-11T16:21:50.320362Z",
     "start_time": "2023-07-11T16:21:49.892973Z"
    }
   }
  },
  {
   "cell_type": "code",
   "execution_count": 8,
   "outputs": [
    {
     "name": "stdout",
     "output_type": "stream",
     "text": [
      "1500.511\n",
      "-129.0608\n",
      "1.0\n"
     ]
    },
    {
     "name": "stderr",
     "output_type": "stream",
     "text": [
      "/var/folders/gh/yt97y6vj0_79f2lwfvsdnjpw0000gn/T/ipykernel_31916/1514194886.py:13: SettingWithCopyWarning: \n",
      "A value is trying to be set on a copy of a slice from a DataFrame.\n",
      "Try using .loc[row_indexer,col_indexer] = value instead\n",
      "\n",
      "See the caveats in the documentation: https://pandas.pydata.org/pandas-docs/stable/user_guide/indexing.html#returning-a-view-versus-a-copy\n",
      "  predicted_data_month6['PredictedValues'] = predicted_data_month6['PredictedValues'].clip(lower=1)\n"
     ]
    }
   ],
   "source": [
    "predicted_data = X_test[['meterId','latitude', 'longitude', 'month']].copy()\n",
    "predicted_data['PredictedValues'] = y_pred  # Assuming y_pred contains the predicted values\n",
    "predicted_data.reset_index(drop=True, inplace=True)\n",
    "\n",
    "new_df = predicted_data.groupby('meterId').agg({'latitude': 'first', 'longitude': 'first', 'month': 'first', 'PredictedValues': 'sum'}).reset_index()\n",
    "new_df.head()\n",
    "new_df.dropna(inplace=True)\n",
    "\n",
    "# Filter predicted_data for month 6\n",
    "predicted_data_month6 = predicted_data[predicted_data['month'] == 6]\n",
    "print(predicted_data_month6['PredictedValues'].max())\n",
    "print(predicted_data_month6['PredictedValues'].min())\n",
    "predicted_data_month6['PredictedValues'] = predicted_data_month6['PredictedValues'].clip(lower=1)\n",
    "print(predicted_data_month6['PredictedValues'].min())"
   ],
   "metadata": {
    "collapsed": false,
    "ExecuteTime": {
     "end_time": "2023-07-12T15:46:41.667397Z",
     "start_time": "2023-07-12T15:46:41.632900Z"
    }
   }
  },
  {
   "cell_type": "code",
   "execution_count": 30,
   "outputs": [
    {
     "data": {
      "text/plain": "'density_map_id1_month6.html'"
     },
     "execution_count": 30,
     "metadata": {},
     "output_type": "execute_result"
    }
   ],
   "source": [
    "import plotly.graph_objects as go\n",
    "from plotly.offline import plot\n",
    "\n",
    "scaling_factor = 0.1\n",
    "\n",
    "fig = go.Figure(go.Densitymapbox(\n",
    "    lat=predicted_data_month6['latitude'],\n",
    "    lon=predicted_data_month6['longitude'],\n",
    "    z=predicted_data_month6['PredictedValues']*scaling_factor,\n",
    "    radius=predicted_data_month6['PredictedValues']*scaling_factor+1,  # Increase the radius value to make the dots bigger\n",
    "    colorscale = 'YlOrRd',\n",
    "    opacity=0.75,\n",
    "    showscale=False\n",
    "))\n",
    "\n",
    "fig.update_layout(mapbox_style=\"stamen-terrain\")\n",
    "fig.update_layout(\n",
    "    margin={\"r\": 0, \"t\": 0, \"l\": 0, \"b\": 0},\n",
    "    mapbox_center={\"lat\": 43.1167, \"lon\": -2.55},\n",
    "    mapbox_zoom=9.25, # Adjust the zoom level as desired\n",
    "\n",
    ")\n",
    "\n",
    "# Generate an HTML file with the plot\n",
    "plot(fig, filename='density_map_id1_month6.html')"
   ],
   "metadata": {
    "collapsed": false,
    "ExecuteTime": {
     "end_time": "2023-07-11T16:47:49.746469Z",
     "start_time": "2023-07-11T16:47:49.558475Z"
    }
   }
  },
  {
   "cell_type": "code",
   "execution_count": 9,
   "outputs": [],
   "source": [
    "new_df.to_csv('predictions/predicted_data_id1_2022.csv', index=False)"
   ],
   "metadata": {
    "collapsed": false,
    "ExecuteTime": {
     "end_time": "2023-07-12T15:46:41.667943Z",
     "start_time": "2023-07-12T15:46:41.648775Z"
    }
   }
  },
  {
   "cell_type": "code",
   "execution_count": null,
   "outputs": [],
   "source": [],
   "metadata": {
    "collapsed": false
   }
  }
 ],
 "metadata": {
  "kernelspec": {
   "display_name": "tfm_venv",
   "language": "python",
   "name": "python3"
  },
  "language_info": {
   "codemirror_mode": {
    "name": "ipython",
    "version": 3
   },
   "file_extension": ".py",
   "mimetype": "text/x-python",
   "name": "python",
   "nbconvert_exporter": "python",
   "pygments_lexer": "ipython3",
   "version": "3.11.3"
  },
  "orig_nbformat": 4
 },
 "nbformat": 4,
 "nbformat_minor": 2
}
