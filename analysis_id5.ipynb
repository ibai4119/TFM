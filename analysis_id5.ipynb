{
 "cells": [
  {
   "cell_type": "code",
   "execution_count": 1,
   "metadata": {
    "collapsed": true,
    "ExecuteTime": {
     "end_time": "2023-07-11T18:03:50.730655Z",
     "start_time": "2023-07-11T18:03:43.859253Z"
    }
   },
   "outputs": [
    {
     "data": {
      "text/plain": "         meterId  sourceId  totalVehicles  provinceId  municipalityId   \n1433928      489         5              0          48              20  \\\n1433929      490         5            168          48              20   \n1433930      491         5            168          48              20   \n1433931      492         5              0          48              20   \n1433932      493         5            175          48              20   \n\n          latitude  longitude  year  month  day  hour  minute  \n1433928  43.263880  -2.929052  2022      4   13    23       0  \n1433929  43.261185  -2.946759  2022      4   13    23       0  \n1433930  43.262466  -2.946243  2022      4   13    23       0  \n1433931  43.263866  -2.945667  2022      4   13    23       0  \n1433932  43.264891  -2.945473  2022      4   13    23       0  ",
      "text/html": "<div>\n<style scoped>\n    .dataframe tbody tr th:only-of-type {\n        vertical-align: middle;\n    }\n\n    .dataframe tbody tr th {\n        vertical-align: top;\n    }\n\n    .dataframe thead th {\n        text-align: right;\n    }\n</style>\n<table border=\"1\" class=\"dataframe\">\n  <thead>\n    <tr style=\"text-align: right;\">\n      <th></th>\n      <th>meterId</th>\n      <th>sourceId</th>\n      <th>totalVehicles</th>\n      <th>provinceId</th>\n      <th>municipalityId</th>\n      <th>latitude</th>\n      <th>longitude</th>\n      <th>year</th>\n      <th>month</th>\n      <th>day</th>\n      <th>hour</th>\n      <th>minute</th>\n    </tr>\n  </thead>\n  <tbody>\n    <tr>\n      <th>1433928</th>\n      <td>489</td>\n      <td>5</td>\n      <td>0</td>\n      <td>48</td>\n      <td>20</td>\n      <td>43.263880</td>\n      <td>-2.929052</td>\n      <td>2022</td>\n      <td>4</td>\n      <td>13</td>\n      <td>23</td>\n      <td>0</td>\n    </tr>\n    <tr>\n      <th>1433929</th>\n      <td>490</td>\n      <td>5</td>\n      <td>168</td>\n      <td>48</td>\n      <td>20</td>\n      <td>43.261185</td>\n      <td>-2.946759</td>\n      <td>2022</td>\n      <td>4</td>\n      <td>13</td>\n      <td>23</td>\n      <td>0</td>\n    </tr>\n    <tr>\n      <th>1433930</th>\n      <td>491</td>\n      <td>5</td>\n      <td>168</td>\n      <td>48</td>\n      <td>20</td>\n      <td>43.262466</td>\n      <td>-2.946243</td>\n      <td>2022</td>\n      <td>4</td>\n      <td>13</td>\n      <td>23</td>\n      <td>0</td>\n    </tr>\n    <tr>\n      <th>1433931</th>\n      <td>492</td>\n      <td>5</td>\n      <td>0</td>\n      <td>48</td>\n      <td>20</td>\n      <td>43.263866</td>\n      <td>-2.945667</td>\n      <td>2022</td>\n      <td>4</td>\n      <td>13</td>\n      <td>23</td>\n      <td>0</td>\n    </tr>\n    <tr>\n      <th>1433932</th>\n      <td>493</td>\n      <td>5</td>\n      <td>175</td>\n      <td>48</td>\n      <td>20</td>\n      <td>43.264891</td>\n      <td>-2.945473</td>\n      <td>2022</td>\n      <td>4</td>\n      <td>13</td>\n      <td>23</td>\n      <td>0</td>\n    </tr>\n  </tbody>\n</table>\n</div>"
     },
     "execution_count": 1,
     "metadata": {},
     "output_type": "execute_result"
    }
   ],
   "source": [
    "import pandas as pd\n",
    "\n",
    "data = pd.read_csv(\"final_data_to_train.csv\")\n",
    "filtered_data_id5 = data[data['sourceId'] == 5]\n",
    "\n",
    "filtered_data_id5.head()"
   ]
  },
  {
   "cell_type": "code",
   "execution_count": 2,
   "outputs": [
    {
     "data": {
      "text/plain": "         meterId  sourceId  totalVehicles  provinceId  municipalityId   \n1433928      489         5              0          48              20  \\\n1433929      490         5            168          48              20   \n1433930      491         5            168          48              20   \n1433931      492         5              0          48              20   \n1433932      493         5            175          48              20   \n\n          latitude  longitude  year  month  day  hour  minute  \n1433928  43.263880  -2.929052  2022      4   13    23       0  \n1433929  43.261185  -2.946759  2022      4   13    23       0  \n1433930  43.262466  -2.946243  2022      4   13    23       0  \n1433931  43.263866  -2.945667  2022      4   13    23       0  \n1433932  43.264891  -2.945473  2022      4   13    23       0  ",
      "text/html": "<div>\n<style scoped>\n    .dataframe tbody tr th:only-of-type {\n        vertical-align: middle;\n    }\n\n    .dataframe tbody tr th {\n        vertical-align: top;\n    }\n\n    .dataframe thead th {\n        text-align: right;\n    }\n</style>\n<table border=\"1\" class=\"dataframe\">\n  <thead>\n    <tr style=\"text-align: right;\">\n      <th></th>\n      <th>meterId</th>\n      <th>sourceId</th>\n      <th>totalVehicles</th>\n      <th>provinceId</th>\n      <th>municipalityId</th>\n      <th>latitude</th>\n      <th>longitude</th>\n      <th>year</th>\n      <th>month</th>\n      <th>day</th>\n      <th>hour</th>\n      <th>minute</th>\n    </tr>\n  </thead>\n  <tbody>\n    <tr>\n      <th>1433928</th>\n      <td>489</td>\n      <td>5</td>\n      <td>0</td>\n      <td>48</td>\n      <td>20</td>\n      <td>43.263880</td>\n      <td>-2.929052</td>\n      <td>2022</td>\n      <td>4</td>\n      <td>13</td>\n      <td>23</td>\n      <td>0</td>\n    </tr>\n    <tr>\n      <th>1433929</th>\n      <td>490</td>\n      <td>5</td>\n      <td>168</td>\n      <td>48</td>\n      <td>20</td>\n      <td>43.261185</td>\n      <td>-2.946759</td>\n      <td>2022</td>\n      <td>4</td>\n      <td>13</td>\n      <td>23</td>\n      <td>0</td>\n    </tr>\n    <tr>\n      <th>1433930</th>\n      <td>491</td>\n      <td>5</td>\n      <td>168</td>\n      <td>48</td>\n      <td>20</td>\n      <td>43.262466</td>\n      <td>-2.946243</td>\n      <td>2022</td>\n      <td>4</td>\n      <td>13</td>\n      <td>23</td>\n      <td>0</td>\n    </tr>\n    <tr>\n      <th>1433931</th>\n      <td>492</td>\n      <td>5</td>\n      <td>0</td>\n      <td>48</td>\n      <td>20</td>\n      <td>43.263866</td>\n      <td>-2.945667</td>\n      <td>2022</td>\n      <td>4</td>\n      <td>13</td>\n      <td>23</td>\n      <td>0</td>\n    </tr>\n    <tr>\n      <th>1433932</th>\n      <td>493</td>\n      <td>5</td>\n      <td>175</td>\n      <td>48</td>\n      <td>20</td>\n      <td>43.264891</td>\n      <td>-2.945473</td>\n      <td>2022</td>\n      <td>4</td>\n      <td>13</td>\n      <td>23</td>\n      <td>0</td>\n    </tr>\n  </tbody>\n</table>\n</div>"
     },
     "execution_count": 2,
     "metadata": {},
     "output_type": "execute_result"
    }
   ],
   "source": [
    "filtered_data_id5 = filtered_data_id5.dropna()\n",
    "filtered_data_id5.head()"
   ],
   "metadata": {
    "collapsed": false,
    "ExecuteTime": {
     "end_time": "2023-07-11T18:03:50.855044Z",
     "start_time": "2023-07-11T18:03:50.729551Z"
    }
   }
  },
  {
   "cell_type": "code",
   "execution_count": 3,
   "outputs": [
    {
     "name": "stdout",
     "output_type": "stream",
     "text": [
      "Done\n"
     ]
    }
   ],
   "source": [
    "from sklearn.preprocessing import StandardScaler\n",
    "from sklearn.compose import ColumnTransformer\n",
    "from sklearn.model_selection import train_test_split\n",
    "from sklearn.pipeline import Pipeline\n",
    "import xgboost as xgb\n",
    "\n",
    "X = filtered_data_id5.drop(columns=['totalVehicles', 'sourceId', 'provinceId'])\n",
    "y = filtered_data_id5['totalVehicles']\n",
    "\n",
    "numerical_vars = ['meterId','municipalityId','latitude','longitude','year','month','day', 'hour', 'minute']\n",
    "\n",
    "\n",
    "X_train, X_test, y_train, y_test = train_test_split(X, y, test_size=0.2, random_state=42)\n",
    "\n",
    "preprocessor = ColumnTransformer(\n",
    "    transformers = [('num', StandardScaler(), numerical_vars)]\n",
    ")\n",
    "\n",
    "pipeline = Pipeline([\n",
    "    ('preprocessor', preprocessor),\n",
    "    ('regressor', xgb.XGBRegressor(learning_rate=0.1, max_depth=15, n_estimators=200))\n",
    "])\n",
    "\n",
    "print('Done')"
   ],
   "metadata": {
    "collapsed": false,
    "ExecuteTime": {
     "end_time": "2023-07-11T18:03:51.888043Z",
     "start_time": "2023-07-11T18:03:50.856301Z"
    }
   }
  },
  {
   "cell_type": "code",
   "execution_count": 4,
   "outputs": [
    {
     "name": "stdout",
     "output_type": "stream",
     "text": [
      "Mean Squared Error (MSE): 83572.8320206717\n",
      "Mean Absolute Error (MAE): 109.17421793186375\n",
      "R-squared Score (R2): 0.770775488738656\n"
     ]
    }
   ],
   "source": [
    "from sklearn.metrics import mean_squared_error, mean_absolute_error, r2_score\n",
    "\n",
    "pipeline.fit(X_train,y_train)\n",
    "\n",
    "# Make predictions on the test data\n",
    "y_pred = pipeline.predict(X_test)\n",
    "\n",
    "# Calculate evaluation scores\n",
    "mse = mean_squared_error(y_test, y_pred)\n",
    "mae = mean_absolute_error(y_test, y_pred)\n",
    "r2 = r2_score(y_test, y_pred)\n",
    "\n",
    "# Print the evaluation scores\n",
    "print(\"Mean Squared Error (MSE):\", mse)\n",
    "print(\"Mean Absolute Error (MAE):\", mae)\n",
    "print(\"R-squared Score (R2):\", r2)"
   ],
   "metadata": {
    "collapsed": false,
    "ExecuteTime": {
     "end_time": "2023-07-11T18:11:40.304894Z",
     "start_time": "2023-07-11T18:03:51.933894Z"
    }
   }
  },
  {
   "cell_type": "code",
   "execution_count": 5,
   "outputs": [
    {
     "data": {
      "text/plain": "<Figure size 640x480 with 1 Axes>",
      "image/png": "[encoded data removed]"
     },
     "metadata": {},
     "output_type": "display_data"
    }
   ],
   "source": [
    "import matplotlib.pyplot as plt\n",
    "\n",
    "# Plotting predicted values vs. test values\n",
    "plt.scatter(y_test, y_pred, s=10)\n",
    "plt.plot([y_test.min(), y_test.max()], [y_test.min(), y_test.max()], 'k--', lw=2)  # Plotting the diagonal line\n",
    "plt.xlabel('Valores test ')\n",
    "plt.ylabel('Valores predichos')\n",
    "plt.show()"
   ],
   "metadata": {
    "collapsed": false,
    "ExecuteTime": {
     "end_time": "2023-07-11T18:11:40.830303Z",
     "start_time": "2023-07-11T18:11:40.306992Z"
    }
   }
  },
  {
   "cell_type": "code",
   "execution_count": 6,
   "outputs": [
    {
     "name": "stdout",
     "output_type": "stream",
     "text": [
      "6480.868\n",
      "-676.2918\n",
      "1.0\n"
     ]
    },
    {
     "name": "stderr",
     "output_type": "stream",
     "text": [
      "/var/folders/gh/yt97y6vj0_79f2lwfvsdnjpw0000gn/T/ipykernel_25234/153920253.py:13: SettingWithCopyWarning: \n",
      "A value is trying to be set on a copy of a slice from a DataFrame.\n",
      "Try using .loc[row_indexer,col_indexer] = value instead\n",
      "\n",
      "See the caveats in the documentation: https://pandas.pydata.org/pandas-docs/stable/user_guide/indexing.html#returning-a-view-versus-a-copy\n",
      "  predicted_data_month5['PredictedValues'] = predicted_data_month5['PredictedValues'].clip(lower=1)\n"
     ]
    }
   ],
   "source": [
    "predicted_data = X_test[['meterId','latitude', 'longitude', 'month']].copy()\n",
    "predicted_data['PredictedValues'] = y_pred  # Assuming y_pred contains the predicted values\n",
    "predicted_data.reset_index(drop=True, inplace=True)\n",
    "\n",
    "new_df = predicted_data.groupby('meterId').agg({'latitude': 'first', 'longitude': 'first', 'month': 'first', 'PredictedValues': 'sum'}).reset_index()\n",
    "new_df.head()\n",
    "new_df.dropna(inplace=True)\n",
    "\n",
    "# Filter predicted_data for month 6\n",
    "predicted_data_month5 = predicted_data[predicted_data['month'] == 6]\n",
    "print(predicted_data_month5['PredictedValues'].max())\n",
    "print(predicted_data_month5['PredictedValues'].min())\n",
    "predicted_data_month5['PredictedValues'] = predicted_data_month5['PredictedValues'].clip(lower=1)\n",
    "print(predicted_data_month5['PredictedValues'].min())"
   ],
   "metadata": {
    "collapsed": false,
    "ExecuteTime": {
     "end_time": "2023-07-11T18:24:44.024121Z",
     "start_time": "2023-07-11T18:24:43.995481Z"
    }
   }
  },
  {
   "cell_type": "code",
   "execution_count": 23,
   "outputs": [
    {
     "data": {
      "text/plain": "'density_map_id5_month6.html'"
     },
     "execution_count": 23,
     "metadata": {},
     "output_type": "execute_result"
    }
   ],
   "source": [
    "import plotly.graph_objects as go\n",
    "from plotly.offline import plot\n",
    "\n",
    "scaling_factor = 0.05\n",
    "\n",
    "fig = go.Figure(go.Densitymapbox(\n",
    "    lat=predicted_data_month5['latitude'],\n",
    "    lon=predicted_data_month5['longitude'],\n",
    "    z=predicted_data_month5['PredictedValues']*scaling_factor,\n",
    "    radius=predicted_data_month5['PredictedValues']*scaling_factor+1,  # Increase the radius value to make the dots bigger\n",
    "    colorscale = 'YlOrRd',\n",
    "    opacity=0.75,\n",
    "    showscale=False\n",
    "))\n",
    "\n",
    "fig.update_layout(mapbox_style=\"stamen-terrain\")\n",
    "fig.update_layout(\n",
    "    margin={\"r\": 0, \"t\": 0, \"l\": 0, \"b\": 0},\n",
    "    mapbox_center={\"lat\": 43.2532, \"lon\": -2.9240},  # Set the center coordinates to Vitoria/Gasteiz\n",
    "    mapbox_zoom=13.5, # Adjust the zoom level as desired\n",
    "\n",
    ")\n",
    "\n",
    "# Generate an HTML file with the plot\n",
    "plot(fig, filename='density_map_id5_month6.html')"
   ],
   "metadata": {
    "collapsed": false,
    "ExecuteTime": {
     "end_time": "2023-07-12T16:10:21.097187Z",
     "start_time": "2023-07-12T16:10:20.614044Z"
    }
   }
  },
  {
   "cell_type": "code",
   "execution_count": 22,
   "outputs": [],
   "source": [
    "new_df.to_csv('predictions/predicted_data_id5_2022.csv', index=False)"
   ],
   "metadata": {
    "collapsed": false,
    "ExecuteTime": {
     "end_time": "2023-07-12T15:43:15.747541Z",
     "start_time": "2023-07-12T15:43:15.718075Z"
    }
   }
  },
  {
   "cell_type": "code",
   "execution_count": null,
   "outputs": [],
   "source": [],
   "metadata": {
    "collapsed": false
   }
  }
 ],
 "metadata": {
  "kernelspec": {
   "display_name": "Python 3",
   "language": "python",
   "name": "python3"
  },
  "language_info": {
   "codemirror_mode": {
    "name": "ipython",
    "version": 2
   },
   "file_extension": ".py",
   "mimetype": "text/x-python",
   "name": "python",
   "nbconvert_exporter": "python",
   "pygments_lexer": "ipython2",
   "version": "2.7.6"
  }
 },
 "nbformat": 4,
 "nbformat_minor": 0
}
