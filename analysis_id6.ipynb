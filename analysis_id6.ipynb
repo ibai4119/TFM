{
 "cells": [
  {
   "cell_type": "code",
   "execution_count": 1,
   "metadata": {
    "collapsed": true,
    "ExecuteTime": {
     "end_time": "2023-07-12T16:13:53.914980Z",
     "start_time": "2023-07-12T16:13:46.356437Z"
    }
   },
   "outputs": [
    {
     "data": {
      "text/plain": "         meterId  sourceId  totalVehicles  provinceId  municipalityId   \n5600764     7131         6             58           1              59  \\\n5600765     7130         6             52           1              59   \n5600766     5791         6             52           1              59   \n5600767     5790         6             59           1              59   \n5600768     7126         6              3           1              59   \n\n          latitude  longitude  year  month  day  hour  minute  \n5600764  42.854425  -2.673455  2022      4    2     0      30  \n5600765  42.852978  -2.673627  2022      4    2     0      30  \n5600766  42.845867  -2.667962  2022      4    2     0      30  \n5600767  42.846433  -2.667790  2022      4    2     0      30  \n5600768  42.849391  -2.687960  2022      4    2     0      30  ",
      "text/html": "<div>\n<style scoped>\n    .dataframe tbody tr th:only-of-type {\n        vertical-align: middle;\n    }\n\n    .dataframe tbody tr th {\n        vertical-align: top;\n    }\n\n    .dataframe thead th {\n        text-align: right;\n    }\n</style>\n<table border=\"1\" class=\"dataframe\">\n  <thead>\n    <tr style=\"text-align: right;\">\n      <th></th>\n      <th>meterId</th>\n      <th>sourceId</th>\n      <th>totalVehicles</th>\n      <th>provinceId</th>\n      <th>municipalityId</th>\n      <th>latitude</th>\n      <th>longitude</th>\n      <th>year</th>\n      <th>month</th>\n      <th>day</th>\n      <th>hour</th>\n      <th>minute</th>\n    </tr>\n  </thead>\n  <tbody>\n    <tr>\n      <th>5600764</th>\n      <td>7131</td>\n      <td>6</td>\n      <td>58</td>\n      <td>1</td>\n      <td>59</td>\n      <td>42.854425</td>\n      <td>-2.673455</td>\n      <td>2022</td>\n      <td>4</td>\n      <td>2</td>\n      <td>0</td>\n      <td>30</td>\n    </tr>\n    <tr>\n      <th>5600765</th>\n      <td>7130</td>\n      <td>6</td>\n      <td>52</td>\n      <td>1</td>\n      <td>59</td>\n      <td>42.852978</td>\n      <td>-2.673627</td>\n      <td>2022</td>\n      <td>4</td>\n      <td>2</td>\n      <td>0</td>\n      <td>30</td>\n    </tr>\n    <tr>\n      <th>5600766</th>\n      <td>5791</td>\n      <td>6</td>\n      <td>52</td>\n      <td>1</td>\n      <td>59</td>\n      <td>42.845867</td>\n      <td>-2.667962</td>\n      <td>2022</td>\n      <td>4</td>\n      <td>2</td>\n      <td>0</td>\n      <td>30</td>\n    </tr>\n    <tr>\n      <th>5600767</th>\n      <td>5790</td>\n      <td>6</td>\n      <td>59</td>\n      <td>1</td>\n      <td>59</td>\n      <td>42.846433</td>\n      <td>-2.667790</td>\n      <td>2022</td>\n      <td>4</td>\n      <td>2</td>\n      <td>0</td>\n      <td>30</td>\n    </tr>\n    <tr>\n      <th>5600768</th>\n      <td>7126</td>\n      <td>6</td>\n      <td>3</td>\n      <td>1</td>\n      <td>59</td>\n      <td>42.849391</td>\n      <td>-2.687960</td>\n      <td>2022</td>\n      <td>4</td>\n      <td>2</td>\n      <td>0</td>\n      <td>30</td>\n    </tr>\n  </tbody>\n</table>\n</div>"
     },
     "execution_count": 1,
     "metadata": {},
     "output_type": "execute_result"
    }
   ],
   "source": [
    "import pandas as pd\n",
    "\n",
    "data = pd.read_csv(\"final_data_to_train.csv\")\n",
    "filtered_data_id6 = data[data['sourceId'] == 6]\n",
    "\n",
    "filtered_data_id6.head()"
   ]
  },
  {
   "cell_type": "code",
   "execution_count": 10,
   "outputs": [
    {
     "name": "stdout",
     "output_type": "stream",
     "text": [
      "Done\n"
     ]
    }
   ],
   "source": [
    "from sklearn.preprocessing import StandardScaler\n",
    "from sklearn.compose import ColumnTransformer\n",
    "from sklearn.model_selection import train_test_split\n",
    "from sklearn.pipeline import Pipeline\n",
    "import xgboost as xgb\n",
    "\n",
    "X = filtered_data_id6.drop(columns=['totalVehicles','sourceId', 'provinceId', 'year'])\n",
    "y = filtered_data_id6['totalVehicles']\n",
    "\n",
    "numerical_vars = ['meterId','municipalityId','latitude','longitude','month','day', 'hour', 'minute']\n",
    "\n",
    "X_train, X_test, y_train, y_test = train_test_split(X, y, test_size=0.2, random_state=42)\n",
    "\n",
    "preprocessor = ColumnTransformer(\n",
    "    transformers = [('num', StandardScaler(), numerical_vars)]\n",
    ")\n",
    "\n",
    "pipeline = Pipeline([\n",
    "    ('preprocessor', preprocessor),\n",
    "    ('regressor', xgb.XGBRegressor(learning_rate=0.1, max_depth=15, n_estimators=300))\n",
    "])\n",
    "print('Done')"
   ],
   "metadata": {
    "collapsed": false,
    "ExecuteTime": {
     "end_time": "2023-07-12T16:16:35.515496Z",
     "start_time": "2023-07-12T16:16:34.121503Z"
    }
   }
  },
  {
   "cell_type": "code",
   "execution_count": 3,
   "outputs": [
    {
     "name": "stdout",
     "output_type": "stream",
     "text": [
      "Fitting 2 folds for each of 27 candidates, totalling 54 fits\n",
      "[CV 1/2] END regressor__learning_rate=0.01, regressor__max_depth=5, regressor__n_estimators=100;, score=0.191 total time= 3.3min\n",
      "[CV 2/2] END regressor__learning_rate=0.01, regressor__max_depth=5, regressor__n_estimators=100;, score=0.191 total time= 3.3min\n",
      "[CV 1/2] END regressor__learning_rate=0.01, regressor__max_depth=5, regressor__n_estimators=220;, score=0.352 total time= 7.4min\n",
      "[CV 2/2] END regressor__learning_rate=0.01, regressor__max_depth=5, regressor__n_estimators=220;, score=0.349 total time= 7.3min\n",
      "[CV 1/2] END regressor__learning_rate=0.01, regressor__max_depth=5, regressor__n_estimators=300;, score=0.407 total time= 9.8min\n",
      "[CV 2/2] END regressor__learning_rate=0.01, regressor__max_depth=5, regressor__n_estimators=300;, score=0.406 total time= 9.9min\n",
      "[CV 1/2] END regressor__learning_rate=0.01, regressor__max_depth=10, regressor__n_estimators=100;, score=0.432 total time= 7.1min\n",
      "[CV 2/2] END regressor__learning_rate=0.01, regressor__max_depth=10, regressor__n_estimators=100;, score=0.431 total time= 7.3min\n",
      "[CV 1/2] END regressor__learning_rate=0.01, regressor__max_depth=10, regressor__n_estimators=220;, score=0.642 total time=16.3min\n",
      "[CV 2/2] END regressor__learning_rate=0.01, regressor__max_depth=10, regressor__n_estimators=220;, score=0.637 total time=16.0min\n",
      "[CV 1/2] END regressor__learning_rate=0.01, regressor__max_depth=10, regressor__n_estimators=300;, score=0.693 total time=22.0min\n",
      "[CV 2/2] END regressor__learning_rate=0.01, regressor__max_depth=10, regressor__n_estimators=300;, score=0.690 total time=20.9min\n",
      "[CV 1/2] END regressor__learning_rate=0.01, regressor__max_depth=15, regressor__n_estimators=100;, score=0.602 total time= 6.4min\n",
      "[CV 2/2] END regressor__learning_rate=0.01, regressor__max_depth=15, regressor__n_estimators=100;, score=0.602 total time= 6.4min\n",
      "[CV 1/2] END regressor__learning_rate=0.01, regressor__max_depth=15, regressor__n_estimators=220;, score=0.787 total time=14.1min\n",
      "[CV 2/2] END regressor__learning_rate=0.01, regressor__max_depth=15, regressor__n_estimators=220;, score=0.786 total time=14.1min\n",
      "[CV 1/2] END regressor__learning_rate=0.01, regressor__max_depth=15, regressor__n_estimators=300;, score=0.822 total time=19.5min\n",
      "[CV 2/2] END regressor__learning_rate=0.01, regressor__max_depth=15, regressor__n_estimators=300;, score=0.819 total time=19.5min\n",
      "[CV 1/2] END regressor__learning_rate=0.1, regressor__max_depth=5, regressor__n_estimators=100;, score=0.624 total time= 1.9min\n",
      "[CV 2/2] END regressor__learning_rate=0.1, regressor__max_depth=5, regressor__n_estimators=100;, score=0.617 total time= 1.9min\n",
      "[CV 1/2] END regressor__learning_rate=0.1, regressor__max_depth=5, regressor__n_estimators=220;, score=0.717 total time= 4.1min\n",
      "[CV 2/2] END regressor__learning_rate=0.1, regressor__max_depth=5, regressor__n_estimators=220;, score=0.717 total time= 4.1min\n",
      "[CV 1/2] END regressor__learning_rate=0.1, regressor__max_depth=5, regressor__n_estimators=300;, score=0.741 total time= 5.6min\n",
      "[CV 2/2] END regressor__learning_rate=0.1, regressor__max_depth=5, regressor__n_estimators=300;, score=0.741 total time= 5.6min\n",
      "[CV 1/2] END regressor__learning_rate=0.1, regressor__max_depth=10, regressor__n_estimators=100;, score=0.825 total time= 4.0min\n",
      "[CV 2/2] END regressor__learning_rate=0.1, regressor__max_depth=10, regressor__n_estimators=100;, score=0.822 total time= 4.0min\n",
      "[CV 1/2] END regressor__learning_rate=0.1, regressor__max_depth=10, regressor__n_estimators=220;, score=0.865 total time=11.1min\n",
      "[CV 2/2] END regressor__learning_rate=0.1, regressor__max_depth=10, regressor__n_estimators=220;, score=0.863 total time=15.4min\n",
      "[CV 1/2] END regressor__learning_rate=0.1, regressor__max_depth=10, regressor__n_estimators=300;, score=0.876 total time=21.6min\n",
      "[CV 2/2] END regressor__learning_rate=0.1, regressor__max_depth=10, regressor__n_estimators=300;, score=0.875 total time=21.8min\n",
      "[CV 1/2] END regressor__learning_rate=0.1, regressor__max_depth=15, regressor__n_estimators=100;, score=0.902 total time=11.1min\n",
      "[CV 2/2] END regressor__learning_rate=0.1, regressor__max_depth=15, regressor__n_estimators=100;, score=0.899 total time=11.2min\n",
      "[CV 1/2] END regressor__learning_rate=0.1, regressor__max_depth=15, regressor__n_estimators=220;, score=0.921 total time=24.8min\n",
      "[CV 2/2] END regressor__learning_rate=0.1, regressor__max_depth=15, regressor__n_estimators=220;, score=0.921 total time=24.2min\n",
      "[CV 1/2] END regressor__learning_rate=0.1, regressor__max_depth=15, regressor__n_estimators=300;, score=0.925 total time=32.5min\n",
      "[CV 2/2] END regressor__learning_rate=0.1, regressor__max_depth=15, regressor__n_estimators=300;, score=0.925 total time=33.2min\n",
      "[CV 1/2] END regressor__learning_rate=0.5, regressor__max_depth=5, regressor__n_estimators=100;, score=0.772 total time= 2.2min\n",
      "[CV 2/2] END regressor__learning_rate=0.5, regressor__max_depth=5, regressor__n_estimators=100;, score=0.772 total time= 3.3min\n",
      "[CV 1/2] END regressor__learning_rate=0.5, regressor__max_depth=5, regressor__n_estimators=220;, score=0.807 total time= 8.4min\n",
      "[CV 2/2] END regressor__learning_rate=0.5, regressor__max_depth=5, regressor__n_estimators=220;, score=0.805 total time= 6.9min\n",
      "[CV 1/2] END regressor__learning_rate=0.5, regressor__max_depth=5, regressor__n_estimators=300;, score=0.816 total time= 8.0min\n",
      "[CV 2/2] END regressor__learning_rate=0.5, regressor__max_depth=5, regressor__n_estimators=300;, score=0.814 total time=11.6min\n",
      "[CV 1/2] END regressor__learning_rate=0.5, regressor__max_depth=10, regressor__n_estimators=100;, score=0.887 total time= 8.6min\n",
      "[CV 2/2] END regressor__learning_rate=0.5, regressor__max_depth=10, regressor__n_estimators=100;, score=0.885 total time= 7.9min\n",
      "[CV 1/2] END regressor__learning_rate=0.5, regressor__max_depth=10, regressor__n_estimators=220;, score=0.904 total time=15.3min\n",
      "[CV 2/2] END regressor__learning_rate=0.5, regressor__max_depth=10, regressor__n_estimators=220;, score=0.903 total time=13.0min\n",
      "[CV 1/2] END regressor__learning_rate=0.5, regressor__max_depth=10, regressor__n_estimators=300;, score=0.908 total time=20.9min\n",
      "[CV 2/2] END regressor__learning_rate=0.5, regressor__max_depth=10, regressor__n_estimators=300;, score=0.908 total time=21.4min\n",
      "[CV 1/2] END regressor__learning_rate=0.5, regressor__max_depth=15, regressor__n_estimators=100;, score=0.921 total time=11.2min\n",
      "[CV 2/2] END regressor__learning_rate=0.5, regressor__max_depth=15, regressor__n_estimators=100;, score=0.922 total time=11.4min\n",
      "[CV 1/2] END regressor__learning_rate=0.5, regressor__max_depth=15, regressor__n_estimators=220;, score=0.918 total time=25.2min\n",
      "[CV 2/2] END regressor__learning_rate=0.5, regressor__max_depth=15, regressor__n_estimators=220;, score=0.920 total time=23.6min\n",
      "[CV 1/2] END regressor__learning_rate=0.5, regressor__max_depth=15, regressor__n_estimators=300;, score=0.917 total time=1171.4min\n",
      "[CV 2/2] END regressor__learning_rate=0.5, regressor__max_depth=15, regressor__n_estimators=300;, score=0.918 total time=34.6min\n",
      "Best hyperparameters: {'regressor__learning_rate': 0.1, 'regressor__max_depth': 15, 'regressor__n_estimators': 300}\n"
     ]
    }
   ],
   "source": [
    "from sklearn.model_selection import GridSearchCV\n",
    "\n",
    "# Define the hyperparameter grid\n",
    "param_grid = {\n",
    "    'regressor__learning_rate': [0.01, 0.1, 0.5],     # Example learning rate values\n",
    "    'regressor__max_depth': [5, 10, 15],              # Example max depth values\n",
    "    'regressor__n_estimators': [100, 220, 300]        # Example number of estimators values\n",
    "}\n",
    "\n",
    "# Create the grid search object\n",
    "grid_search = GridSearchCV(pipeline, param_grid=param_grid, cv=2, scoring='r2', verbose=3)\n",
    "\n",
    "# Fit the grid search to the training data\n",
    "grid_search.fit(X_train, y_train)\n",
    "\n",
    "# Get the best hyperparameter values\n",
    "best_params = grid_search.best_params_\n",
    "print(\"Best hyperparameters:\", best_params)"
   ],
   "metadata": {
    "collapsed": false,
    "ExecuteTime": {
     "end_time": "2023-07-10T16:25:51.908512Z",
     "start_time": "2023-07-09T09:17:11.644324Z"
    }
   }
  },
  {
   "cell_type": "code",
   "execution_count": 11,
   "outputs": [
    {
     "name": "stdout",
     "output_type": "stream",
     "text": [
      "Mean Squared Error (MSE): 211.60030111233493\n",
      "Mean Absolute Error (MAE): 7.053164586511197\n",
      "R-squared Score (R2): 0.9351422947322535\n"
     ]
    }
   ],
   "source": [
    "from sklearn.metrics import mean_squared_error, mean_absolute_error, r2_score\n",
    "\n",
    "# Get the best model\n",
    "pipeline.fit(X_train,y_train)\n",
    "\n",
    "# Make predictions on the test data\n",
    "y_pred = pipeline.predict(X_test)\n",
    "\n",
    "# Calculate evaluation scores\n",
    "mse = mean_squared_error(y_test, y_pred)\n",
    "mae = mean_absolute_error(y_test, y_pred)\n",
    "r2 = r2_score(y_test, y_pred)\n",
    "\n",
    "# Print the evaluation scores\n",
    "print(\"Mean Squared Error (MSE):\", mse)\n",
    "print(\"Mean Absolute Error (MAE):\", mae)\n",
    "print(\"R-squared Score (R2):\", r2)"
   ],
   "metadata": {
    "collapsed": false,
    "ExecuteTime": {
     "end_time": "2023-07-12T16:26:18.676286Z",
     "start_time": "2023-07-12T16:16:37.813816Z"
    }
   }
  },
  {
   "cell_type": "code",
   "execution_count": 6,
   "outputs": [
    {
     "data": {
      "text/plain": "<Figure size 1000x600 with 1 Axes>",
      "image/png": "[encoded data removed]"
     },
     "metadata": {},
     "output_type": "display_data"
    }
   ],
   "source": [
    "import matplotlib.pyplot as plt\n",
    "best_pipeline = grid_search.best_estimator_\n",
    "xgb_model = best_pipeline.named_steps['regressor']\n",
    "\n",
    "# Get feature importance scores of the XGBoost model\n",
    "importance_scores = xgb_model.feature_importances_\n",
    "\n",
    "# Sort features based on their importance scores\n",
    "sorted_indices = importance_scores.argsort()[::-1]\n",
    "\n",
    "# Select the top-k features\n",
    "k = 8  # Adjust the value of k as needed\n",
    "\n",
    "feature_names = ['meterId', 'municipalityId', 'latitude', 'longitude', 'year', 'month',\n",
    "       'day', 'hour', 'minute']\n",
    "\n",
    "# Get the feature names corresponding to the selected features\n",
    "selected_feature_names = [feature_names[i] for i in sorted_indices[:k]]\n",
    "\n",
    "# Get the importance scores of the selected features\n",
    "selected_importances = importance_scores[:k]\n",
    "\n",
    "# Plot the feature importances\n",
    "plt.figure(figsize=(10, 6))\n",
    "plt.bar(range(k), selected_importances, tick_label=selected_feature_names)\n",
    "plt.xlabel('Variables')\n",
    "plt.ylabel('Importancia')\n",
    "plt.xticks(rotation=45)\n",
    "plt.show()"
   ],
   "metadata": {
    "collapsed": false,
    "ExecuteTime": {
     "end_time": "2023-07-10T16:37:06.091900Z",
     "start_time": "2023-07-10T16:37:05.849109Z"
    }
   }
  },
  {
   "cell_type": "code",
   "execution_count": 9,
   "outputs": [
    {
     "data": {
      "text/plain": "<Figure size 640x480 with 1 Axes>",
      "image/png": "[encoded data removed]"
     },
     "metadata": {},
     "output_type": "display_data"
    }
   ],
   "source": [
    "# Plotting predicted values vs. test values\n",
    "plt.scatter(y_test, y_pred, s=10)\n",
    "plt.plot([y_test.min(), y_test.max()], [y_test.min(), y_test.max()], 'k--', lw=2)  # Plotting the diagonal line\n",
    "plt.xlabel('Valores test ')\n",
    "plt.ylabel('Valores predichos')\n",
    "plt.show()"
   ],
   "metadata": {
    "collapsed": false,
    "ExecuteTime": {
     "end_time": "2023-07-10T17:41:37.038289Z",
     "start_time": "2023-07-10T17:41:36.022580Z"
    }
   }
  },
  {
   "cell_type": "code",
   "execution_count": 12,
   "outputs": [],
   "source": [
    "\n",
    "predicted_data = X_test[['meterId','latitude', 'longitude', 'month']].copy()\n",
    "predicted_data['PredictedValues'] = y_pred  # Assuming y_pred contains the predicted values\n"
   ],
   "metadata": {
    "collapsed": false,
    "ExecuteTime": {
     "end_time": "2023-07-12T16:26:18.947369Z",
     "start_time": "2023-07-12T16:26:18.680298Z"
    }
   }
  },
  {
   "cell_type": "code",
   "execution_count": 32,
   "outputs": [
    {
     "data": {
      "text/plain": "          meterId   latitude  longitude  month  PredictedValues\n10793263     6773  42.839385  -2.696458      3        54.081573\n11280202     9953  42.857178  -2.668986      2        -0.832366\n12092614     8498  42.861723  -2.673455     11        52.157112\n12975342     6799  42.858154  -2.673562      9       138.123505\n11822453     5943  42.841399  -2.686587     11       112.208702",
      "text/html": "<div>\n<style scoped>\n    .dataframe tbody tr th:only-of-type {\n        vertical-align: middle;\n    }\n\n    .dataframe tbody tr th {\n        vertical-align: top;\n    }\n\n    .dataframe thead th {\n        text-align: right;\n    }\n</style>\n<table border=\"1\" class=\"dataframe\">\n  <thead>\n    <tr style=\"text-align: right;\">\n      <th></th>\n      <th>meterId</th>\n      <th>latitude</th>\n      <th>longitude</th>\n      <th>month</th>\n      <th>PredictedValues</th>\n    </tr>\n  </thead>\n  <tbody>\n    <tr>\n      <th>10793263</th>\n      <td>6773</td>\n      <td>42.839385</td>\n      <td>-2.696458</td>\n      <td>3</td>\n      <td>54.081573</td>\n    </tr>\n    <tr>\n      <th>11280202</th>\n      <td>9953</td>\n      <td>42.857178</td>\n      <td>-2.668986</td>\n      <td>2</td>\n      <td>-0.832366</td>\n    </tr>\n    <tr>\n      <th>12092614</th>\n      <td>8498</td>\n      <td>42.861723</td>\n      <td>-2.673455</td>\n      <td>11</td>\n      <td>52.157112</td>\n    </tr>\n    <tr>\n      <th>12975342</th>\n      <td>6799</td>\n      <td>42.858154</td>\n      <td>-2.673562</td>\n      <td>9</td>\n      <td>138.123505</td>\n    </tr>\n    <tr>\n      <th>11822453</th>\n      <td>5943</td>\n      <td>42.841399</td>\n      <td>-2.686587</td>\n      <td>11</td>\n      <td>112.208702</td>\n    </tr>\n  </tbody>\n</table>\n</div>"
     },
     "execution_count": 32,
     "metadata": {},
     "output_type": "execute_result"
    }
   ],
   "source": [
    "predicted_data.head()"
   ],
   "metadata": {
    "collapsed": false,
    "ExecuteTime": {
     "end_time": "2023-07-10T19:22:00.944992Z",
     "start_time": "2023-07-10T19:22:00.940215Z"
    }
   }
  },
  {
   "cell_type": "code",
   "execution_count": 13,
   "outputs": [],
   "source": [
    "predicted_data.reset_index(drop=True, inplace=True)"
   ],
   "metadata": {
    "collapsed": false,
    "ExecuteTime": {
     "end_time": "2023-07-12T16:26:18.968563Z",
     "start_time": "2023-07-12T16:26:18.696585Z"
    }
   }
  },
  {
   "cell_type": "code",
   "execution_count": 38,
   "outputs": [
    {
     "name": "stdout",
     "output_type": "stream",
     "text": [
      "meterId\n",
      " 6452     7140\n",
      " 7469     7099\n",
      " 6831     7095\n",
      " 4298     7081\n",
      " 8466     7078\n",
      "          ... \n",
      " 4282     5604\n",
      "-1        1026\n",
      " 11522     383\n",
      " 11516     377\n",
      " 4877      365\n",
      "Name: count, Length: 308, dtype: int64\n"
     ]
    }
   ],
   "source": [
    "print(predicted_data['meterId'].value_counts())"
   ],
   "metadata": {
    "collapsed": false,
    "ExecuteTime": {
     "end_time": "2023-07-11T15:17:36.480070Z",
     "start_time": "2023-07-11T15:17:36.475894Z"
    }
   }
  },
  {
   "cell_type": "code",
   "execution_count": 39,
   "outputs": [
    {
     "name": "stdout",
     "output_type": "stream",
     "text": [
      "month  meterId\n",
      "1      645        33086.945312\n",
      "       736        13205.892578\n",
      "       1064       38714.679688\n",
      "       1065       25045.214844\n",
      "       1067       24726.572266\n",
      "                      ...     \n",
      "12     11556      51840.921875\n",
      "       11584      30815.148438\n",
      "       11676      55819.066406\n",
      "       11937       4085.569092\n",
      "       11948      12086.669922\n",
      "Name: PredictedValues, Length: 3651, dtype: float32\n"
     ]
    }
   ],
   "source": [
    "# Assuming your DataFrame has 'month', 'meterId', and 'value' columns\n",
    "sum_values = predicted_data.groupby(['month', 'meterId'])['PredictedValues'].sum()\n",
    "print(sum_values)\n"
   ],
   "metadata": {
    "collapsed": false,
    "ExecuteTime": {
     "end_time": "2023-07-11T15:18:59.904556Z",
     "start_time": "2023-07-11T15:18:59.837716Z"
    }
   }
  },
  {
   "cell_type": "code",
   "execution_count": 14,
   "outputs": [
    {
     "data": {
      "text/plain": "   meterId   latitude  longitude  month  PredictedValues\n0       -1        NaN        NaN     12     44615.292969\n1      645  42.839218  -2.696132      3    400082.125000\n2      736  42.859863  -2.672838      2    161694.406250\n3     1064  42.861267  -2.672445      3    466190.437500\n4     1065  42.837341  -2.698278     11    343335.093750",
      "text/html": "<div>\n<style scoped>\n    .dataframe tbody tr th:only-of-type {\n        vertical-align: middle;\n    }\n\n    .dataframe tbody tr th {\n        vertical-align: top;\n    }\n\n    .dataframe thead th {\n        text-align: right;\n    }\n</style>\n<table border=\"1\" class=\"dataframe\">\n  <thead>\n    <tr style=\"text-align: right;\">\n      <th></th>\n      <th>meterId</th>\n      <th>latitude</th>\n      <th>longitude</th>\n      <th>month</th>\n      <th>PredictedValues</th>\n    </tr>\n  </thead>\n  <tbody>\n    <tr>\n      <th>0</th>\n      <td>-1</td>\n      <td>NaN</td>\n      <td>NaN</td>\n      <td>12</td>\n      <td>44615.292969</td>\n    </tr>\n    <tr>\n      <th>1</th>\n      <td>645</td>\n      <td>42.839218</td>\n      <td>-2.696132</td>\n      <td>3</td>\n      <td>400082.125000</td>\n    </tr>\n    <tr>\n      <th>2</th>\n      <td>736</td>\n      <td>42.859863</td>\n      <td>-2.672838</td>\n      <td>2</td>\n      <td>161694.406250</td>\n    </tr>\n    <tr>\n      <th>3</th>\n      <td>1064</td>\n      <td>42.861267</td>\n      <td>-2.672445</td>\n      <td>3</td>\n      <td>466190.437500</td>\n    </tr>\n    <tr>\n      <th>4</th>\n      <td>1065</td>\n      <td>42.837341</td>\n      <td>-2.698278</td>\n      <td>11</td>\n      <td>343335.093750</td>\n    </tr>\n  </tbody>\n</table>\n</div>"
     },
     "execution_count": 14,
     "metadata": {},
     "output_type": "execute_result"
    }
   ],
   "source": [
    "# Assuming your DataFrame has 'meterId', 'lat', 'lon', 'month', and 'value' columns\n",
    "new_df = predicted_data.groupby('meterId').agg({'latitude': 'first', 'longitude': 'first', 'month': 'first', 'PredictedValues': 'sum'}).reset_index()\n",
    "new_df.head()\n"
   ],
   "metadata": {
    "collapsed": false,
    "ExecuteTime": {
     "end_time": "2023-07-12T16:26:18.970909Z",
     "start_time": "2023-07-12T16:26:18.701414Z"
    }
   }
  },
  {
   "cell_type": "code",
   "execution_count": 41,
   "outputs": [
    {
     "name": "stdout",
     "output_type": "stream",
     "text": [
      "     meterId   latitude  longitude  month  PredictedValues\n",
      "0         -1        NaN        NaN     12     44615.292969\n",
      "1        645  42.839218  -2.696132      3    400082.125000\n",
      "2        736  42.859863  -2.672838      2    161694.406250\n",
      "3       1064  42.861267  -2.672445      3    466190.437500\n",
      "4       1065  42.837341  -2.698278     11    343335.093750\n",
      "..       ...        ...        ...    ...              ...\n",
      "303    11556  42.852158  -2.694100      1    572260.750000\n",
      "304    11584  42.856812  -2.675727     10    318588.281250\n",
      "305    11676  42.854309  -2.673229     10    559151.125000\n",
      "306    11937  42.858505  -2.686018      1     25197.410156\n",
      "307    11948  42.851395  -2.684467     12     92258.515625\n",
      "\n",
      "[308 rows x 5 columns]\n"
     ]
    }
   ],
   "source": [
    "print(new_df)"
   ],
   "metadata": {
    "collapsed": false,
    "ExecuteTime": {
     "end_time": "2023-07-11T15:22:51.467117Z",
     "start_time": "2023-07-11T15:22:51.461929Z"
    }
   }
  },
  {
   "cell_type": "code",
   "execution_count": 15,
   "outputs": [],
   "source": [
    "new_df.dropna(inplace=True)"
   ],
   "metadata": {
    "collapsed": false,
    "ExecuteTime": {
     "end_time": "2023-07-12T16:26:18.971510Z",
     "start_time": "2023-07-12T16:26:18.736993Z"
    }
   }
  },
  {
   "cell_type": "code",
   "execution_count": 16,
   "outputs": [],
   "source": [
    "# Filter predicted_data for month 6\n",
    "predicted_data_month6 = predicted_data[predicted_data['month'] == 6]"
   ],
   "metadata": {
    "collapsed": false,
    "ExecuteTime": {
     "end_time": "2023-07-12T16:26:18.972165Z",
     "start_time": "2023-07-12T16:26:18.739793Z"
    }
   }
  },
  {
   "cell_type": "code",
   "execution_count": 52,
   "outputs": [
    {
     "name": "stdout",
     "output_type": "stream",
     "text": [
      "515.21027\n"
     ]
    }
   ],
   "source": [
    "print(predicted_data_month6['PredictedValues'].max())"
   ],
   "metadata": {
    "collapsed": false,
    "ExecuteTime": {
     "end_time": "2023-07-11T15:38:25.591233Z",
     "start_time": "2023-07-11T15:38:25.585398Z"
    }
   }
  },
  {
   "cell_type": "code",
   "execution_count": 17,
   "outputs": [
    {
     "name": "stderr",
     "output_type": "stream",
     "text": [
      "/var/folders/gh/yt97y6vj0_79f2lwfvsdnjpw0000gn/T/ipykernel_34252/4140530298.py:1: SettingWithCopyWarning:\n",
      "\n",
      "\n",
      "A value is trying to be set on a copy of a slice from a DataFrame.\n",
      "Try using .loc[row_indexer,col_indexer] = value instead\n",
      "\n",
      "See the caveats in the documentation: https://pandas.pydata.org/pandas-docs/stable/user_guide/indexing.html#returning-a-view-versus-a-copy\n",
      "\n"
     ]
    }
   ],
   "source": [
    "predicted_data_month6['PredictedValues'] = predicted_data_month6['PredictedValues'].clip(lower=1)"
   ],
   "metadata": {
    "collapsed": false,
    "ExecuteTime": {
     "end_time": "2023-07-12T16:26:18.973555Z",
     "start_time": "2023-07-12T16:26:18.751993Z"
    }
   }
  },
  {
   "cell_type": "code",
   "execution_count": 18,
   "outputs": [
    {
     "name": "stdout",
     "output_type": "stream",
     "text": [
      "1.0\n"
     ]
    }
   ],
   "source": [
    "print(predicted_data_month6['PredictedValues'].min())"
   ],
   "metadata": {
    "collapsed": false,
    "ExecuteTime": {
     "end_time": "2023-07-12T16:26:18.974082Z",
     "start_time": "2023-07-12T16:26:18.910939Z"
    }
   }
  },
  {
   "cell_type": "code",
   "execution_count": 23,
   "outputs": [],
   "source": [
    "import plotly.graph_objects as go\n",
    "from plotly.offline import plot\n",
    "\n",
    "scaling_factor = 0.05\n",
    "\n",
    "fig = go.Figure(go.Densitymapbox(\n",
    "    lat=predicted_data_month6['latitude'],\n",
    "    lon=predicted_data_month6['longitude'],\n",
    "    z=predicted_data_month6['PredictedValues']*scaling_factor,\n",
    "    radius=predicted_data_month6['PredictedValues']*scaling_factor+1,  # Increase the radius value to make the dots bigger\n",
    "    colorscale = 'YlOrRd',\n",
    "    opacity=0.75,\n",
    "    showscale=False\n",
    "))\n",
    "\n",
    "fig.update_layout(mapbox_style=\"stamen-terrain\")\n",
    "fig.update_layout(\n",
    "    margin={\"r\": 0, \"t\": 0, \"l\": 0, \"b\": 0},\n",
    "    mapbox_center={\"lat\": 42.8496, \"lon\": -2.6729},  # Set the center coordinates to Vitoria/Gasteiz\n",
    "    mapbox_zoom=13  # Adjust the zoom level as desired\n",
    ")\n",
    "\n",
    "# Generate an HTML file with the plot\n",
    "plot(fig, filename='density_map_id6_month6.html')\n"
   ],
   "metadata": {
    "collapsed": false
   }
  },
  {
   "cell_type": "code",
   "execution_count": 73,
   "outputs": [],
   "source": [
    "new_df.to_csv('predictions/predicted_data_id6_2022.csv', index=False)"
   ],
   "metadata": {
    "collapsed": false,
    "ExecuteTime": {
     "end_time": "2023-07-11T16:12:17.349328Z",
     "start_time": "2023-07-11T16:12:17.330590Z"
    }
   }
  },
  {
   "cell_type": "code",
   "execution_count": null,
   "outputs": [],
   "source": [],
   "metadata": {
    "collapsed": false
   }
  }
 ],
 "metadata": {
  "kernelspec": {
   "display_name": "Python 3",
   "language": "python",
   "name": "python3"
  },
  "language_info": {
   "codemirror_mode": {
    "name": "ipython",
    "version": 2
   },
   "file_extension": ".py",
   "mimetype": "text/x-python",
   "name": "python",
   "nbconvert_exporter": "python",
   "pygments_lexer": "ipython2",
   "version": "2.7.6"
  }
 },
 "nbformat": 4,
 "nbformat_minor": 0
}
