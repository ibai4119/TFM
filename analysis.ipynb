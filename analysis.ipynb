{
 "cells": [
  {
   "cell_type": "code",
   "execution_count": 1,
   "outputs": [
    {
     "data": {
      "text/plain": "   meterId  sourceId  totalVehicles  provinceId  municipalityId  latitude   \n0      123         1            166          48              11   43.1954  \\\n1      118         1            160          48              11   43.1954   \n2      119         1            242          48              11   43.1954   \n3      120         1             94          48              11   43.1954   \n4      122         1            419          48              11   43.1954   \n\n   longitude  year  month  day  hour  minute  \n0    -2.8954  2022      5   10    17      30  \n1    -2.8954  2022      5   10    18       0  \n2    -2.8954  2022      5   10    18       0  \n3    -2.8954  2022      5   10    18       0  \n4    -2.8954  2022      5   10    18       0  ",
      "text/html": "<div>\n<style scoped>\n    .dataframe tbody tr th:only-of-type {\n        vertical-align: middle;\n    }\n\n    .dataframe tbody tr th {\n        vertical-align: top;\n    }\n\n    .dataframe thead th {\n        text-align: right;\n    }\n</style>\n<table border=\"1\" class=\"dataframe\">\n  <thead>\n    <tr style=\"text-align: right;\">\n      <th></th>\n      <th>meterId</th>\n      <th>sourceId</th>\n      <th>totalVehicles</th>\n      <th>provinceId</th>\n      <th>municipalityId</th>\n      <th>latitude</th>\n      <th>longitude</th>\n      <th>year</th>\n      <th>month</th>\n      <th>day</th>\n      <th>hour</th>\n      <th>minute</th>\n    </tr>\n  </thead>\n  <tbody>\n    <tr>\n      <th>0</th>\n      <td>123</td>\n      <td>1</td>\n      <td>166</td>\n      <td>48</td>\n      <td>11</td>\n      <td>43.1954</td>\n      <td>-2.8954</td>\n      <td>2022</td>\n      <td>5</td>\n      <td>10</td>\n      <td>17</td>\n      <td>30</td>\n    </tr>\n    <tr>\n      <th>1</th>\n      <td>118</td>\n      <td>1</td>\n      <td>160</td>\n      <td>48</td>\n      <td>11</td>\n      <td>43.1954</td>\n      <td>-2.8954</td>\n      <td>2022</td>\n      <td>5</td>\n      <td>10</td>\n      <td>18</td>\n      <td>0</td>\n    </tr>\n    <tr>\n      <th>2</th>\n      <td>119</td>\n      <td>1</td>\n      <td>242</td>\n      <td>48</td>\n      <td>11</td>\n      <td>43.1954</td>\n      <td>-2.8954</td>\n      <td>2022</td>\n      <td>5</td>\n      <td>10</td>\n      <td>18</td>\n      <td>0</td>\n    </tr>\n    <tr>\n      <th>3</th>\n      <td>120</td>\n      <td>1</td>\n      <td>94</td>\n      <td>48</td>\n      <td>11</td>\n      <td>43.1954</td>\n      <td>-2.8954</td>\n      <td>2022</td>\n      <td>5</td>\n      <td>10</td>\n      <td>18</td>\n      <td>0</td>\n    </tr>\n    <tr>\n      <th>4</th>\n      <td>122</td>\n      <td>1</td>\n      <td>419</td>\n      <td>48</td>\n      <td>11</td>\n      <td>43.1954</td>\n      <td>-2.8954</td>\n      <td>2022</td>\n      <td>5</td>\n      <td>10</td>\n      <td>18</td>\n      <td>0</td>\n    </tr>\n  </tbody>\n</table>\n</div>"
     },
     "execution_count": 1,
     "metadata": {},
     "output_type": "execute_result"
    }
   ],
   "source": [
    "import pandas as pd\n",
    "final_df = pd.read_csv(\"final_data_to_train.csv\")\n",
    "final_df.head()"
   ],
   "metadata": {
    "collapsed": false,
    "ExecuteTime": {
     "end_time": "2023-07-12T18:09:57.212398Z",
     "start_time": "2023-07-12T18:09:50.206636Z"
    }
   }
  },
  {
   "cell_type": "code",
   "execution_count": 22,
   "outputs": [
    {
     "ename": "EmptyDataError",
     "evalue": "No columns to parse from file",
     "output_type": "error",
     "traceback": [
      "\u001B[0;31m---------------------------------------------------------------------------\u001B[0m",
      "\u001B[0;31mEmptyDataError\u001B[0m                            Traceback (most recent call last)",
      "Cell \u001B[0;32mIn[22], line 1\u001B[0m\n\u001B[0;32m----> 1\u001B[0m df_id1_2023 \u001B[38;5;241m=\u001B[39m \u001B[43mpd\u001B[49m\u001B[38;5;241;43m.\u001B[39;49m\u001B[43mread_csv\u001B[49m\u001B[43m(\u001B[49m\u001B[38;5;124;43m'\u001B[39;49m\u001B[38;5;124;43mflow_2023_id1/flow_2023_3_id1.csv\u001B[39;49m\u001B[38;5;124;43m'\u001B[39;49m\u001B[43m)\u001B[49m\n\u001B[1;32m      2\u001B[0m df_id5_2023 \u001B[38;5;241m=\u001B[39m pd\u001B[38;5;241m.\u001B[39mread_csv(\u001B[38;5;124m'\u001B[39m\u001B[38;5;124mflow_2023_id5/flow_2023_3_id5.csv\u001B[39m\u001B[38;5;124m'\u001B[39m)\n\u001B[1;32m      3\u001B[0m df_id6_2023 \u001B[38;5;241m=\u001B[39m pd\u001B[38;5;241m.\u001B[39mread_csv(\u001B[38;5;124m'\u001B[39m\u001B[38;5;124mflow_2023_id1/flow_2023_3_id1.csv\u001B[39m\u001B[38;5;124m'\u001B[39m)\n",
      "File \u001B[0;32m~/venv/tfm/tfm_venv/lib/python3.11/site-packages/pandas/io/parsers/readers.py:912\u001B[0m, in \u001B[0;36mread_csv\u001B[0;34m(filepath_or_buffer, sep, delimiter, header, names, index_col, usecols, dtype, engine, converters, true_values, false_values, skipinitialspace, skiprows, skipfooter, nrows, na_values, keep_default_na, na_filter, verbose, skip_blank_lines, parse_dates, infer_datetime_format, keep_date_col, date_parser, date_format, dayfirst, cache_dates, iterator, chunksize, compression, thousands, decimal, lineterminator, quotechar, quoting, doublequote, escapechar, comment, encoding, encoding_errors, dialect, on_bad_lines, delim_whitespace, low_memory, memory_map, float_precision, storage_options, dtype_backend)\u001B[0m\n\u001B[1;32m    899\u001B[0m kwds_defaults \u001B[38;5;241m=\u001B[39m _refine_defaults_read(\n\u001B[1;32m    900\u001B[0m     dialect,\n\u001B[1;32m    901\u001B[0m     delimiter,\n\u001B[0;32m   (...)\u001B[0m\n\u001B[1;32m    908\u001B[0m     dtype_backend\u001B[38;5;241m=\u001B[39mdtype_backend,\n\u001B[1;32m    909\u001B[0m )\n\u001B[1;32m    910\u001B[0m kwds\u001B[38;5;241m.\u001B[39mupdate(kwds_defaults)\n\u001B[0;32m--> 912\u001B[0m \u001B[38;5;28;01mreturn\u001B[39;00m \u001B[43m_read\u001B[49m\u001B[43m(\u001B[49m\u001B[43mfilepath_or_buffer\u001B[49m\u001B[43m,\u001B[49m\u001B[43m \u001B[49m\u001B[43mkwds\u001B[49m\u001B[43m)\u001B[49m\n",
      "File \u001B[0;32m~/venv/tfm/tfm_venv/lib/python3.11/site-packages/pandas/io/parsers/readers.py:577\u001B[0m, in \u001B[0;36m_read\u001B[0;34m(filepath_or_buffer, kwds)\u001B[0m\n\u001B[1;32m    574\u001B[0m _validate_names(kwds\u001B[38;5;241m.\u001B[39mget(\u001B[38;5;124m\"\u001B[39m\u001B[38;5;124mnames\u001B[39m\u001B[38;5;124m\"\u001B[39m, \u001B[38;5;28;01mNone\u001B[39;00m))\n\u001B[1;32m    576\u001B[0m \u001B[38;5;66;03m# Create the parser.\u001B[39;00m\n\u001B[0;32m--> 577\u001B[0m parser \u001B[38;5;241m=\u001B[39m \u001B[43mTextFileReader\u001B[49m\u001B[43m(\u001B[49m\u001B[43mfilepath_or_buffer\u001B[49m\u001B[43m,\u001B[49m\u001B[43m \u001B[49m\u001B[38;5;241;43m*\u001B[39;49m\u001B[38;5;241;43m*\u001B[39;49m\u001B[43mkwds\u001B[49m\u001B[43m)\u001B[49m\n\u001B[1;32m    579\u001B[0m \u001B[38;5;28;01mif\u001B[39;00m chunksize \u001B[38;5;129;01mor\u001B[39;00m iterator:\n\u001B[1;32m    580\u001B[0m     \u001B[38;5;28;01mreturn\u001B[39;00m parser\n",
      "File \u001B[0;32m~/venv/tfm/tfm_venv/lib/python3.11/site-packages/pandas/io/parsers/readers.py:1407\u001B[0m, in \u001B[0;36mTextFileReader.__init__\u001B[0;34m(self, f, engine, **kwds)\u001B[0m\n\u001B[1;32m   1404\u001B[0m     \u001B[38;5;28mself\u001B[39m\u001B[38;5;241m.\u001B[39moptions[\u001B[38;5;124m\"\u001B[39m\u001B[38;5;124mhas_index_names\u001B[39m\u001B[38;5;124m\"\u001B[39m] \u001B[38;5;241m=\u001B[39m kwds[\u001B[38;5;124m\"\u001B[39m\u001B[38;5;124mhas_index_names\u001B[39m\u001B[38;5;124m\"\u001B[39m]\n\u001B[1;32m   1406\u001B[0m \u001B[38;5;28mself\u001B[39m\u001B[38;5;241m.\u001B[39mhandles: IOHandles \u001B[38;5;241m|\u001B[39m \u001B[38;5;28;01mNone\u001B[39;00m \u001B[38;5;241m=\u001B[39m \u001B[38;5;28;01mNone\u001B[39;00m\n\u001B[0;32m-> 1407\u001B[0m \u001B[38;5;28mself\u001B[39m\u001B[38;5;241m.\u001B[39m_engine \u001B[38;5;241m=\u001B[39m \u001B[38;5;28;43mself\u001B[39;49m\u001B[38;5;241;43m.\u001B[39;49m\u001B[43m_make_engine\u001B[49m\u001B[43m(\u001B[49m\u001B[43mf\u001B[49m\u001B[43m,\u001B[49m\u001B[43m \u001B[49m\u001B[38;5;28;43mself\u001B[39;49m\u001B[38;5;241;43m.\u001B[39;49m\u001B[43mengine\u001B[49m\u001B[43m)\u001B[49m\n",
      "File \u001B[0;32m~/venv/tfm/tfm_venv/lib/python3.11/site-packages/pandas/io/parsers/readers.py:1679\u001B[0m, in \u001B[0;36mTextFileReader._make_engine\u001B[0;34m(self, f, engine)\u001B[0m\n\u001B[1;32m   1676\u001B[0m     \u001B[38;5;28;01mraise\u001B[39;00m \u001B[38;5;167;01mValueError\u001B[39;00m(msg)\n\u001B[1;32m   1678\u001B[0m \u001B[38;5;28;01mtry\u001B[39;00m:\n\u001B[0;32m-> 1679\u001B[0m     \u001B[38;5;28;01mreturn\u001B[39;00m \u001B[43mmapping\u001B[49m\u001B[43m[\u001B[49m\u001B[43mengine\u001B[49m\u001B[43m]\u001B[49m\u001B[43m(\u001B[49m\u001B[43mf\u001B[49m\u001B[43m,\u001B[49m\u001B[43m \u001B[49m\u001B[38;5;241;43m*\u001B[39;49m\u001B[38;5;241;43m*\u001B[39;49m\u001B[38;5;28;43mself\u001B[39;49m\u001B[38;5;241;43m.\u001B[39;49m\u001B[43moptions\u001B[49m\u001B[43m)\u001B[49m\n\u001B[1;32m   1680\u001B[0m \u001B[38;5;28;01mexcept\u001B[39;00m \u001B[38;5;167;01mException\u001B[39;00m:\n\u001B[1;32m   1681\u001B[0m     \u001B[38;5;28;01mif\u001B[39;00m \u001B[38;5;28mself\u001B[39m\u001B[38;5;241m.\u001B[39mhandles \u001B[38;5;129;01mis\u001B[39;00m \u001B[38;5;129;01mnot\u001B[39;00m \u001B[38;5;28;01mNone\u001B[39;00m:\n",
      "File \u001B[0;32m~/venv/tfm/tfm_venv/lib/python3.11/site-packages/pandas/io/parsers/c_parser_wrapper.py:93\u001B[0m, in \u001B[0;36mCParserWrapper.__init__\u001B[0;34m(self, src, **kwds)\u001B[0m\n\u001B[1;32m     90\u001B[0m \u001B[38;5;28;01mif\u001B[39;00m kwds[\u001B[38;5;124m\"\u001B[39m\u001B[38;5;124mdtype_backend\u001B[39m\u001B[38;5;124m\"\u001B[39m] \u001B[38;5;241m==\u001B[39m \u001B[38;5;124m\"\u001B[39m\u001B[38;5;124mpyarrow\u001B[39m\u001B[38;5;124m\"\u001B[39m:\n\u001B[1;32m     91\u001B[0m     \u001B[38;5;66;03m# Fail here loudly instead of in cython after reading\u001B[39;00m\n\u001B[1;32m     92\u001B[0m     import_optional_dependency(\u001B[38;5;124m\"\u001B[39m\u001B[38;5;124mpyarrow\u001B[39m\u001B[38;5;124m\"\u001B[39m)\n\u001B[0;32m---> 93\u001B[0m \u001B[38;5;28mself\u001B[39m\u001B[38;5;241m.\u001B[39m_reader \u001B[38;5;241m=\u001B[39m \u001B[43mparsers\u001B[49m\u001B[38;5;241;43m.\u001B[39;49m\u001B[43mTextReader\u001B[49m\u001B[43m(\u001B[49m\u001B[43msrc\u001B[49m\u001B[43m,\u001B[49m\u001B[43m \u001B[49m\u001B[38;5;241;43m*\u001B[39;49m\u001B[38;5;241;43m*\u001B[39;49m\u001B[43mkwds\u001B[49m\u001B[43m)\u001B[49m\n\u001B[1;32m     95\u001B[0m \u001B[38;5;28mself\u001B[39m\u001B[38;5;241m.\u001B[39munnamed_cols \u001B[38;5;241m=\u001B[39m \u001B[38;5;28mself\u001B[39m\u001B[38;5;241m.\u001B[39m_reader\u001B[38;5;241m.\u001B[39munnamed_cols\n\u001B[1;32m     97\u001B[0m \u001B[38;5;66;03m# error: Cannot determine type of 'names'\u001B[39;00m\n",
      "File \u001B[0;32m~/venv/tfm/tfm_venv/lib/python3.11/site-packages/pandas/_libs/parsers.pyx:555\u001B[0m, in \u001B[0;36mpandas._libs.parsers.TextReader.__cinit__\u001B[0;34m()\u001B[0m\n",
      "\u001B[0;31mEmptyDataError\u001B[0m: No columns to parse from file"
     ]
    }
   ],
   "source": [
    "df_id1_2023 = pd.read_csv('flow_2023_id1/flow_2023_3_id1.csv')\n",
    "df_id5_2023 = pd.read_csv('flow_2023_id5/flow_2023_3_id5.csv')\n",
    "df_id6_2023 = pd.read_csv('flow_2023_id1/flow_2023_3_id1.csv')"
   ],
   "metadata": {
    "collapsed": false,
    "ExecuteTime": {
     "end_time": "2023-07-12T18:46:42.649774Z",
     "start_time": "2023-07-12T18:46:42.594783Z"
    }
   }
  },
  {
   "cell_type": "code",
   "execution_count": 2,
   "outputs": [
    {
     "name": "stdout",
     "output_type": "stream",
     "text": [
      "Preprocessor initiated\n",
      "Preprocessor ready\n",
      "Fitting pipeline\n",
      "[20:10:05] INFO: /Users/runner/work/xgboost/xgboost/python-package/build/temp.macosx-11.0-arm64-cpython-38/xgboost/src/gbm/gbtree.cc:149: Tree method is automatically selected to be 'approx' for faster speed. To use old behavior (exact greedy algorithm on single machine), set tree_method to 'exact'.\n",
      "[20:10:05] DEBUG: /Users/runner/work/xgboost/xgboost/python-package/build/temp.macosx-11.0-arm64-cpython-38/xgboost/src/gbm/gbtree.cc:157: Using tree method: 1\n",
      "[20:10:05] DEBUG: /Users/runner/work/xgboost/xgboost/python-package/build/temp.macosx-11.0-arm64-cpython-38/xgboost/src/gbm/gbtree.cc:122: Using updaters: grow_histmaker\n",
      "[20:10:05] ======== Monitor (0): TreePruner ========\n",
      "[20:10:05] INFO: /Users/runner/work/xgboost/xgboost/python-package/build/temp.macosx-11.0-arm64-cpython-38/xgboost/src/data/simple_dmatrix.cc:103: Generating new Gradient Index.\n",
      "[20:10:07] ======== Monitor (0): HostSketchContainer ========\n",
      "[20:10:07] AllReduce: 0.002902s, 1 calls @ 2902us\n",
      "\n",
      "[20:10:07] MakeCuts: 0.003048s, 1 calls @ 3048us\n",
      "\n",
      "[20:10:07] PushRowPage: 1.2422s, 1 calls @ 1242203us\n",
      "\n",
      "[20:21:40] ======== Monitor (0): Learner ========\n",
      "[20:21:40] Configure: 0.000511s, 1 calls @ 511us\n",
      "\n",
      "[20:21:40] EvalOneIter: 0.002631s, 250 calls @ 2631us\n",
      "\n",
      "[20:21:40] GetGradient: 1.36498s, 250 calls @ 1364981us\n",
      "\n",
      "[20:21:40] PredictRaw: 0.008405s, 250 calls @ 8405us\n",
      "\n",
      "[20:21:40] UpdateOneIter: 693.92s, 250 calls @ 693920294us\n",
      "\n",
      "[20:21:40] ======== Monitor (0): GBTree ========\n",
      "[20:21:40] BoostNewTrees: 692.54s, 250 calls @ 692540462us\n",
      "\n",
      "[20:21:40] CommitModel: 0.000285s, 250 calls @ 285us\n",
      "\n",
      "[20:21:40] ======== Monitor (0): GlobalApproxUpdater ========\n",
      "[20:21:40] BuildHistogram: 121.3s, 14276 calls @ 121299757us\n",
      "\n",
      "[20:21:40] EvaluateSplits: 8.35215s, 14276 calls @ 8352153us\n",
      "\n",
      "[20:21:40] InitData: 4.16223s, 250 calls @ 4162231us\n",
      "\n",
      "[20:21:40] InitRoot: 8.7096s, 250 calls @ 8709596us\n",
      "\n",
      "[20:21:40] WARNING: /Users/runner/work/xgboost/xgboost/python-package/build/temp.macosx-11.0-arm64-cpython-38/xgboost/src/common/timer.cc:43: Timer for LeafPartition did not get stopped properly.\n",
      "[20:21:40] UpdatePosition: 530.024s, 23143 calls @ 530024270us\n",
      "\n",
      "[20:21:40] UpdatePredictionCache: 9.20154s, 250 calls @ 9201536us\n",
      "\n",
      "pipeline fitted\n",
      "Predictions done, calculating results\n",
      "Mean Absolute Error (MAE): 39.829103710067216\n",
      "Root Mean Squared Error: 151.12985824680945\n",
      "R-squared (R2) Score: 0.8119520161479306\n"
     ]
    }
   ],
   "source": [
    "from sklearn.metrics import mean_absolute_error, mean_squared_error, r2_score\n",
    "from sklearn.preprocessing import StandardScaler\n",
    "from sklearn.compose import ColumnTransformer\n",
    "from sklearn.model_selection import train_test_split\n",
    "from sklearn.pipeline import Pipeline\n",
    "import xgboost as xgb\n",
    "\n",
    "X = final_df.drop(columns='totalVehicles')\n",
    "y = final_df['totalVehicles']\n",
    "\n",
    "numerical_vars = ['meterId', 'sourceId', 'provinceId', 'municipalityId', 'latitude', 'longitude', 'year', 'month',\n",
    "                  'day', 'hour', 'minute']\n",
    "\n",
    "X_train, X_test, y_train, y_test = train_test_split(X, y, test_size=0.2, random_state=42)\n",
    "\n",
    "print(\"Preprocessor initiated\")\n",
    "preprocessor = ColumnTransformer(\n",
    "    transformers=[('num', StandardScaler(), numerical_vars)]\n",
    ")\n",
    "print(\"Preprocessor ready\")\n",
    "\n",
    "pipeline = Pipeline([\n",
    "    ('preprocessor', preprocessor),\n",
    "    ('regressor', xgb.XGBRegressor(learning_rate=0.1, max_depth=15, n_estimators=250))\n",
    "])\n",
    "\n",
    "print(\"Fitting pipeline\")\n",
    "pipeline.fit(X_train, y_train)\n",
    "print(\"pipeline fitted\")\n",
    "\n",
    "y_pred = pipeline.predict(X_test)\n",
    "print(\"Predictions done, calculating results\")\n",
    "\n",
    "mae = mean_absolute_error(y_test, y_pred)\n",
    "rmse = mean_squared_error(y_test, y_pred, squared=False)\n",
    "r2 = r2_score(y_test, y_pred)\n",
    "\n",
    "print(\"Mean Absolute Error (MAE):\", mae)\n",
    "print(\"Root Mean Squared Error:\", rmse)\n",
    "print(\"R-squared (R2) Score:\", r2)"
   ],
   "metadata": {
    "collapsed": false,
    "ExecuteTime": {
     "end_time": "2023-07-12T18:22:03.424542Z",
     "start_time": "2023-07-12T18:09:57.213543Z"
    }
   }
  },
  {
   "cell_type": "markdown",
   "source": [
    "\n",
    "\n",
    "\n",
    "[21:07:28] INFO: /Users/runner/work/xgboost/xgboost/python-package/build/temp.macosx-11.0-arm64-cpython-38/xgboost/src/gbm/gbtree.cc:149: Tree method is automatically selected to be 'approx' for faster speed. To use old behavior (exact greedy algorithm on single machine), set tree_method to 'exact'.\n",
    "[21:07:28] INFO: /Users/runner/work/xgboost/xgboost/python-package/build/temp.macosx-11.0-arm64-cpython-38/xgboost/src/data/simple_dmatrix.cc:103: Generating new Gradient Index.\n",
    "Mean Absolute Error (MAE): 39.829103710067216\n",
    "Root Mean Squared Error: 151.12985824680945\n",
    "R-squared (R2) Score: 0.8119520161479306\n",
    "[21:19:11] INFO: /Users/runner/work/xgboost/xgboost/python-package/build/temp.macosx-11.0-arm64-cpython-38/xgboost/src/gbm/gbtree.cc:149: Tree method is automatically selected to be 'approx' for faster speed. To use old behavior (exact greedy algorithm on single machine), set tree_method to 'exact'.\n",
    "[21:19:11] INFO: /Users/runner/work/xgboost/xgboost/python-package/build/temp.macosx-11.0-arm64-cpython-38/xgboost/src/data/simple_dmatrix.cc:103: Generating new Gradient Index.\n",
    "Mean Absolute Error (MAE): 39.41490500686876\n",
    "Root Mean Squared Error: 152.48055852431978\n",
    "R-squared (R2) Score: 0.8085756946923665\n",
    "[21:30:40] INFO: /Users/runner/work/xgboost/xgboost/python-package/build/temp.macosx-11.0-arm64-cpython-38/xgboost/src/gbm/gbtree.cc:149: Tree method is automatically selected to be 'approx' for faster speed. To use old behavior (exact greedy algorithm on single machine), set tree_method to 'exact'.\n",
    "[21:30:40] INFO: /Users/runner/work/xgboost/xgboost/python-package/build/temp.macosx-11.0-arm64-cpython-38/xgboost/src/data/simple_dmatrix.cc:103: Generating new Gradient Index.\n",
    "Mean Absolute Error (MAE): 39.29073684277533\n",
    "Root Mean Squared Error: 154.1025212624149\n",
    "R-squared (R2) Score: 0.8044816065641709"
   ],
   "metadata": {
    "collapsed": false
   }
  },
  {
   "cell_type": "code",
   "execution_count": 3,
   "outputs": [
    {
     "data": {
      "text/plain": "<Figure size 640x480 with 1 Axes>",
      "image/png": "[encoded data removed]"
     },
     "metadata": {},
     "output_type": "display_data"
    }
   ],
   "source": [
    "import matplotlib.pyplot as plt\n",
    "\n",
    "plt.scatter(y_test, y_pred, s=10)\n",
    "plt.plot([y_test.min(), y_test.max()], [y_test.min(), y_test.max()], 'k--', lw=2)  # Plotting the diagonal line\n",
    "plt.xlabel('Valores test ')\n",
    "plt.ylabel('Valores predichos')\n",
    "plt.show()"
   ],
   "metadata": {
    "collapsed": false,
    "ExecuteTime": {
     "end_time": "2023-07-12T18:22:04.506130Z",
     "start_time": "2023-07-12T18:22:03.426638Z"
    }
   }
  },
  {
   "cell_type": "code",
   "execution_count": 4,
   "outputs": [
    {
     "name": "stdout",
     "output_type": "stream",
     "text": [
      "6215.751\n",
      "-562.1958\n",
      "1.0\n"
     ]
    },
    {
     "name": "stderr",
     "output_type": "stream",
     "text": [
      "/var/folders/gh/yt97y6vj0_79f2lwfvsdnjpw0000gn/T/ipykernel_42115/3107372175.py:9: SettingWithCopyWarning: \n",
      "A value is trying to be set on a copy of a slice from a DataFrame.\n",
      "Try using .loc[row_indexer,col_indexer] = value instead\n",
      "\n",
      "See the caveats in the documentation: https://pandas.pydata.org/pandas-docs/stable/user_guide/indexing.html#returning-a-view-versus-a-copy\n",
      "  predicted_data_month6['PredictedValues'] = predicted_data_month6['PredictedValues'].clip(lower=1)\n"
     ]
    }
   ],
   "source": [
    "predicted_data = X_test[['meterId','latitude', 'longitude', 'month']].copy()\n",
    "predicted_data['PredictedValues'] = y_pred  # Assuming y_pred contains the predicted values\n",
    "predicted_data.reset_index(drop=True, inplace=True)\n",
    "\n",
    "# Filter predicted_data for month 6\n",
    "predicted_data_month6 = predicted_data[predicted_data['month'] == 6]\n",
    "print(predicted_data_month6['PredictedValues'].max())\n",
    "print(predicted_data_month6['PredictedValues'].min())\n",
    "predicted_data_month6['PredictedValues'] = predicted_data_month6['PredictedValues'].clip(lower=1)\n",
    "print(predicted_data_month6['PredictedValues'].min())"
   ],
   "metadata": {
    "collapsed": false,
    "ExecuteTime": {
     "end_time": "2023-07-12T18:25:03.817263Z",
     "start_time": "2023-07-12T18:25:03.774679Z"
    }
   }
  },
  {
   "cell_type": "code",
   "execution_count": 23,
   "outputs": [
    {
     "data": {
      "text/plain": "'density_map_forall_month6.html'"
     },
     "execution_count": 23,
     "metadata": {},
     "output_type": "execute_result"
    }
   ],
   "source": [
    "import plotly.graph_objects as go\n",
    "from plotly.offline import plot\n",
    "import numpy as np\n",
    "\n",
    "scaling_factor = 1.5\n",
    "\n",
    "# Apply logarithmic scaling to the 'PredictedValues' column\n",
    "log_scaled_values = np.log1p(predicted_data_month6['PredictedValues'])\n",
    "scaled_values = log_scaled_values * scaling_factor\n",
    "\n",
    "# Define the range for the colorscale\n",
    "z_min = scaled_values.min()\n",
    "z_max = scaled_values.max()\n",
    "\n",
    "fig = go.Figure(go.Densitymapbox(\n",
    "    lat=predicted_data_month6['latitude'],\n",
    "    lon=predicted_data_month6['longitude'],\n",
    "    z=scaled_values,\n",
    "    radius=scaled_values + 1,\n",
    "    colorscale='Jet',\n",
    "    opacity=0.75,\n",
    "    showscale=False,\n",
    "    zmin=z_min,  # Set the minimum value of the colorscale\n",
    "    zmax=z_max   # Set the maximum value of the colorscale\n",
    "))\n",
    "\n",
    "fig.update_layout(mapbox_style=\"stamen-terrain\")\n",
    "fig.update_layout(\n",
    "    margin={\"r\": 0, \"t\": 0, \"l\": 0, \"b\": 0},\n",
    "    mapbox_center={\"lat\": 43.1167, \"lon\": -2.55},\n",
    "    mapbox_zoom=9.25\n",
    ")\n",
    "\n",
    "# Generate an HTML file with the plot\n",
    "plot(fig, filename='density_map_forall_month6.html')\n"
   ],
   "metadata": {
    "collapsed": false,
    "ExecuteTime": {
     "end_time": "2023-07-12T18:48:52.767249Z",
     "start_time": "2023-07-12T18:48:52.105104Z"
    }
   }
  },
  {
   "cell_type": "code",
   "execution_count": null,
   "outputs": [],
   "source": [],
   "metadata": {
    "collapsed": false
   }
  }
 ],
 "metadata": {
  "kernelspec": {
   "display_name": "Python 3",
   "language": "python",
   "name": "python3"
  },
  "language_info": {
   "codemirror_mode": {
    "name": "ipython",
    "version": 2
   },
   "file_extension": ".py",
   "mimetype": "text/x-python",
   "name": "python",
   "nbconvert_exporter": "python",
   "pygments_lexer": "ipython2",
   "version": "2.7.6"
  }
 },
 "nbformat": 4,
 "nbformat_minor": 0
}
